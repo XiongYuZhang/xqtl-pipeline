{
 "cells": [
  {
   "cell_type": "code",
   "execution_count": null,
   "id": "2602e3bc-d736-469e-8647-815856852324",
   "metadata": {
    "kernel": "SoS",
    "tags": []
   },
   "outputs": [],
   "source": [
    "sos run /mnt/mfs/hgrcgrid/homes/xx2404/xqtl-pipeline/pipeline/gene_annotation.ipynb annotate_coord_gene \\\n",
    "    --cwd /mnt/mfs/hgrcgrid/homes/xx2404/xQTL_output2/data_preprocessing/Mic/phenotype_data \\\n",
    "    --phenoFile /mnt/mfs/statgen/snuc_pseudo_bulk/data/phenotype_data_all/Mic.log2cpm.tsv \\\n",
    "    --annotation-gtf /mnt/vast/hpc/csg/molecular_phenotype_calling/reference_data/Homo_sapiens.GRCh38.103.chr.reformatted.collapse_only.gene.gtf \\\n",
    "    --container /mnt/vast/hpc/csg/containers/rna_quantification.sif --phenotype-id-type gene_name --sample-participant-lookup /mnt/vast/hpc/csg/snuc_pseudo_bulk/eight_celltypes_analysis/data/reference_data/sampleSheetAfterQC.txt \\\n",
    "    -J 50 -c /mnt/vast/hpc/csg/molecular_phenotype_calling/csg.yml -q csg"
   ]
  },
  {
   "cell_type": "code",
   "execution_count": null,
   "id": "2d5d57f9-c5ce-496b-96d1-8e31dbfc9fef",
   "metadata": {
    "kernel": "SoS"
   },
   "outputs": [],
   "source": [
    "zcat /mnt/mfs/hgrcgrid/homes/xx2404/xQTL_output2/data_preprocessing/Mic/phenotype_data/Mic.log2cpm.bed.gz | head"
   ]
  },
  {
   "cell_type": "code",
   "execution_count": null,
   "id": "189ad4a8-f0ff-4068-9893-8a67936fb314",
   "metadata": {
    "kernel": "SoS"
   },
   "outputs": [],
   "source": [
    "import pandas as pd\n",
    "pheno = pd.read_csv('/mnt/mfs/hgrcgrid/homes/xx2404/xQTL_output2/data_preprocessing/Mic/phenotype_data/Mic.log2cpm.bed.gz', sep = '\\t')\n",
    "mean_row = pheno.iloc[:, 4:].mean(axis=1)\n",
    "for i, col in enumerate(pheno.iloc[:, 4:]):\n",
    "    pheno.iloc[:, i+4] = pheno.iloc[:, i+4].fillna(mean_row)"
   ]
  },
  {
   "cell_type": "code",
   "execution_count": null,
   "id": "2dd94a71-a1b4-49b3-ae30-d8016ffca59f",
   "metadata": {
    "kernel": "SoS"
   },
   "outputs": [],
   "source": [
    "#whole bed file\n",
    "pheno.to_csv(\"/mnt/mfs/hgrcgrid/homes/xx2404/xQTL_output2/data_preprocessing/Mic/phenotype_data/rosmap_pheno.bed\", index=None, sep = '\\t')\n",
    "\n",
    "# Bed file for each chr\n",
    "for i, g in pheno.groupby('#chr'):\n",
    "    g.to_csv('/mnt/mfs/hgrcgrid/homes/xx2404/xQTL_output2/data_preprocessing/Mic/phenotype_data/rosmap_pheno_{}.bed'.format(i), index = None, sep = '\\t')"
   ]
  },
  {
   "cell_type": "code",
   "execution_count": null,
   "id": "34006912-393c-49a3-92d7-e6439820976c",
   "metadata": {
    "kernel": "SoS"
   },
   "outputs": [],
   "source": [
    "pheno.to_csv(\"/mnt/mfs/hgrcgrid/homes/xx2404/xQTL_output2/data_preprocessing/Mic/phenotype_data/rosmap_pheno.bed\", index=None, sep = '\\t')"
   ]
  },
  {
   "cell_type": "code",
   "execution_count": null,
   "id": "9ddba2a2-dd0f-473f-a154-4a934663f325",
   "metadata": {
    "kernel": "SoS"
   },
   "outputs": [],
   "source": [
    " module avail\n",
    " module load HTSLIB/1.17\n",
    " bgzip /mnt/mfs/hgrcgrid/homes/xx2404/xQTL_output2/data_preprocessing/Mic/phenotype_data/rosmap_pheno.bed\n",
    " bgzip /mnt/mfs/hgrcgrid/homes/xx2404/xQTL_output2/data_preprocessing/Mic/phenotype_data/rosmap_pheno.bed.gz"
   ]
  }
 ],
 "metadata": {
  "kernelspec": {
   "display_name": "SoS",
   "language": "sos",
   "name": "sos"
  },
  "language_info": {
   "codemirror_mode": "sos",
   "file_extension": ".sos",
   "mimetype": "text/x-sos",
   "name": "sos",
   "nbconvert_exporter": "sos_notebook.converter.SoS_Exporter",
   "pygments_lexer": "sos"
  },
  "sos": {
   "kernels": [
    [
     "SoS",
     "sos",
     "",
     ""
    ]
   ],
   "version": "0.24.1"
  }
 },
 "nbformat": 4,
 "nbformat_minor": 5
}
