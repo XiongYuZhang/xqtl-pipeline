{
 "cells": [
  {
   "cell_type": "code",
   "execution_count": null,
   "id": "961aaa3d-f397-4478-99e2-197001227745",
   "metadata": {
    "kernel": "SoS",
    "tags": []
   },
   "outputs": [],
   "source": [
    "import pandas as pd\n",
    "pheno_data = pd.read_csv(\"/mnt/mfs/hgrcgrid/homes/xx2404/xQTL_output2/data_preprocessing/Mic/phenotype_data/rosmap_pheno.bed\", sep = '\\t')\n",
    "pheno_list = list(pheno_data)\n",
    "geno_data = pd.read_csv(\"/mnt/vast/hpc/csg/molecular_phenotype_calling/genotype/ROSMAP_joint_call_sample_list\", sep = ' ', header = None)\n",
    "geno_list = geno_data[1].values.tolist()\n",
    "sample_overlap_list = [value for value in pheno_list if value in geno_list]\n",
    "sample_participant_lookup  = pd.DataFrame(list(zip(sample_overlap_list, sample_overlap_list)),\n",
    "               columns =['participant_id', 'sample_id'])\n",
    "sample_participant_lookup"
   ]
  },
  {
   "cell_type": "code",
   "execution_count": null,
   "id": "de54ed62-6a13-430d-9b68-cdfa2dd08162",
   "metadata": {
    "kernel": "SoS"
   },
   "outputs": [],
   "source": [
    "ls /mnt/mfs/hgrcgrid/homes/xx2404/xQTL_output2/data_preprocessing/Mic/phenotype_data"
   ]
  },
  {
   "cell_type": "code",
   "execution_count": null,
   "id": "08a9fa68-ba6e-4957-807c-e84ccf0b5490",
   "metadata": {
    "kernel": "SoS"
   },
   "outputs": [],
   "source": [
    "\n",
    "mkdir /mnt/mfs/hgrcgrid/homes/xx2404/xQTL_output2/data_preprocessing/Mic/data_production/geneomics/rosmap/geno"
   ]
  },
  {
   "cell_type": "code",
   "execution_count": null,
   "id": "282c8551-5136-4fca-a067-a93e9c3314c5",
   "metadata": {
    "kernel": "SoS"
   },
   "outputs": [],
   "source": [
    "sample_participant_lookup.to_csv(\"/mnt/mfs/hgrcgrid/homes/xx2404/xQTL_output2/data_preprocessing/Mic/data_production/geneomics/rosmap/geno/sample_participant_lookup.tsv\", index=None, sep = '\\t')\n",
    "sample_participant_lookup.to_csv"
   ]
  },
  {
   "cell_type": "code",
   "execution_count": null,
   "id": "c3fbb5a1-9d69-40d1-bc32-1339d4ffc298",
   "metadata": {
    "kernel": "SoS"
   },
   "outputs": [],
   "source": [
    "\n",
    "mkdir /mnt/mfs/hgrcgrid/homes/xx2404/xQTL_output2/data_preprocessing/Mic/data_production/geneomics/rosmap/pca"
   ]
  },
  {
   "cell_type": "code",
   "execution_count": null,
   "id": "9a9129e0-90f0-4e38-9d7c-a6b1af2977a5",
   "metadata": {
    "kernel": "SoS"
   },
   "outputs": [],
   "source": [
    "sos run /mnt/mfs/hgrcgrid/homes/xx2404/xqtl-pipeline/pipeline/sample_matcher.ipynb filtered_sample_list \\\n",
    "        --cwd /mnt/mfs/hgrcgrid/homes/xx2404/xQTL_output2/data_preprocessing/Mic/data_production/geneomics/rosmap/geno \\\n",
    "        --phenoFile /mnt/mfs/hgrcgrid/homes/xx2404/xQTL_output2/data_preprocessing/Mic/phenotype_data/rosmap_pheno.bed  \\\n",
    "        --genoFile /mnt/vast/hpc/csg/molecular_phenotype_calling/genotype_arch/ROSMAP_NIA_WGS.leftnorm.filtered.fam  \\\n",
    "        --sample-participant-lookup /mnt/mfs/hgrcgrid/homes/zq2209/work/data_production/proteomics/rosmap/geno/sample_participant_lookup.tsv \\\n",
    "        --container /mnt/vast/hpc/csg/containers/bioinfo.sif \\\n",
    "        --translated_phenoFile True \\\n",
    "        --mem 40G -c /mnt/vast/hpc/csg/molecular_phenotype_calling/csg.yml -q csg"
   ]
  },
  {
   "cell_type": "code",
   "execution_count": null,
   "id": "5283e469-dacf-4c92-843b-40d22e470cc8",
   "metadata": {
    "kernel": "SoS"
   },
   "outputs": [],
   "source": [
    "sos run /mnt/mfs/hgrcgrid/homes/xx2404/xqtl-pipeline/pipeline/GWAS_QC.ipynb king \\\n",
    "    --cwd /mnt/mfs/hgrcgrid/homes/xx2404/xQTL_output2/data_preprocessing/Mic/data_production/geneomics/rosmap/geno  \\\n",
    "    --genoFile /mnt/vast/hpc/csg/molecular_phenotype_calling/genotype_arch/ROSMAP_NIA_WGS.leftnorm.filtered.bed \\\n",
    "    --name pQTL \\\n",
    "    --keep-samples /mnt/mfs/hgrcgrid/homes/zq2209/workdata_production/proteomics/rosmap/geno/sample_participant_lookup.filtered_geno.txt \\\n",
    "    --container /mnt/vast/hpc/csg/containers/bioinfo.sif --no-maximize-unrelated \\\n",
    "    --mem 40G -c /mnt/vast/hpc/csg/molecular_phenotype_calling/csg.yml -q csg"
   ]
  },
  {
   "cell_type": "code",
   "execution_count": null,
   "id": "f9cff622-f84a-49d1-a7e5-a08486e01e6e",
   "metadata": {
    "kernel": "SoS"
   },
   "outputs": [],
   "source": [
    "sos run /mnt/mfs/hgrcgrid/homes/xx2404/xqtl-pipeline/pipeline/GWAS_QC.ipynb qc \\\n",
    "   --cwd /mnt/mfs/hgrcgrid/homes/xx2404/xQTL_output2/data_preprocessing/Mic/data_production/geneomics/rosmap/geno \\\n",
    "   --genoFile /mnt/vast/hpc/csg/molecular_phenotype_calling/genotype_arch/ROSMAP_NIA_WGS.leftnorm.filtered.bed \\\n",
    "   --mac-filter 5 \\\n",
    "   --container /mnt/vast/hpc/csg/containers/bioinfo.sif \\\n",
    "   --mem 40G -c /mnt/vast/hpc/csg/molecular_phenotype_calling/csg.yml -q csg"
   ]
  },
  {
   "cell_type": "code",
   "execution_count": null,
   "id": "31023613-25ec-465d-9cde-77351a0d6d6d",
   "metadata": {
    "kernel": "SoS"
   },
   "outputs": [],
   "source": [
    "sos run /mnt/mfs/hgrcgrid/homes/xx2404/xqtl-pipeline/pipeline/PCA.ipynb flashpca \\\n",
    "   --cwd /mnt/mfs/hgrcgrid/homes/xx2404/xQTL_output2/data_preprocessing/Mic/data_production/geneomics/rosmap/pca \\\n",
    "   --genoFile /mnt/mfs/hgrcgrid/homes/zq2209/work/data_production/proteomics/rosmap/geno/ROSMAP_NIA_WGS.leftnorm.filtered.filtered.prune.bed \\\n",
    "   --container /mnt/vast/hpc/csg/containers/flashpcaR.sif"
   ]
  }
 ],
 "metadata": {
  "kernelspec": {
   "display_name": "SoS",
   "language": "sos",
   "name": "sos"
  },
  "language_info": {
   "codemirror_mode": "sos",
   "file_extension": ".sos",
   "mimetype": "text/x-sos",
   "name": "sos",
   "nbconvert_exporter": "sos_notebook.converter.SoS_Exporter",
   "pygments_lexer": "sos"
  },
  "sos": {
   "kernels": [
    [
     "SoS",
     "sos",
     "",
     ""
    ]
   ],
   "version": "0.24.1"
  }
 },
 "nbformat": 4,
 "nbformat_minor": 5
}
