{
 "cells": [
  {
   "cell_type": "markdown",
   "id": "25b22eae-827c-4670-aa67-f7ba2fabd138",
   "metadata": {
    "kernel": "SoS",
    "tags": []
   },
   "source": [
    "#  Sashimi plot"
   ]
  },
  {
   "cell_type": "code",
   "execution_count": null,
   "id": "0fb93370-b53f-4861-875d-c70c36a0507e",
   "metadata": {
    "kernel": "SoS"
   },
   "outputs": [],
   "source": [
    "#cd ~/Work/leaf_cutter2/ROSMAP_DLPFC/output/sashimi_plots/19samples/plots\n",
    "#ln -s ../../test/test_data_to_Chao/sashimi_ingredients.py  ./\n",
    "#ln -s ../../test/test_data_to_Chao/template.ini  ./\n",
    "#ln -s ../bam_files/*bw ./\n",
    "    sos run ~/codes/xqtl-pipeline/code/molecular_phenotypes/sashimi_plot.ipynb sashimi_plot\\\n",
    "    --recipe /mnt/vast/hpc/csg/rf2872/Work/leaf_cutter2/ROSMAP_DLPFC/output/sashimi_plots/19samples/snps/finemap_clusemp_overlap.txt \\\n",
    "    --individuals_list /mnt/vast/hpc/csg/rf2872/Work/leaf_cutter2/ROSMAP_DLPFC/output/sashimi_plots/test/test_data_to_Chao/individuals.txt \\\n",
    "    -J 200 -c ~/test/csg.yml -q csg -s build --job_size 10 --mem 15G --numThreads 8 \\\n",
    "    --cwd output_fmp_clusemp"
   ]
  },
  {
   "cell_type": "code",
   "execution_count": null,
   "id": "62af846b-e7e4-4a4d-98ce-080028913b9c",
   "metadata": {
    "kernel": "SoS"
   },
   "outputs": [],
   "source": [
    "sos run ~/codes/xqtl-pipeline/code/molecular_phenotypes/sashimi_plot.ipynb sashimi_plot\\\n",
    "    --recipe /mnt/vast/hpc/csg/rf2872/Work/leaf_cutter2/ROSMAP_DLPFC/output/sashimi_plots/19samples/snps/finemap_clusemp_overlap_expand.txt \\\n",
    "    --individuals_list /mnt/vast/hpc/csg/rf2872/Work/leaf_cutter2/ROSMAP_DLPFC/output/sashimi_plots/test/test_data_to_Chao/individuals.txt \\\n",
    "    -J 200 -c ~/test/csg.yml -q csg -s build --job_size 10 --mem 15G --numThreads 8 \\\n",
    "    --cwd output_fmp_clusemp_expand"
   ]
  },
  {
   "cell_type": "code",
   "execution_count": null,
   "id": "c82ab031-1332-4a8b-84a8-c5315d0ea926",
   "metadata": {
    "kernel": "SoS"
   },
   "outputs": [],
   "source": [
    "sos run ~/codes/xqtl-pipeline/code/molecular_phenotypes/sashimi_plot.ipynb sashimi_plot\\\n",
    "    --recipe /mnt/vast/hpc/csg/rf2872/Work/leaf_cutter2/ROSMAP_DLPFC/output/sashimi_plots/19samples/snps/finemap_clusemp_AD_overlap.txt \\\n",
    "    --individuals_list /mnt/vast/hpc/csg/rf2872/Work/leaf_cutter2/ROSMAP_DLPFC/output/sashimi_plots/test/test_data_to_Chao/individuals.txt \\\n",
    "    -J 200 -c ~/test/csg.yml -q csg -s build --job_size 10 --mem 15G --numThreads 8 \\\n",
    "    --cwd output_fmp_clusemp_AD"
   ]
  },
  {
   "cell_type": "code",
   "execution_count": null,
   "id": "6e42d013-63e6-4ce2-bb6a-e1b56fc645ed",
   "metadata": {
    "kernel": "SoS"
   },
   "outputs": [],
   "source": [
    "sos run ~/codes/xqtl-pipeline/code/molecular_phenotypes/sashimi_plot.ipynb sashimi_plot\\\n",
    "    --recipe /mnt/vast/hpc/csg/rf2872/Work/leaf_cutter2/ROSMAP_DLPFC/output/sashimi_plots/19samples/snps/finemap_clusemp_AD_overlap_expand.txt \\\n",
    "    --individuals_list /mnt/vast/hpc/csg/rf2872/Work/leaf_cutter2/ROSMAP_DLPFC/output/sashimi_plots/test/test_data_to_Chao/individuals.txt \\\n",
    "    -J 200 -c ~/test/csg.yml -q csg -s build --job_size 10 --mem 15G --numThreads 8 \\\n",
    "    --cwd output_fmp_clusemp_AD_expand"
   ]
  },
  {
   "cell_type": "code",
   "execution_count": 6,
   "id": "19cc8c93-04ec-42be-a38b-125b6341b959",
   "metadata": {
    "kernel": "SoS"
   },
   "outputs": [],
   "source": [
    "[global]\n",
    "# The output directory for generated files.\n",
    "parameter: cwd = path(\"output\")\n",
    "# Sample meta data list\n",
    "parameter: recipe = path\n",
    "#parameter: bam_files = path\n",
    "parameter: individuals_list = path\n",
    "# Raw data directory, default to the same directory as sample list\n",
    "# For cluster jobs, number commands to run per job\n",
    "parameter: job_size = 1\n",
    "# Wall clock time expected\n",
    "parameter: walltime = \"5h\"\n",
    "# Memory expected\n",
    "parameter: mem = \"16G\"\n",
    "# Memory for Java virtual mechine (`picard`)\n",
    "parameter: java_mem = \"6G\"\n",
    "# Number of threads\n",
    "parameter: numThreads = 8\n",
    "# Software container option\n",
    "parameter: container = \"\"\n",
    "parameter: entrypoint={('micromamba run -n' + ' ' + container.split('/')[-1][:-4]) if container.endswith('.sif') else f''}\n",
    "import pandas as pd\n",
    "recipe = pd.read_csv(recipe,sep = \"\\t\")\n",
    "recipe = recipe.to_dict(\"records\")"
   ]
  },
  {
   "cell_type": "code",
   "execution_count": null,
   "id": "3f8607ea-6e51-4d93-bcac-5c1a807b8ad4",
   "metadata": {
    "kernel": "SoS"
   },
   "outputs": [],
   "source": [
    "[sashimi_plot_1]\n",
    "input: individuals_list, for_each=\"recipe\"\n",
    "output: f'{cwd:a}/{_recipe[\"clus_id\"]}/chr{_recipe[\"chromosome\"]}_{_recipe[\"position\"]}/sashimi_{_recipe[\"clus_id\"]}_chr{_recipe[\"chromosome\"]}_{_recipe[\"position\"]}_plot.pdf'\n",
    "task: trunk_workers = 1, trunk_size = job_size, walltime = walltime, mem = mem, cores = numThreads\n",
    "bash: expand= \"$[ ]\", stdout = f\"{_output[0]:n}.stdout\", stderr = f\"{_output[0]:n}.stderr\", container = container, entrypoint = entrypoint\n",
    "        data_pre_region=\"$[_recipe[\"data_pre_region\"]]\"\n",
    "        top_snp=\"$[_recipe[\"top_snp\"]]\"\n",
    "\n",
    "        plot_region=\"$[_recipe[\"plot_region\"]]\"\n",
    "        counts=\"$[_recipe[\"counts\"]]\"\n",
    "\n",
    "        vcf=\"$[_recipe[\"vcf\"]]\"\n",
    "        sample_id_list=\"$[_input]\"\n",
    "\n",
    "        clu=\"$[_recipe[\"clus_id\"]]\"\n",
    "        #clu=$(echo $counts | sed -n 's/[^_]*_\\(.*\\)\\.txt/\\1/p')\n",
    "        #out_pdf=sashimi_\"$[_recipe[\"clus_id\"]]\"_$[_recipe[\"variants\"]].pdf\n",
    "        \n",
    "        cd $[cwd:a]/$[_recipe[\"clus_id\"]]/chr$[_recipe[\"chromosome\"]]_$[_recipe[\"position\"]]/\n",
    "        module load Bedtools/2.30\n",
    "        # data prep\n",
    "        ../../../sashimi_ingredients.py \\\n",
    "        -V $vcf \\\n",
    "        -B <(realpath ../../../*.bw) \\\n",
    "        -C $counts \\\n",
    "        -P $sample_id_list \\\n",
    "        -T ../../../template.ini \\\n",
    "        -S $top_snp \\\n",
    "        -R $data_pre_region \\\n",
    "        -E 1000 \\\n",
    "        -O ./plot \\\n",
    "        && echo \"data prep done\" \\\n",
    "        && echo \"plot sashimi: $plot_region\" \\\n",
    "        && ~/miniconda3/envs/pygenometracks2/bin/pyGenomeTracks \\\n",
    "                --tracks plot.ini \\\n",
    "                --region  $plot_region \\\n",
    "                --title \"QTL:${plot_region}|TOP:${top_snp}|$clu\"\\\n",
    "                --width 30 \\\n",
    "                --trackLabelFraction .1 --fontSize 10 \\\n",
    "                -out $[_output] \\\n",
    "        && echo \"plot done\""
   ]
  },
  {
   "cell_type": "code",
   "execution_count": null,
   "id": "d4d24050-355e-4c33-95be-0e3f47360208",
   "metadata": {
    "kernel": "SoS"
   },
   "outputs": [],
   "source": [
    "[sashimi_plot_2]\n",
    "task: trunk_workers = 1, trunk_size = job_size, walltime = walltime, mem = mem, cores = numThreads\n",
    "bash: expand= \"$[ ]\", stdout = f\"{_output[0]:n}.stdout\", stderr = f\"{_output[0]:n}.stderr\", container = container, entrypoint = entrypoint\n",
    "        mkdir -p $[cwd:a]/plots_pdf && cd $[cwd:a]/\n",
    "        ln -s ../*/*/*pdf ./"
   ]
  }
 ],
 "metadata": {
  "kernelspec": {
   "display_name": "SoS",
   "language": "sos",
   "name": "sos"
  },
  "language_info": {
   "codemirror_mode": "sos",
   "file_extension": ".sos",
   "mimetype": "text/x-sos",
   "name": "sos",
   "nbconvert_exporter": "sos_notebook.converter.SoS_Exporter",
   "pygments_lexer": "sos"
  },
  "sos": {
   "kernels": [
    [
     "SoS",
     "sos",
     "",
     ""
    ]
   ],
   "version": "0.24.0"
  }
 },
 "nbformat": 4,
 "nbformat_minor": 5
}
