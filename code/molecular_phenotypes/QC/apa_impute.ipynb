{
 "cells": [
  {
   "cell_type": "markdown",
   "id": "likely-jones",
   "metadata": {
    "kernel": "SoS",
    "tags": []
   },
   "source": [
    "# Post-APA calling: Imputation and QC\n",
    "## Aim\n",
    "This notebook is designed to impute the missing values in the PDUI matrix, and perform quantile normailization for the impute values.\n",
    "## Input\n",
    "* raw PDUI matrix (row as gene, columns as sample id)\n",
    "* covariate file  \n",
    "\n",
    "## Output\n",
    "* PDUI matrix without missingness  \n",
    "  - The missing value is calculated using `impute` package"
   ]
  },
  {
   "cell_type": "markdown",
   "id": "historical-longer",
   "metadata": {
    "kernel": "SoS"
   },
   "source": [
    "## Minimum working example"
   ]
  },
  {
   "cell_type": "code",
   "execution_count": null,
   "id": "continuous-clark",
   "metadata": {
    "kernel": "SoS"
   },
   "outputs": [],
   "source": [
    "sos run /mnt/mfs/statgen/ls3751/github/xqtl-pipeline/pipeline/molecular_phenotypes/QC/apa_impute.ipynb APAimpute \\\n",
    "    --cwd /mnt/mfs/statgen/ls3751/MWE_dapars2/Output \\\n",
    "    --cov /data/example.cov.txt\n",
    "    --chrlist chr1 \\\n",
    "    --container /mnt/mfs/statgen/ls3751/container/dapars2.sif"
   ]
  },
  {
   "cell_type": "markdown",
   "id": "through-bikini",
   "metadata": {
    "kernel": "SoS"
   },
   "source": [
    "## Workflow implementation"
   ]
  },
  {
   "cell_type": "code",
   "execution_count": 1,
   "id": "swiss-surname",
   "metadata": {
    "kernel": "SoS"
   },
   "outputs": [],
   "source": [
    "[global]\n",
    "# FIXME: this entire section must be rewritten using conventions as in other pipelines.\n",
    "parameter: walltime = '40h'\n",
    "parameter: mem = '32G'\n",
    "parameter: ncore = 16\n",
    "parameter: cwd = path\n",
    "parameter: thread = 8\n",
    "parameter: job_size = 1\n",
    "parameter: container = ''\n",
    "import re\n",
    "parameter: entrypoint= ('micromamba run -a \"\" -n' + ' ' + re.sub(r'(_apptainer:latest|_docker:latest|\\.sif)$', '', container.split('/')[-1])) if container else \"\""
   ]
  },
  {
   "cell_type": "code",
   "execution_count": 1,
   "id": "turkish-reputation",
   "metadata": {
    "kernel": "SoS"
   },
   "outputs": [],
   "source": [
    "[APAimpute]\n",
    "parameter: chrlist = list\n",
    "input: [f'{cwd}/apa_{x}/Dapars_result_result_temp.{x}.txt' for x in chrlist]\n",
    "output: [f'{cwd}/apa_{x}/Dapars_result_impute_{x}.bed' for x in chrlist]\n",
    "task: trunk_workers = 1, trunk_size = job_size, walltime = walltime, mem = mem, cores = ncore\n",
    "R: expand= \"${ }\", container = container\n",
    "    .libPaths( c('/usr/local/lib/R/site-library' , '/usr/lib/R/site-library', '/usr/lib/R/library', .libPaths()))\n",
    "    suppressPackageStartupMessages(require(dplyr))\n",
    "    suppressPackageStartupMessages(require(tidyr))\n",
    "    suppressPackageStartupMessages(require(magrittr))\n",
    "    suppressPackageStartupMessages(require(impute))\n",
    "    suppressPackageStartupMessages(require(readr))\n",
    "    suppressPackageStartupMessages(require(stringr))\n",
    "    chr = str_extract_all(\"${chrlist}\", pattern = \"chr\\\\d+\")[[1]]\n",
    "    apalist = paste0(\"${cwd}\", \"/apa_\", chr,\"/Dapars_result_result_temp.\", chr, \".txt\")\n",
    "    merge_apa = function(file) {\n",
    "        df = data.table::fread(file, colClasses = 'character')\n",
    "        df = df %>% select(1,2,3,4, order(colnames(df)[5:ncol(df)]))\n",
    "        return(df)\n",
    "    }\n",
    "    dapars_result = do.call(\"rbind\", mapply(merge_apa, apalist, SIMPLIFY = FALSE))\n",
    "    tmp = dapars_result[,1:4]\n",
    "    v1 = v2 = v3 = NULL\n",
    "    for (i in 1:nrow(tmp)) {\n",
    "      chro = str_split(tmp$Loci[i], \":\")[[1]][1]\n",
    "      spos = str_split(str_split(tmp$Loci[i], \":\")[[1]][2],\"-\")[[1]][1]\n",
    "      epos = str_split(str_split(tmp$Loci[i], \":\")[[1]][2],\"-\")[[1]][2]\n",
    "      v1 = c(v1 , chro)\n",
    "      v2 = c(v2, spos)\n",
    "      v3 = c(v3, epos)\n",
    "    }\n",
    "    tmp = tmp %>% mutate(`#chr` = v1, start = v2, end = v3) %>% select(`#chr`, start, end, Gene)\n",
    "    dapars_result = dapars_result[,-c(2:4)]\n",
    "    \n",
    "    tmp_vec = pull(dapars_result, Gene)\n",
    "    dapars_result = dapars_result[,-1]\n",
    "    id_vec = NULL\n",
    "    for (i in 1:length(colnames(dapars_result))) {\n",
    "      id = tail(str_split((colnames(dapars_result))[i], \"/\")[[1]],1)\n",
    "      id = str_split(id,\"_\")[[1]][1]\n",
    "      id_vec = c(id_vec ,id)\n",
    "    }\n",
    "    colnames(dapars_result) = id_vec\n",
    "    dapars_result = as.matrix(dapars_result)\n",
    "    rownames(dapars_result) = tmp_vec\n",
    "    dapars_result = dapars_result[,colMeans(is.na(dapars_result)) <= 0.8]\n",
    "    dapars_result = dapars_result[rowMeans(is.na(dapars_result)) < 0.5,]\n",
    "    \n",
    "    \n",
    "    class(dapars_result) = \"numeric\"\n",
    "    dapars_impute = impute.knn(dapars_result)\n",
    "    df = as.data.frame(dapars_impute$data)\n",
    "    \n",
    "    for (gene in 1:nrow(df)) {\n",
    "      mat = apply(df[gene,], 1, rank, ties.method = \"average\")\n",
    "      mat = qnorm(mat/ (ncol(df) + 1))\n",
    "      df[gene, ] = mat\n",
    "    }\n",
    "    \n",
    "    df$Gene = rownames(dapars_result)\n",
    "    final_data <- inner_join(tmp, df)\n",
    "    write_delim(final_data, file = paste0(\"${cwd}\",\"/Dapars_allchrom.bed\"), \"\\t\")\n",
    "    for (i in chr) {\n",
    "          select_data = final_data %>% filter(`#chr` == i)\n",
    "          write.table(select_data, file = paste0(\"${cwd}\", \"/apa_\", i,\"/Dapars_result_impute_\", i, \".bed\"), quote = F, row.names = F)\n",
    "    }"
   ]
  },
  {
   "cell_type": "code",
   "execution_count": 3,
   "id": "unlikely-johns",
   "metadata": {
    "kernel": "SoS"
   },
   "outputs": [],
   "source": [
    "[APArename_1]\n",
    "parameter: match = path\n",
    "parameter: chrlist = list\n",
    "input: [f'{cwd}/apa_{x}/Dapars_result_impute_{x}.bed' for x in chrlist], group_by = 1\n",
    "output: [f'{cwd}/apa_{x}/Dapars_result_impute_renamed_{x}.bed' for x in chrlist], group_by = 1\n",
    "R: expand= \"${ }\", container = container\n",
    "\n",
    "    .libPaths( c('/usr/local/lib/R/site-library' , '/usr/lib/R/site-library', '/usr/lib/R/library', .libPaths())) \n",
    "    suppressPackageStartupMessages(require(dplyr))\n",
    "    suppressPackageStartupMessages(require(tidyr))\n",
    "    suppressPackageStartupMessages(require(readr))\n",
    "  \n",
    "\n",
    "    input_dir <- ${_input:r}\n",
    "\n",
    "    df = data.table::fread(input_dir, colClasses = 'character')\n",
    "    ref = data.table::fread(\"${match}\", colClasses = 'character')\n",
    "    \n",
    "    tmp = NULL\n",
    "    for (i in colnames(df)[5:ncol(df)]){\n",
    "      tmp = c(tmp, as.character(ref[which(ref$ProjID == i),2]))\n",
    "    }\n",
    "    \n",
    "    colnames(df)[5:ncol(df)] = tmp\n",
    "    df = df %>% group_by(`#chr`) %>% arrange(start, .by_group = TRUE) %>% mutate(end = start + 1)\n",
    "    write_delim(df, file = ${_output:r}, \"\\t\")"
   ]
  },
  {
   "cell_type": "code",
   "execution_count": 1,
   "id": "viral-contact",
   "metadata": {
    "kernel": "SoS"
   },
   "outputs": [],
   "source": [
    "[APArename_2]\n",
    "parameter: match = path\n",
    "parameter: chrlist = list\n",
    "input: [f'{cwd}/apa_{x}/Dapars_result_impute_renamed_{x}.bed' for x in chrlist], group_by = 1\n",
    "output: [f'{cwd}/apa_{x}/Dapars_result_impute_renamed_{x}.bed.gz' for x in chrlist], group_by = 1\n",
    "bash: expand= \"${ }\"\n",
    "    bgzip -f ${_input:r}\n",
    "    tabix -p bed ${_output:r} -f\n",
    "    gzip -dfk ${_output:r}"
   ]
  },
  {
   "cell_type": "code",
   "execution_count": null,
   "id": "backed-injection",
   "metadata": {
    "kernel": "SoS"
   },
   "outputs": [],
   "source": [
    "[APArename_3]\n",
    "parameter: cwd = \"/mnt/mfs/statgen/ls3751/aqtl_analysis/wig/AC\"\n",
    "parameter: container = \"/mnt/mfs/statgen/ls3751/container/dapars2_final.sif\"\n",
    "parameter: match = \"/mnt/mfs/statgen/ls3751/aqtl_analysis/ROSMAP_APA_matchtable.txt\" #path\n",
    "input: f'{cwd}/Dapars_allchrom.bed'\n",
    "output: f'{cwd}/Dapars_allchrom_renamed.bed'\n",
    "R: expand= \"${ }\", container = container\n",
    "    .libPaths( c('/usr/local/lib/R/site-library' , '/usr/lib/R/site-library', '/usr/lib/R/library', .libPaths())) \n",
    "    suppressPackageStartupMessages(require(dplyr))\n",
    "    suppressPackageStartupMessages(require(tidyr))\n",
    "    suppressPackageStartupMessages(require(readr))\n",
    "    \n",
    "    input_dir <- ${_input:r}\n",
    "\n",
    "    df = read_delim(input_dir, col_types = list(col_character()))\n",
    "    ref = data.table::fread(\"${match}\", colClasses = 'character')\n",
    "    \n",
    "    tmp = NULL\n",
    "    for (i in colnames(df)[5:ncol(df)]){\n",
    "      tmp = c(tmp, as.character(ref[which(ref$ProjID == i),2]))\n",
    "    }\n",
    "    \n",
    "    colnames(df)[5:ncol(df)] = tmp\n",
    "    df = df %>% group_by(`#chr`) %>% arrange(start, .by_group = TRUE) # %>% mutate(end = start + 1)\n",
    "    write_delim(df, file = paste0(\"${cwd}\",\"/Dapars_allchrom_renamed.bed\"), \"\\t\")\n",
    "[APArename_4]\n",
    "output: f'{_input}.gz', f'{_input}.gz.tbi'\n",
    "bash: expand = \"${ }\"\n",
    "    bgzip -f ${_input}\n",
    "    tabix -p bed ${_output[0]} -f\n",
    "    gzip -dfk ${_output[0]}"
   ]
  },
  {
   "cell_type": "code",
   "execution_count": null,
   "id": "excess-vanilla",
   "metadata": {
    "kernel": "SoS"
   },
   "outputs": [],
   "source": []
  }
 ],
 "metadata": {
  "kernelspec": {
   "display_name": "SoS",
   "language": "sos",
   "name": "sos"
  },
  "language_info": {
   "codemirror_mode": "sos",
   "file_extension": ".sos",
   "mimetype": "text/x-sos",
   "name": "sos",
   "nbconvert_exporter": "sos_notebook.converter.SoS_Exporter",
   "pygments_lexer": "sos"
  },
  "sos": {
   "kernels": [
    [
     "Bash",
     "bash",
     "Bash",
     "#E6EEFF",
     ""
    ],
    [
     "SoS",
     "sos",
     "",
     "",
     "sos"
    ]
   ],
   "version": "0.22.9"
  }
 },
 "nbformat": 4,
 "nbformat_minor": 5
}
