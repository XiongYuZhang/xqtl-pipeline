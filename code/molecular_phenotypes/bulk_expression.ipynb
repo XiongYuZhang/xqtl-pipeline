{
 "cells": [
  {
   "cell_type": "markdown",
   "id": "level-convention",
   "metadata": {
    "kernel": "SoS",
    "tags": []
   },
   "source": [
    "# RNA-seq expression\n"
   ]
  },
  {
   "cell_type": "markdown",
   "id": "8f614586-2e71-4f28-b40b-5ddfb7ce12c0",
   "metadata": {
    "kernel": "SoS"
   },
   "source": [
    "#### Miniprotocol Timing\n",
    "This would be the overall time it takes to run all steps of the miniprotocol, including the steps in the modules. The individual module steps don't need to be listed here, as the timing for those can be listed in the module pages themselves.  \n",
    "\n",
    "Timing <X hours"
   ]
  },
  {
   "cell_type": "markdown",
   "id": "257f58be-393f-48ea-99e1-e59c6df13704",
   "metadata": {
    "kernel": "SoS"
   },
   "source": [
    "## Overview\n"
   ]
  },
  {
   "cell_type": "markdown",
   "id": "eb4e54f0-0584-4fff-b456-cf0112c29c41",
   "metadata": {
    "kernel": "SoS"
   },
   "source": [
    "This miniprotocol shows the use of various modules to prepare reference data, perform RNA-seq calling, quantify expression, conduct quality control and normalize data. The modules are as follows:\n",
    "1. `RNA_calling.ipynb` (steps i-v): Quantifying expression from RNA-seq data\n",
    "2. `bulk_expression_QC.ipynb` (step vi): Sample level RNA-seq quality control\n",
    "3. `bulk_expression_normalization.ipynb`  (step vii): Bulk RNA-seq counts normalization"
   ]
  },
  {
   "cell_type": "markdown",
   "id": "25c77fa6-85c7-4bbd-8bd9-999588902b65",
   "metadata": {
    "kernel": "SoS"
   },
   "source": [
    "## Steps\n"
   ]
  },
  {
   "cell_type": "markdown",
   "id": "3137cf7b-3439-4fa2-808c-3217d5a0e637",
   "metadata": {
    "kernel": "SoS"
   },
   "source": [
    "### i. Perform data quality summary via `fastqc`"
   ]
  },
  {
   "cell_type": "code",
   "execution_count": null,
   "id": "0fc93cc1-57a6-4c58-9c3c-0c2b124a058a",
   "metadata": {
    "kernel": "SoS"
   },
   "outputs": [],
   "source": [
    "sos run pipeline/RNA_calling.ipynb fastqc \\\n",
    "    --cwd output/rnaseq/fastqc \\\n",
    "    --samples protocol_data/input_data/RNASeq/fastq/xqtl_protocol_data.fastqlist \\\n",
    "    --data-dir protocol_data/input_data/RNASeq/fastq \\\n",
    "    --container containers/rna_quantification.sif \\\n",
    "    --gtf reference_data/Homo_sapiens.GRCh38.103.chr.reformatted.ERCC.gtf"
   ]
  },
  {
   "cell_type": "markdown",
   "id": "7716afa3-c62f-4ac7-ac3e-5c45921ec780",
   "metadata": {
    "kernel": "SoS",
    "tags": []
   },
   "source": [
    "### ii. Cut adaptor (Optional)"
   ]
  },
  {
   "cell_type": "code",
   "execution_count": null,
   "id": "3a5cb29a-e11e-49ff-b6ed-3d2e773dab71",
   "metadata": {
    "kernel": "SoS"
   },
   "outputs": [],
   "source": [
    "sos run pipeline/RNA_calling.ipynb fastp_trim_adaptor \\\n",
    "    --cwd output/rnaseq --samples protocol_data/input_data/RNASeq/fastq/xqtl_protocol_data.fastqlist \\\n",
    "    --data-dir protocol_data/input_data/RNASeq/fastq --STAR-index reference_data/STAR_Index/ \\\n",
    "    --gtf reference_data/Homo_sapiens.GRCh38.103.chr.reformatted.ERCC.gtf \\\n",
    "    --container containers/rna_quantification.sif \\\n",
    "    --reference-fasta reference_data/GRCh38_full_analysis_set_plus_decoy_hla.noALT_noHLA_noDecoy_ERCC.fasta \\\n",
    "    --ref-flat reference_data/Homo_sapiens.GRCh38.103.chr.reformatted.ERCC.ref.flat"
   ]
  },
  {
   "cell_type": "markdown",
   "id": "2db76dd2-5bd2-4fb0-8dee-1f6cd5114f15",
   "metadata": {
    "kernel": "SoS"
   },
   "source": [
    "### iii. Read alignment via STAR and QC via Picard"
   ]
  },
  {
   "cell_type": "code",
   "execution_count": null,
   "id": "dc28fe3e-db72-4402-be98-168aa887f0a5",
   "metadata": {
    "kernel": "SoS"
   },
   "outputs": [],
   "source": [
    "sos run pipeline/RNA_calling.ipynb STAR_align \\\n",
    "    --cwd output/rnaseq --samples protocol_data/input_data/RNASeq/fastq/xqtl_protocol_data.fastqlist \\\n",
    "    --data-dir protocol_data/input_data/RNASeq/fastq --STAR-index reference_data/STAR_Index/ \\\n",
    "    --gtf reference_data/Homo_sapiens.GRCh38.103.chr.reformatted.ERCC.gtf \\\n",
    "    --container containers/rna_quantification.sif \\\n",
    "    --reference-fasta reference_data/GRCh38_full_analysis_set_plus_decoy_hla.noALT_noHLA_noDecoy_ERCC.fasta \\\n",
    "    --ref-flat reference_data/Homo_sapiens.GRCh38.103.chr.reformatted.ERCC.ref.flat --uncompressed "
   ]
  },
  {
   "cell_type": "markdown",
   "id": "c7fd0ce2-c9f0-4777-a63d-2a87c4e78ea4",
   "metadata": {
    "kernel": "SoS"
   },
   "source": [
    "### iv. Call gene-level RNA expression via rnaseqc"
   ]
  },
  {
   "cell_type": "code",
   "execution_count": null,
   "id": "a9cd93c4-96c6-4bde-809b-3c2e857b107f",
   "metadata": {
    "kernel": "SoS"
   },
   "outputs": [],
   "source": [
    "sos run pipeline/RNA_calling.ipynb rnaseqc_call \\\n",
    "    --cwd output/rnaseq \\\n",
    "    --samples input_data/RNASeq/fastq/xqtl_protocol_data.fastqlist    \\\n",
    "    --data-dir input_data/RNASeq/fastq \\\n",
    "    --gtf reference_data/Homo_sapiens.GRCh38.103.chr.reformatted.collapse_only.gene.gtf \\\n",
    "    --container containers/rna_quantification.sif \\\n",
    "    --reference-fasta reference_data/GRCh38_full_analysis_set_plus_decoy_hla.noALT_noHLA_noDecoy_ERCC.fasta \\\n",
    "    --bam_list output/rnaseq/xqtl_protocol_data_bam_list"
   ]
  },
  {
   "cell_type": "markdown",
   "id": "ed133748-6ff4-494b-8a48-707cbb17ff75",
   "metadata": {
    "kernel": "SoS"
   },
   "source": [
    "### v. Call transcript level RNA expression via RSEM"
   ]
  },
  {
   "cell_type": "code",
   "execution_count": null,
   "id": "ebd74df1-ae2b-4e91-8974-a3f4fb059d50",
   "metadata": {
    "kernel": "SoS"
   },
   "outputs": [],
   "source": [
    "sos run pipeline/RNA_calling.ipynb rsem_call  \\\n",
    "    --cwd output/rnaseq   \\\n",
    "    --samples protocol_data/input_data/RNASeq/fastq/xqtl_protocol_data.fastqlist  \\\n",
    "    --data-dir protocol_data/input_data/RNASeq/fastq/   \\\n",
    "    --RSEM-index reference_data/RSEM_Index/   \\\n",
    "    --container containers/rna_quantification.sif   \\\n",
    "    --bam_list output/rnaseq/xqtl_protocol_data_bam_list   "
   ]
  },
  {
   "cell_type": "markdown",
   "id": "e7f97116-0b70-4585-b069-96131294eb01",
   "metadata": {
    "kernel": "SoS"
   },
   "source": [
    "### vi. Multi-sample RNA-seq QC"
   ]
  },
  {
   "cell_type": "code",
   "execution_count": null,
   "id": "98084153-6796-422d-b40e-73de028d340a",
   "metadata": {
    "kernel": "SoS"
   },
   "outputs": [],
   "source": [
    "sos run pipeline/bulk_expression_QC.ipynb qc \\\n",
    "    --cwd output/rnaseq \\ \\\n",
    "    --tpm-gct output/rnaseq/xqtl_protocol_data.rnaseqc.gene_tpm.gct.gz \\\n",
    "    --counts-gct output/rnaseq/xqtl_protocol_data.rnaseqc.gene_readsCount.gct.gz \\\n",
    "    --container containers/rna_quantification.sif "
   ]
  },
  {
   "cell_type": "markdown",
   "id": "5d3723d8-0817-4430-99a2-3bd8a418511d",
   "metadata": {
    "kernel": "SoS"
   },
   "source": [
    "### vii. Multi-sample read count normalization"
   ]
  },
  {
   "cell_type": "code",
   "execution_count": null,
   "id": "a824660d-0b99-4d5d-b4e0-340a1b31fe75",
   "metadata": {
    "kernel": "SoS"
   },
   "outputs": [],
   "source": [
    "sos run pipeline/bulk_expression_normalization.ipynb normalize \\\n",
    "    --cwd output/rnaseq \\\n",
    "    --tpm-gct output/rnaseq/xqtl_protocol_data.rnaseqc.low_expression_filtered.outlier_removed.tpm.gct.gz \\\n",
    "    --counts-gct output/rnaseq/xqtl_protocol_data.rnaseqc.low_expression_filtered.outlier_removed.geneCount.gct.gz \\\n",
    "    --annotation-gtf reference_data/Homo_sapiens.GRCh38.103.chr.reformatted.collapse_only.gene.ERCC.gtf  \\\n",
    "    --container containers/rna_quantification.sif \\\n",
    "    --count-threshold 1 --sample_participant_lookup reference_data/sample_participant_lookup.rnaseq"
   ]
  },
  {
   "cell_type": "markdown",
   "id": "64e3560f-e7be-45d5-85f8-1ff75469f940",
   "metadata": {
    "kernel": "SoS"
   },
   "source": [
    "### viii. Region list generation (optional)"
   ]
  },
  {
   "cell_type": "markdown",
   "id": "eeddfab5-1da1-4241-8ecc-ac266655c4c7",
   "metadata": {
    "kernel": "SoS"
   },
   "source": [
    "By default, the first 4 column of the bed.gz file contains the chr,start (TSS), end (TSS+1), and gene id of each gene. User can extract these information with a simple `zcat {phenoFile}.bed.gz | cut -f 1,2,3,4 ` command. However, when a region list with both gene id and gene name are needed, following utilities are provided."
   ]
  },
  {
   "cell_type": "code",
   "execution_count": null,
   "id": "71fbb5cf-e7a2-44ea-b876-7e7206daa0a1",
   "metadata": {
    "kernel": "SoS"
   },
   "outputs": [],
   "source": [
    "sos run pipeline/gene_annotation.ipynb region_list_generation \\\n",
    "    --cwd output/rnaseq  \\\n",
    "    --phenoFile output/rnaseq/xqtl_protocol_data.rnaseqc.low_expression_filtered.outlier_removed.tmm.expression.bed.gz \\\n",
    "    --annotation-gtf reference_data/Homo_sapiens.GRCh38.103.chr.reformatted.collapse_only.gene.ERCC.gtf  \\\n",
    "    --sample-participant-lookup reference_data/sample_participant_lookup.rnaseq \\\n",
    "    --container containers/bioinfo.sif \\\n",
    "    --phenotype-id-type gene_id"
   ]
  },
  {
   "cell_type": "code",
   "execution_count": null,
   "id": "c252e481-038a-4695-abb2-ad049059881d",
   "metadata": {
    "kernel": "SoS"
   },
   "outputs": [],
   "source": []
  },
  {
   "cell_type": "markdown",
   "id": "9b26e655-4b57-4f51-bf35-f7e743ba72f1",
   "metadata": {
    "kernel": "SoS"
   },
   "source": [
    "## Anticipated Results"
   ]
  },
  {
   "cell_type": "markdown",
   "id": "9d6138f0-3f5b-4d50-9ccc-696524279b16",
   "metadata": {
    "kernel": "SoS"
   },
   "source": [
    "The final output contained QCed and normalized expression data in a bed.gz file. This file is ready for use in TensorQTL."
   ]
  },
  {
   "cell_type": "markdown",
   "id": "f30d6c22-f623-4d6d-89c1-a70d622b60f3",
   "metadata": {
    "kernel": "SoS"
   },
   "source": [
    "The minimal working example data has [description here]"
   ]
  },
  {
   "cell_type": "markdown",
   "id": "0c81bf5e-1722-4253-bfdc-4c74b1ee143a",
   "metadata": {
    "kernel": "SoS"
   },
   "source": [
    "### Figure 1. "
   ]
  },
  {
   "cell_type": "code",
   "execution_count": null,
   "id": "0834d57a-a246-4be8-8fe6-26a6a9b5c7b7",
   "metadata": {
    "kernel": "SoS"
   },
   "outputs": [],
   "source": []
  }
 ],
 "metadata": {
  "kernelspec": {
   "display_name": "SoS",
   "language": "sos",
   "name": "sos"
  },
  "language_info": {
   "codemirror_mode": "sos",
   "file_extension": ".sos",
   "mimetype": "text/x-sos",
   "name": "sos",
   "nbconvert_exporter": "sos_notebook.converter.SoS_Exporter",
   "pygments_lexer": "sos"
  },
  "sos": {
   "kernels": [
    [
     "Bash",
     "bash",
     "Bash",
     "#E6EEFF",
     "shell"
    ]
   ],
   "version": "0.22.6"
  }
 },
 "nbformat": 4,
 "nbformat_minor": 5
}
