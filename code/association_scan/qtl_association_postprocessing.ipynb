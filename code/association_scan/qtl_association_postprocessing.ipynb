{
 "cells": [
  {
   "cell_type": "markdown",
   "id": "amino-following",
   "metadata": {
    "kernel": "SoS"
   },
   "source": [
    "# QTL data postprocessing\n",
    "\n",
    "To be updated, you can safely skip it for now."
   ]
  },
  {
   "cell_type": "markdown",
   "id": "hindu-heavy",
   "metadata": {
    "kernel": "SoS"
   },
   "source": [
    "## Generate yml"
   ]
  },
  {
   "cell_type": "code",
   "execution_count": null,
   "id": "aggregate-denver",
   "metadata": {
    "kernel": "SoS"
   },
   "outputs": [],
   "source": [
    "sos run xqtl-pipeline/pipeline/yml_generator.ipynb yml_list \\\n",
    "    --sumstat-list /mnt/vast/hpc/csg/molecular_phenotype_calling/pQTL_cis/TADB/TensorQTL.cis._recipe.tsv \\\n",
    "    --cwd /mnt/vast/hpc/csg/molecular_phenotype_calling/pQTL_cis/rosmap_stad \\\n",
    "    --name pQTL \\\n",
    "    --container /mnt/vast/hpc/csg/containers/bioinfo.sif"
   ]
  },
  {
   "cell_type": "markdown",
   "id": "complex-recall",
   "metadata": {
    "kernel": "SoS"
   },
   "source": [
    "## Generate the target"
   ]
  },
  {
   "cell_type": "code",
   "execution_count": null,
   "id": "fewer-prerequisite",
   "metadata": {
    "kernel": "SoS"
   },
   "outputs": [],
   "source": [
    "sos run xqtl-pipeline/pipeline/summary_stats_standardizer.ipynb TARGET_generation \\\n",
    "    --fasta /mnt/vast/hpc/csg/molecular_phenotype_calling/reference_data/GRCh38_full_analysis_set_plus_decoy_hla.noALT_noHLA_noDecoy_ERCC.fasta  \\\n",
    "    --sumstat-list /mnt/vast/hpc/csg/molecular_phenotype_calling/pQTL_cis/rosmap_stad/qced_sumstat_list.txt \\\n",
    "    --yml-list /mnt/vast/hpc/csg/molecular_phenotype_calling/pQTL_cis/rosmap_stad/yml_list.txt  \\\n",
    "    --cwd /mnt/vast/hpc/csg/molecular_phenotype_calling/pQTL_cis/rosmap_stad \\\n",
    "    --container /mnt/vast/hpc/csg/containers/bioinfo.sif \\\n",
    "    --walltime 100h \\\n",
    "    --numThreads 20 \\\n",
    "    --mem 150G -J 50 -c /mnt/vast/hpc/csg/molecular_phenotype_calling/csg.yml -q csg"
   ]
  },
  {
   "cell_type": "markdown",
   "id": "reduced-attraction",
   "metadata": {
    "kernel": "SoS"
   },
   "source": [
    "## Standardized the sumstat"
   ]
  },
  {
   "cell_type": "code",
   "execution_count": null,
   "id": "juvenile-conversion",
   "metadata": {
    "kernel": "SoS"
   },
   "outputs": [],
   "source": [
    "sos run xqtl-pipeline/pipeline/summary_stats_standardizer.ipynb sumstat_standardization \\\n",
    "    --sumstat-list /mnt/vast/hpc/csg/molecular_phenotype_calling/pQTL_cis/rosmap_stad/qced_sumstat_list.txt  \\\n",
    "    --yml-list /mnt/vast/hpc/csg/molecular_phenotype_calling/pQTL_cis/rosmap_stad/yml_list.txt \\\n",
    "    --TARGET_list /mnt/vast/hpc/csg/molecular_phenotype_calling/pQTL_cis/rosmap_stad/TARGET.ref.list \\\n",
    "    --cwd /mnt/vast/hpc/csg/molecular_phenotype_calling/pQTL_cis/rosmap_stad/ \\\n",
    "    --container /mnt/vast/hpc/csg/containers/bioinfo.sif \\\n",
    "    --walltime 100h \\\n",
    "    --numThreads 20 \\\n",
    "    --mem 200G -J 50 -c /mnt/vast/hpc/csg/molecular_phenotype_calling/csg.yml -q csg"
   ]
  },
  {
   "cell_type": "markdown",
   "id": "durable-somalia",
   "metadata": {
    "kernel": "SoS"
   },
   "source": [
    "## Convert sumstats to VCF"
   ]
  },
  {
   "cell_type": "code",
   "execution_count": 1,
   "id": "limiting-comedy",
   "metadata": {
    "kernel": "SoS"
   },
   "outputs": [],
   "source": [
    "sos run xqtl-pipeline/pipeline/summary_stats_standardizer.ipynb sumstat_to_vcf \\\n",
    "    --sumstat-list /mnt/vast/hpc/csg/molecular_phenotype_calling/pQTL_cis/rosmap_stad/qced_sumstat_list.txt  \\\n",
    "    --cwd /mnt/vast/hpc/csg/molecular_phenotype_calling/pQTL_cis/rosmap_stad/ \\\n",
    "    --container /mnt/vast/hpc/csg/containers/bioinfo.sif \\\n",
    "    --walltime 100h \\\n",
    "    --numThreads 20 \\\n",
    "    --mem 200G -J 50 -c /mnt/vast/hpc/csg/molecular_phenotype_calling/csg.yml -q csg"
   ]
  },
  {
   "cell_type": "markdown",
   "id": "photographic-connectivity",
   "metadata": {
    "kernel": "SoS"
   },
   "source": [
    "## Associate result processing"
   ]
  },
  {
   "cell_type": "code",
   "execution_count": null,
   "id": "experimental-window",
   "metadata": {
    "kernel": "SoS"
   },
   "outputs": [],
   "source": [
    "sos run xqtl-pipeline/pipeline/assoc_result_processing.ipynb genome \\\n",
    "    --vcf `ls /mnt/vast/hpc/csg/molecular_phenotype_calling/pQTL_cis/rosmap_stad/*/*cis_long_table.vcf` \\\n",
    "    --padjust-method \"bonferroni\" \\\n",
    "    --container /mnt/vast/hpc/csg/containers/bioinfo.sif \\\n",
    "    --mem 200G -J 22 -q csg -c /mnt/vast/hpc/csg/molecular_phenotype_calling/csg.yml  "
   ]
  },
  {
   "cell_type": "markdown",
   "id": "emerging-timothy",
   "metadata": {
    "kernel": "SoS"
   },
   "source": [
    "## Summary of result - To be update"
   ]
  },
  {
   "cell_type": "code",
   "execution_count": null,
   "id": "indoor-spare",
   "metadata": {
    "kernel": "SoS"
   },
   "outputs": [],
   "source": [
    "cat /mnt/vast/hpc/csg/molecular_phenotype_calling/pQTL_cis/rosmap_stad/pQTL.1/pheno_recipe_rosmap_pheno.rosmap_cov.ROSMAP_NIA_WGS.leftnorm.filtered.pQTL.unrelated.filtered.prune.pca.resid.Marchenko_pc.1.n_sig.txt"
   ]
  },
  {
   "cell_type": "markdown",
   "id": "recovered-methodology",
   "metadata": {
    "kernel": "SoS"
   },
   "source": [
    "| tissue | n_assoc | n_snp | n_gene | \n",
    "| --- | --- | --- | --- |\n",
    "| pQTL | 290330 | 266394 | 3166 | "
   ]
  }
 ],
 "metadata": {
  "kernelspec": {
   "display_name": "Bash",
   "language": "bash",
   "name": "bash"
  },
  "language_info": {
   "codemirror_mode": "shell",
   "file_extension": ".sh",
   "mimetype": "text/x-sh",
   "name": "bash"
  },
  "sos": {
   "kernels": [
    [
     "SoS",
     "sos",
     "",
     "",
     "sos"
    ]
   ],
   "version": "0.24.1"
  }
 },
 "nbformat": 4,
 "nbformat_minor": 5
}
