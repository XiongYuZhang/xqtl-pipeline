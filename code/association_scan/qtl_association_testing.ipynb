{
 "cells": [
  {
   "cell_type": "markdown",
   "id": "refined-sense",
   "metadata": {
    "kernel": "SoS"
   },
   "source": [
    "# QTL association analysis\n",
    "\n",
    "This notebook contains record of commands used to perform QTL association analysis."
   ]
  },
  {
   "cell_type": "markdown",
   "id": "suburban-arbitration",
   "metadata": {
    "kernel": "SoS"
   },
   "source": [
    "## Data input\n",
    "* `output/genotype_by_chrom/protocol_example.genotype.chr21_22.genotype_by_chrom_files.txt`: Generated from [genotype_preprocessing](https://github.com/cumc/xqtl-pipeline/tree/main/code/data_preprocessing/genotype_preprocessing.ipynb)\n",
    "* `output/phenotype_by_chrom/protocol_example.protein.bed.phenotype_by_chrom_files.txt`: Generated from [phenotype_preprocessing](https://github.com/cumc/xqtl-pipeline/tree/main/code/data_preprocessing/phenotype_preprocessing.ipynb)\n",
    "* `output/covariate/protocol_example.protein.protocol_example.samples.protocol_example.genotype.chr21_22.pQTL.unrelated.plink_qc.prune.pca.Marchenko_PC.gz`: Generated from [covariates_preprocessing](https://github.com/cumc/xqtl-pipeline/tree/main/code/data_preprocessing/covariate_processing.ipynb)\n",
    "* `prototype_example/protocol_example/protocol_example.protein.enhanced_cis_chr21_chr22.bed`: this is TAD-B list generated based on the TADB list [`TADB_enhanced_cis.bed`](https://github.com/cumc/fungen-xqtl-analysis/blob/main/resource/TADB_enhanced_cis.bed) to handle protein data. The code to generate it can be found in [create_protocol_example_data](https://github.com/cumc/fungen-xqtl-analysis/blob/main/analysis/Wang_Columbia/ROSMAP/MWE/create_protocol_example_data.ipynb). Please be noted that, all molecular_trait_id in the phenotype data are suppose to have a customized cis window corresponding to it."
   ]
  },
  {
   "cell_type": "markdown",
   "id": "parental-generic",
   "metadata": {
    "kernel": "SoS"
   },
   "source": [
    "## Data output\n",
    "- Empirical cis results: /mnt/vast/hpc/csg/molecular_phenotype_calling/pQTL_cis/rosmap\n",
    "- Standardized cis results: /mnt/vast/hpc/csg/molecular_phenotype_calling/pQTL_cis/rosmap_stad/pQTL.#"
   ]
  },
  {
   "cell_type": "markdown",
   "id": "electoral-ambassador",
   "metadata": {
    "kernel": "SoS"
   },
   "source": [
    "### Cis TensorQTL command "
   ]
  },
  {
   "cell_type": "code",
   "execution_count": null,
   "id": "imposed-agriculture",
   "metadata": {
    "kernel": "SoS"
   },
   "outputs": [],
   "source": [
    "sos run pipeline/TensorQTL.ipynb cis \\\n",
    "    --genotype-file output/genotype_by_chrom/protocol_example.genotype.chr21_22.genotype_by_chrom_files.txt \\\n",
    "    --phenotype-file  output/phenotype_by_chrom/protocol_example.protein.bed.phenotype_by_chrom_files.txt \\\n",
    "    --covariate-file output/covariate/protocol_example.protein.protocol_example.samples.protocol_example.genotype.chr21_22.pQTL.plink_qc.prune.pca.Marchenko_PC.gz \\\n",
    "    --customized_cis_windows prototype_example/protocol_example/protocol_example.protein.enhanced_cis_chr21_chr22.bed \\\n",
    "    --cwd output/cis_association/ \\\n",
    "    --container containers/TensorQTL.sif --MAC 5 "
   ]
  },
  {
   "cell_type": "markdown",
   "id": "electrical-little",
   "metadata": {
    "kernel": "SoS"
   },
   "source": [
    "### Trans TensorQTL command \n",
    "Some protein is not in the customized cis windows list. There we will need to remove them from the analysis by create a region_list. Noted that the region list need to be a actual file. So `<()` file is not acceptable. "
   ]
  },
  {
   "cell_type": "code",
   "execution_count": 55,
   "id": "lightweight-directory",
   "metadata": {},
   "outputs": [],
   "source": [
    "zcat output/protocol_example.protein.bed.gz | cut -f 1,2,3,4 | grep -v -e ENSG00000163554 \\\n",
    "    -e ENSG00000171564 -e ENSG00000171560 -e ENSG00000171557 > output/protocol_example.protein.region_list"
   ]
  },
  {
   "cell_type": "markdown",
   "id": "another-works",
   "metadata": {},
   "source": [
    "It take more than 180G of mem to run the following commands."
   ]
  },
  {
   "cell_type": "code",
   "execution_count": null,
   "id": "departmental-demonstration",
   "metadata": {},
   "outputs": [
    {
     "name": "stdout",
     "output_type": "stream",
     "text": [
      "INFO: Running \u001b[32mtrans_1\u001b[0m: \n",
      "INFO: t3e846e705734907f \u001b[32mrestart\u001b[0m from status \u001b[32mfailed\u001b[0m\n",
      "INFO: t3e846e705734907f \u001b[32msubmitted\u001b[0m to csg with job id 6227759\n",
      "INFO: Waiting for the completion of \u001b[32m1\u001b[0m task.\n",
      "INFO: Waiting for the completion of \u001b[32m1\u001b[0m task.\n",
      "INFO: Waiting for the completion of \u001b[32m1\u001b[0m task.\n",
      "INFO: Waiting for the completion of \u001b[32m1\u001b[0m task.\n",
      "INFO: Waiting for the completion of \u001b[32m1\u001b[0m task.\n",
      "INFO: Waiting for the completion of \u001b[32m1\u001b[0m task.\n",
      "INFO: Waiting for the completion of \u001b[32m1\u001b[0m task.\n",
      "INFO: Waiting for the completion of \u001b[32m1\u001b[0m task.\n",
      "INFO: Waiting for the completion of \u001b[32m1\u001b[0m task.\n",
      "INFO: Waiting for the completion of \u001b[32m1\u001b[0m task.\n",
      "INFO: Waiting for the completion of \u001b[32m1\u001b[0m task.\n",
      "INFO: Waiting for the completion of \u001b[32m1\u001b[0m task.\n",
      "INFO: Waiting for the completion of \u001b[32m1\u001b[0m task.\n",
      "INFO: Waiting for the completion of \u001b[32m1\u001b[0m task.\n",
      "INFO: Waiting for the completion of \u001b[32m1\u001b[0m task.\n",
      "INFO: Waiting for the completion of \u001b[32m1\u001b[0m task.\n",
      "INFO: Waiting for the completion of \u001b[32m1\u001b[0m task.\n",
      "INFO: Waiting for the completion of \u001b[32m1\u001b[0m task.\n",
      "INFO: Waiting for the completion of \u001b[32m1\u001b[0m task.\n",
      "INFO: Waiting for the completion of \u001b[32m1\u001b[0m task.\n",
      "INFO: Waiting for the completion of \u001b[32m1\u001b[0m task.\n",
      "INFO: Waiting for the completion of \u001b[32m1\u001b[0m task.\n"
     ]
    }
   ],
   "source": [
    "sos run xqtl-pipeline/pipeline/TensorQTL.ipynb trans \\\n",
    "    --genotype-file output/protocol_example.genotype.chr21_22.bed \\\n",
    "    --phenotype-file  output/protocol_example.protein.bed.gz \\\n",
    "    --region-list output/protocol_example.protein.region_list \\\n",
    "    --covariate-file output/protocol_example.protein.protocol_example.samples.protocol_example.genotype.chr21_22.pQTL.unrelated.plink_qc.prune.pca.Marchenko_PC.gz \\\n",
    "    --customized-cis-windows output/protocol_example.protein.customized_cis.tsv \\\n",
    "    --cwd output/association/trans/ \\\n",
    "    --container containers/TensorQTL.sif --MAC 5 --numThreads 8 -J 1 -q csg --mem 240G -c /mnt/vast/hpc/csg/molecular_phenotype_calling/csg.yml "
   ]
  },
  {
   "cell_type": "markdown",
   "id": "urban-relationship",
   "metadata": {
    "kernel": "SoS"
   },
   "source": [
    "### Standardize the results - To be updated, you can safely skip it for now."
   ]
  },
  {
   "cell_type": "markdown",
   "id": "otherwise-chemical",
   "metadata": {
    "kernel": "SoS"
   },
   "source": [
    "#### Generate yml"
   ]
  },
  {
   "cell_type": "code",
   "execution_count": null,
   "id": "bigger-secondary",
   "metadata": {
    "kernel": "SoS"
   },
   "outputs": [],
   "source": [
    "sos run xqtl-pipeline/pipeline/yml_generator.ipynb yml_list \\\n",
    "    --sumstat-list /mnt/vast/hpc/csg/molecular_phenotype_calling/pQTL_cis/TADB/TensorQTL.cis._recipe.tsv \\\n",
    "    --cwd /mnt/vast/hpc/csg/molecular_phenotype_calling/pQTL_cis/rosmap_stad \\\n",
    "    --name pQTL \\\n",
    "    --container /mnt/vast/hpc/csg/containers/bioinfo.sif"
   ]
  },
  {
   "cell_type": "markdown",
   "id": "subjective-progressive",
   "metadata": {
    "kernel": "SoS"
   },
   "source": [
    "#### Generate the target"
   ]
  },
  {
   "cell_type": "code",
   "execution_count": null,
   "id": "unnecessary-republic",
   "metadata": {
    "kernel": "SoS"
   },
   "outputs": [],
   "source": [
    "sos run xqtl-pipeline/pipeline/summary_stats_standardizer.ipynb TARGET_generation \\\n",
    "    --fasta /mnt/vast/hpc/csg/molecular_phenotype_calling/reference_data/GRCh38_full_analysis_set_plus_decoy_hla.noALT_noHLA_noDecoy_ERCC.fasta  \\\n",
    "    --sumstat-list /mnt/vast/hpc/csg/molecular_phenotype_calling/pQTL_cis/rosmap_stad/qced_sumstat_list.txt \\\n",
    "    --yml-list /mnt/vast/hpc/csg/molecular_phenotype_calling/pQTL_cis/rosmap_stad/yml_list.txt  \\\n",
    "    --cwd /mnt/vast/hpc/csg/molecular_phenotype_calling/pQTL_cis/rosmap_stad \\\n",
    "    --container /mnt/vast/hpc/csg/containers/bioinfo.sif \\\n",
    "    --walltime 100h \\\n",
    "    --numThreads 20 \\\n",
    "    --mem 150G -J 50 -c /mnt/vast/hpc/csg/molecular_phenotype_calling/csg.yml -q csg"
   ]
  },
  {
   "cell_type": "markdown",
   "id": "patient-caution",
   "metadata": {
    "kernel": "SoS"
   },
   "source": [
    "#### Standardized the sumstat"
   ]
  },
  {
   "cell_type": "code",
   "execution_count": null,
   "id": "previous-failing",
   "metadata": {
    "kernel": "SoS"
   },
   "outputs": [],
   "source": [
    "sos run xqtl-pipeline/pipeline/summary_stats_standardizer.ipynb sumstat_standardization \\\n",
    "    --sumstat-list /mnt/vast/hpc/csg/molecular_phenotype_calling/pQTL_cis/rosmap_stad/qced_sumstat_list.txt  \\\n",
    "    --yml-list /mnt/vast/hpc/csg/molecular_phenotype_calling/pQTL_cis/rosmap_stad/yml_list.txt \\\n",
    "    --TARGET_list /mnt/vast/hpc/csg/molecular_phenotype_calling/pQTL_cis/rosmap_stad/TARGET.ref.list \\\n",
    "    --cwd /mnt/vast/hpc/csg/molecular_phenotype_calling/pQTL_cis/rosmap_stad/ \\\n",
    "    --container /mnt/vast/hpc/csg/containers/bioinfo.sif \\\n",
    "    --walltime 100h \\\n",
    "    --numThreads 20 \\\n",
    "    --mem 200G -J 50 -c /mnt/vast/hpc/csg/molecular_phenotype_calling/csg.yml -q csg"
   ]
  },
  {
   "cell_type": "markdown",
   "id": "conceptual-istanbul",
   "metadata": {
    "kernel": "SoS"
   },
   "source": [
    "#### Convert sumstats to VCF"
   ]
  },
  {
   "cell_type": "code",
   "execution_count": 1,
   "id": "smaller-wayne",
   "metadata": {
    "kernel": "SoS"
   },
   "outputs": [],
   "source": [
    "sos run xqtl-pipeline/pipeline/summary_stats_standardizer.ipynb sumstat_to_vcf \\\n",
    "    --sumstat-list /mnt/vast/hpc/csg/molecular_phenotype_calling/pQTL_cis/rosmap_stad/qced_sumstat_list.txt  \\\n",
    "    --cwd /mnt/vast/hpc/csg/molecular_phenotype_calling/pQTL_cis/rosmap_stad/ \\\n",
    "    --container /mnt/vast/hpc/csg/containers/bioinfo.sif \\\n",
    "    --walltime 100h \\\n",
    "    --numThreads 20 \\\n",
    "    --mem 200G -J 50 -c /mnt/vast/hpc/csg/molecular_phenotype_calling/csg.yml -q csg"
   ]
  },
  {
   "cell_type": "markdown",
   "id": "surrounded-librarian",
   "metadata": {
    "kernel": "SoS"
   },
   "source": [
    "#### Associate result processing"
   ]
  },
  {
   "cell_type": "code",
   "execution_count": null,
   "id": "sexual-reference",
   "metadata": {
    "kernel": "SoS"
   },
   "outputs": [],
   "source": [
    "sos run xqtl-pipeline/pipeline/assoc_result_processing.ipynb genome \\\n",
    "    --vcf `ls /mnt/vast/hpc/csg/molecular_phenotype_calling/pQTL_cis/rosmap_stad/*/*cis_long_table.vcf` \\\n",
    "    --padjust-method \"bonferroni\" \\\n",
    "    --container /mnt/vast/hpc/csg/containers/bioinfo.sif \\\n",
    "    --mem 200G -J 22 -q csg -c /mnt/vast/hpc/csg/molecular_phenotype_calling/csg.yml  "
   ]
  },
  {
   "cell_type": "markdown",
   "id": "canadian-domestic",
   "metadata": {
    "kernel": "SoS"
   },
   "source": [
    "#### Summary of result - To be update"
   ]
  },
  {
   "cell_type": "code",
   "execution_count": null,
   "id": "material-setting",
   "metadata": {
    "kernel": "SoS"
   },
   "outputs": [],
   "source": [
    "cat /mnt/vast/hpc/csg/molecular_phenotype_calling/pQTL_cis/rosmap_stad/pQTL.1/pheno_recipe_rosmap_pheno.rosmap_cov.ROSMAP_NIA_WGS.leftnorm.filtered.pQTL.unrelated.filtered.prune.pca.resid.Marchenko_pc.1.n_sig.txt"
   ]
  },
  {
   "cell_type": "markdown",
   "id": "going-progress",
   "metadata": {
    "kernel": "SoS"
   },
   "source": [
    "| tissue | n_assoc | n_snp | n_gene | \n",
    "| --- | --- | --- | --- |\n",
    "| pQTL | 290330 | 266394 | 3166 | "
   ]
  }
 ],
 "metadata": {
  "kernelspec": {
   "display_name": "Bash",
   "language": "bash",
   "name": "bash"
  },
  "language_info": {
   "codemirror_mode": "shell",
   "file_extension": ".sh",
   "mimetype": "text/x-sh",
   "name": "bash"
  },
  "sos": {
   "kernels": [
    [
     "SoS",
     "sos",
     "",
     "",
     "sos"
    ]
   ],
   "version": "0.24.1"
  }
 },
 "nbformat": 4,
 "nbformat_minor": 5
}
