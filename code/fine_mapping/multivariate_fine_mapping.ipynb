{
 "cells": [
  {
   "cell_type": "markdown",
   "id": "english-adapter",
   "metadata": {
    "kernel": "SoS",
    "tags": []
   },
   "source": [
    "# Multivariate fine-mapping workflows "
   ]
  },
  {
   "cell_type": "markdown",
   "id": "statewide-component",
   "metadata": {
    "kernel": "SoS"
   },
   "source": [
    "## Mixture Prior"
   ]
  },
  {
   "cell_type": "code",
   "execution_count": null,
   "id": "characteristic-brighton",
   "metadata": {
    "kernel": "SoS"
   },
   "outputs": [],
   "source": [
    "nohup sos run /home/hs3163/GIT/xqtl-pipeline/pipeline/multivariate/MASH/mixture_prior.ipynb ed_bovy \\\n",
    "--cwd ./ \\\n",
    "--container /mnt/mfs/statgen/containers/twas_latest.sif \\\n",
    "--name \"PCC_DLPFC_AC\" \\\n",
    "--data /mnt/mfs/statgen/xqtl_workflow_testing/module/MASH/PCC_DLPFC_AC.rds \\\n",
    "--mixture_components_dir /mnt/mfs/statgen/xqtl_workflow_testing/module/MASH/  -s force &"
   ]
  },
  {
   "cell_type": "markdown",
   "id": "useful-import",
   "metadata": {
    "kernel": "SoS"
   },
   "source": [
    "## MvSuSIE with summary statistics"
   ]
  },
  {
   "cell_type": "code",
   "execution_count": null,
   "id": "immune-recipe",
   "metadata": {
    "kernel": "SoS"
   },
   "outputs": [],
   "source": [
    "nohup sos run /home/hs3163/GIT/xqtl-pipeline/pipeline/fine_mapping/SuSiE/SuSiE_RSS.ipynb MvSuSiE_summary_stats_analysis  \\\n",
    "        --merged_analysis_unit /mnt/mfs/statgen/xqtl_workflow_testing/module/Merge/merge/RDS/PCC_DLPFC_AC.analysis_unit  \\\n",
    "        --resid_cor /mnt/mfs/statgen/xqtl_workflow_testing/module/MASH/PCC_DLPFC_AC.EZ.V_simple.rds \\\n",
    "        --prior /mnt/mfs/statgen/xqtl_workflow_testing/module/mixture_prior/PCC_DLPFC_AC.ed_bovy.V_simple.rds \\\n",
    "        --LD_Recipe /home/hs3163/GIT/ADSPFG-xQTL/MWE/LD_Recipe \\\n",
    "        --container /mnt/mfs/statgen/containers/twas_latest.sif \\\n",
    "        --wd ./ \\\n",
    "        --Theme_prefix \"PCC_DLPFC_AC\" &  #\\"
   ]
  }
 ],
 "metadata": {
  "kernelspec": {
   "display_name": "SoS",
   "language": "sos",
   "name": "sos"
  },
  "language_info": {
   "codemirror_mode": "sos",
   "file_extension": ".sos",
   "mimetype": "text/x-sos",
   "name": "sos",
   "nbconvert_exporter": "sos_notebook.converter.SoS_Exporter",
   "pygments_lexer": "sos"
  },
  "sos": {
   "kernels": [
    [
     "Bash",
     "bash",
     "Bash",
     "#E6EEFF",
     ""
    ],
    [
     "Markdown",
     "markdown",
     "markdown",
     "",
     ""
    ],
    [
     "SoS",
     "sos",
     "",
     "",
     "sos"
    ]
   ],
   "version": "0.22.4"
  }
 },
 "nbformat": 4,
 "nbformat_minor": 5
}
