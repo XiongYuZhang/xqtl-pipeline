{
 "cells": [
  {
   "cell_type": "markdown",
   "id": "dress-young",
   "metadata": {
    "kernel": "SoS"
   },
   "source": [
    "# Univariate fine-mapping workflows"
   ]
  },
  {
   "cell_type": "markdown",
   "id": "lovely-porter",
   "metadata": {
    "kernel": "SoS"
   },
   "source": [
    "## Generate regional level genotype and phenotype data\n",
    "\n",
    "### Genotype data partition by region\n",
    "\n",
    "This step is necessary for finemapping using SuSiE.\n",
    "`TADB_enhanced_cis.bed` is a list of TADB extended region for each gene, in formatting of gene_id, chr, start, end. The complete version of the file has been uploaded t\n",
    "o [GitHub](https://github.com/cumc/fungen-xqtl-analysis/blob/main/resource/TADB_enhanced_cis.bed). Here we use a trimmed version that only contains information for the data we are analyzing in the MWE, ie, the `protocol_example.protein.enhanced_cis_chr21_chr22.bed` "
   ]
  },
  {
   "cell_type": "code",
   "execution_count": 6,
   "id": "palestinian-contest",
   "metadata": {
    "kernel": "Bash"
   },
   "outputs": [
    {
     "name": "stdout",
     "output_type": "stream",
     "text": [
      "INFO: Running \u001b[32mgenotype_by_region_1\u001b[0m: \n",
      "INFO: \u001b[32mgenotype_by_region_1\u001b[0m (index=1) is \u001b[32mcompleted\u001b[0m.\n",
      "INFO: \u001b[32mgenotype_by_region_1\u001b[0m (index=4) is \u001b[32mcompleted\u001b[0m.\n",
      "INFO: \u001b[32mgenotype_by_region_1\u001b[0m (index=3) is \u001b[32mcompleted\u001b[0m.\n",
      "INFO: \u001b[32mgenotype_by_region_1\u001b[0m (index=5) is \u001b[32mcompleted\u001b[0m.\n",
      "INFO: \u001b[32mgenotype_by_region_1\u001b[0m (index=0) is \u001b[32mcompleted\u001b[0m.\n",
      "INFO: \u001b[32mgenotype_by_region_1\u001b[0m (index=2) is \u001b[32mcompleted\u001b[0m.\n",
      "INFO: \u001b[32mgenotype_by_region_1\u001b[0m (index=6) is \u001b[32mcompleted\u001b[0m.\n",
      "INFO: \u001b[32mgenotype_by_region_1\u001b[0m (index=7) is \u001b[32mcompleted\u001b[0m.\n",
      "INFO: \u001b[32mgenotype_by_region_1\u001b[0m (index=8) is \u001b[32mcompleted\u001b[0m.\n",
      "INFO: \u001b[32mgenotype_by_region_1\u001b[0m (index=9) is \u001b[32mcompleted\u001b[0m.\n",
      "INFO: \u001b[32mgenotype_by_region_1\u001b[0m (index=10) is \u001b[32mcompleted\u001b[0m.\n",
      "INFO: \u001b[32mgenotype_by_region_1\u001b[0m (index=14) is \u001b[32mcompleted\u001b[0m.\n",
      "INFO: \u001b[32mgenotype_by_region_1\u001b[0m (index=13) is \u001b[32mcompleted\u001b[0m.\n",
      "INFO: \u001b[32mgenotype_by_region_1\u001b[0m (index=11) is \u001b[32mcompleted\u001b[0m.\n",
      "INFO: \u001b[32mgenotype_by_region_1\u001b[0m (index=15) is \u001b[32mcompleted\u001b[0m.\n",
      "INFO: \u001b[32mgenotype_by_region_1\u001b[0m (index=12) is \u001b[32mcompleted\u001b[0m.\n",
      "INFO: \u001b[32mgenotype_by_region_1\u001b[0m (index=16) is \u001b[32mcompleted\u001b[0m.\n",
      "INFO: \u001b[32mgenotype_by_region_1\u001b[0m (index=17) is \u001b[32mcompleted\u001b[0m.\n",
      "INFO: \u001b[32mgenotype_by_region_1\u001b[0m (index=18) is \u001b[32mcompleted\u001b[0m.\n",
      "INFO: \u001b[32mgenotype_by_region_1\u001b[0m (index=19) is \u001b[32mcompleted\u001b[0m.\n",
      "INFO: \u001b[32mgenotype_by_region_1\u001b[0m (index=20) is \u001b[32mcompleted\u001b[0m.\n",
      "INFO: \u001b[32mgenotype_by_region_1\u001b[0m (index=22) is \u001b[32mcompleted\u001b[0m.\n",
      "INFO: \u001b[32mgenotype_by_region_1\u001b[0m (index=21) is \u001b[32mcompleted\u001b[0m.\n",
      "INFO: \u001b[32mgenotype_by_region_1\u001b[0m (index=23) is \u001b[32mcompleted\u001b[0m.\n",
      "INFO: \u001b[32mgenotype_by_region_1\u001b[0m (index=24) is \u001b[32mcompleted\u001b[0m.\n",
      "INFO: \u001b[32mgenotype_by_region_1\u001b[0m (index=25) is \u001b[32mcompleted\u001b[0m.\n",
      "INFO: \u001b[32mgenotype_by_region_1\u001b[0m (index=26) is \u001b[32mcompleted\u001b[0m.\n",
      "INFO: \u001b[32mgenotype_by_region_1\u001b[0m (index=27) is \u001b[32mcompleted\u001b[0m.\n",
      "INFO: \u001b[32mgenotype_by_region_1\u001b[0m output:   \u001b[32m/home/gw/GIT/github/fungen-xqtl-analysis/analysis/Wang_Columbia/ROSMAP/MWE/output/protocol_example.protein.enhanced_cis_chr21_chr22_genotype_by_region/protocol_example.genotype.chr21_22.ENSG00000154654_O15394.bed /home/gw/GIT/github/fungen-xqtl-analysis/analysis/Wang_Columbia/ROSMAP/MWE/output/protocol_example.protein.enhanced_cis_chr21_chr22_genotype_by_region/protocol_example.genotype.chr21_22.ENSG00000142192_P05067.bed... (28 items in 28 groups)\u001b[0m\n",
      "INFO: Running \u001b[32mgenotype_by_region_2\u001b[0m: \n",
      "INFO: \u001b[32mgenotype_by_region_2\u001b[0m is \u001b[32mcompleted\u001b[0m (pending nested workflow).\n",
      "INFO: Running \u001b[32mwrite_data_list\u001b[0m: \n",
      "INFO: \u001b[32mwrite_data_list\u001b[0m is \u001b[32mcompleted\u001b[0m.\n",
      "INFO: \u001b[32mwrite_data_list\u001b[0m output:   \u001b[32m/home/gw/GIT/github/fungen-xqtl-analysis/analysis/Wang_Columbia/ROSMAP/MWE/output/protocol_example.protein.enhanced_cis_chr21_chr22_genotype_by_region/protocol_example.genotype.chr21_22.genotype_by_region_files.txt\u001b[0m\n",
      "INFO: \u001b[32mgenotype_by_region_2\u001b[0m output:   \u001b[32m/home/gw/GIT/github/fungen-xqtl-analysis/analysis/Wang_Columbia/ROSMAP/MWE/output/protocol_example.protein.enhanced_cis_chr21_chr22_genotype_by_region/protocol_example.genotype.chr21_22.genotype_by_region_files.txt\u001b[0m\n",
      "INFO: Workflow genotype_by_region (ID=wd7e4633eb2ea8f09) is executed successfully with 3 completed steps and 30 completed substeps.\n"
     ]
    }
   ],
   "source": [
    "sos run pipeline/genotype_formatting.ipynb genotype_by_region \\\n",
    "    --region-list protocol_example/protocol_example.protein.enhanced_cis_chr21_chr22.bed \\\n",
    "    --genoFile protocol_example/protocol_example.genotype.chr21_22.bed \\\n",
    "    --cwd output \\\n",
    "    --container containers/bioinfo.sif"
   ]
  },
  {
   "cell_type": "markdown",
   "id": "western-cherry",
   "metadata": {
    "kernel": "SoS",
    "tags": []
   },
   "source": [
    "## Fine-mapping using individual level data"
   ]
  },
  {
   "cell_type": "code",
   "execution_count": null,
   "id": "imposed-jimmy",
   "metadata": {
    "kernel": "Bash"
   },
   "outputs": [],
   "source": [
    "sos run SuSiE.ipynb susie \\\n",
    "    --name protocol_example_protein \\\n",
    "    --genoFile output/protocol_example.protein.enhanced_cis_chr21_chr22_genotype_by_region/protocol_example.genotype.chr21_22.genotype_by_region_files.txt \\\n",
    "    --phenoFile output/phenotype/protocol_example.protein.region_list.txt \\\n",
    "                output/phenotype/protocol_example.protein.region_list.txt \\\n",
    "    --covFile output/covariate/protocol_example.protein.protocol_example.samples.protocol_example.genotype.chr21_22.pQTL.plink_qc.prune.pca.Marchenko_PC.gz \\\n",
    "              output/covariate/protocol_example.protein.protocol_example.samples.protocol_example.genotype.chr21_22.pQTL.plink_qc.prune.pca.Marchenko_PC.gz \\\n",
    "    --phenotype-names trait_A trait_B \\\n",
    "    --utils-R misc/xqtl_utils.R \\\n",
    "    --container containers/stephenslab.sif"
   ]
  },
  {
   "cell_type": "markdown",
   "id": "insured-immune",
   "metadata": {
    "kernel": "Bash"
   },
   "source": [
    "**Please skip the analysis below because they need to be updated with the new workflow interface**"
   ]
  },
  {
   "cell_type": "markdown",
   "id": "resistant-journalist",
   "metadata": {
    "kernel": "SoS"
   },
   "source": [
    "### SuSiE results post processing\n"
   ]
  },
  {
   "cell_type": "code",
   "execution_count": null,
   "id": "provincial-planet",
   "metadata": {
    "kernel": "SoS"
   },
   "outputs": [],
   "source": [
    "sos run pipeline/SuSiE_post_processing.ipynb susie_to_tsv \\\n",
    "    --cwd output/ADGWAS_finemapping_extracted/Bellenguez/ --rds_path `ls GWAS_Finemapping_Results/Bellenguez/ADGWAS2022*rds ` \\\n",
    "    --region-list ~/1300_hg38_EUR_LD_blocks_orig.tsv \\\n",
    "    --container containers/stephenslab.sif "
   ]
  },
  {
   "cell_type": "markdown",
   "id": "insured-technology",
   "metadata": {
    "kernel": "SoS",
    "tags": []
   },
   "source": [
    "## Univariate SuSiF"
   ]
  },
  {
   "cell_type": "code",
   "execution_count": null,
   "id": "surface-planner",
   "metadata": {
    "kernel": "SoS"
   },
   "outputs": [],
   "source": [
    "sos run pipeline/SuSiE.ipynb uni_fsusie \\\n",
    "    --genoFile /mnt/vast/hpc/csg/molecular_phenotype_calling/eqtl/output/dlpfc_tad_region_list_plink_files/ROSMAP_NIA_WGS.leftnorm.filtered.filtered.plink_files_list.txt  \\\n",
    "    --cwd output/f_susie_tad_haQTL_pos_check_pure_2/ --name haQTL \\\n",
    "    --region-list dlpfc_tad_list \\\n",
    "    --phenoFile phenotype_list \\\n",
    "    --covFile covar_list --prior mixture_normal_per_scale  --container containers/stephenslab.sif "
   ]
  },
  {
   "cell_type": "markdown",
   "id": "floppy-anger",
   "metadata": {
    "kernel": "SoS"
   },
   "source": [
    "### fSuSiE results post processing\n"
   ]
  },
  {
   "cell_type": "code",
   "execution_count": null,
   "id": "governmental-steam",
   "metadata": {
    "kernel": "SoS"
   },
   "outputs": [],
   "source": [
    "sos run pipeline/SuSiE_post_processing.ipynb fsusie_to_tsv \\\n",
    "    --cwd output/f_susie_tad_haQTL_pos_check_pure_2 --rds_path `ls output/f_susie_tad_haQTL_pos_check_pure_2/cache/*rds ` \\\n",
    "    --region-list ../eqtl/dlpfc_tad_list \\\n",
    "    --container containers/stephenslab.sif \n",
    "\n",
    "sos run pipeline/SuSiE_post_processing.ipynb fsusie_to_tsv \\\n",
    "    --cwd output/f_susie_tad_haQTL_pos_check_pure_3 --rds_path `ls output/f_susie_tad_haQTL_pos_check_pure_3/cache/*rds ` \\\n",
    "    --region-list ../eqtl/dlpfc_tad_list \\\n",
    "    --container containers/stephenslab.sif\n",
    "\n",
    "\n",
    "sos run pipeline/SuSiE_post_processing.ha fsusie_to_tsv \\\n",
    "    --cwd output/f_susie_tad_meQTL_pos_check_pure/ --rds_path `ls output/f_susie_tad_meQTL_pos_check_pure/cache/*rds ` \\\n",
    "    --region-list ../eqtl/dlpfc_tad_list \\\n",
    "    --container containers/stephenslab.sif\n",
    "\n",
    "sos run pipeline/SuSiE_post_processing.ipynb fsusie_to_tsv \\\n",
    "    --cwd output/pQTL/ --rds_path `ls /mnt/vast/hpc/csg/molecular_phenotype_calling/pqtl_finemapping/output/susie_per_ID_tad/cache/*rds` \\\n",
    "    --region-list ../eqtl/dlpfc_tad_list \\\n",
    "    --container containers/stephenslab.sif\n",
    "\n",
    "\n",
    "nohup sos run pipeline/SuSiE_post_processing.ipynb fsusie_to_tsv     --cwd output/f_susie_tad_haQTL_pos_limited_2/result --rds_path `ls output/f_susie_tad_haQT\n",
    "L_pos_limited_2/cache/*rds`     --region-list ../eqtl/dlpfc_tad_list     --container containers/stephenslab.sif &\n",
    "\n",
    "sos run pipeline/SuSiE_post_processing.ipynb fsusie_to_tsv \\\n",
    "    --cwd output/f_susie_tad_haQTL_pos_resume/ --rds_path `ls output/f_susie_tad_haQTL_pos_resume/cache/*rds` \\\n",
    "    --region-list ../eqtl/dlpfc_tad_list \\\n",
    "    --container containers/stephenslab.sif\n",
    "\n",
    "sos run pipeline/SuSiE_post_processing.ipynb fsusie_to_tsv \\\n",
    "    --cwd output/f_susie_tad_meQTL_pos_resume/ --rds_path `ls output/f_susie_tad_meQTL_pos_resume/cache/*rds` \\\n",
    "    --region-list ../eqtl/dlpfc_tad_list \\\n",
    "    --container containers/stephenslab.sif\n",
    "\n",
    "\n",
    "sos run pipeline/SuSiE_post_processing.ipynb fsusie_to_tsv \\\n",
    "    --cwd output/f_susie_tad_haQTL_pos_resume/result --rds_path `ls output/f_susie_tad_haQTL_pos_resume/cache/*rds` \\\n",
    "    --region-list ../eqtl/dlpfc_tad_list \\\n",
    "    --container containers/stephenslab.sif &\n",
    "\n",
    "\n",
    "sos run pipeline/SuSiE_post_processing.ipynb fsusie_to_tsv \\\n",
    "    --cwd output/test --rds_path `ls output/f_susie_tad_haQTL_pos_check_pure_2/cache/*rds | head -1 ` \\\n",
    "    --region-list ../eqtl/dlpfc_tad_list \\\n",
    "    --container /home/hs3163/test_sif/stephenslab.sif\n"
   ]
  },
  {
   "cell_type": "markdown",
   "id": "focused-statement",
   "metadata": {
    "kernel": "SoS"
   },
   "source": [
    "## haQTL"
   ]
  },
  {
   "cell_type": "code",
   "execution_count": null,
   "id": "valid-nylon",
   "metadata": {
    "kernel": "SoS"
   },
   "outputs": [],
   "source": [
    "sos run pipeline/SuSiE_post_processing.ipynb fsusie_to_tsv \\\n",
    "    --cwd output/f_susie_tad_haQTL_pos_check_pure_2/result --rds_path `ls output/f_susie_tad_haQTL_pos_check_pure_2/cache/*rds ` \\\n",
    "    --region-list ../eqtl/dlpfc_tad_list \\\n",
    "    --container containers/stephenslab.sif  &\n",
    "\n",
    "\n",
    "sos run pipeline/SuSiE_post_processing.ipynb fsusie_to_tsv \\\n",
    "    --cwd output/f_susie_tad_haQTL_resume/result --rds_path `ls output/f_susie_tad_haQTL_resume/cache/*rds` \\\n",
    "    --region-list ../eqtl/dlpfc_tad_list \\\n",
    "    --container containers/stephenslab.sif &\n",
    "\n",
    "\n",
    "nohup sos run pipeline/SuSiE_post_processing.ipynb fsusie_to_tsv   \\\n",
    "    --cwd output/f_susie_tad_haQTL_pos_limited_2/result \\\n",
    "    --rds_path `ls output/f_susie_tad_haQTL_pos_limited_2/cache/*rds`   \\\n",
    "    --region-list ../eqtl/dlpfc_tad_list     --container containers/stephenslab.sif &\n",
    "\n",
    "\n"
   ]
  },
  {
   "cell_type": "markdown",
   "id": "trying-shore",
   "metadata": {
    "kernel": "SoS"
   },
   "source": [
    "## mQTL"
   ]
  },
  {
   "cell_type": "code",
   "execution_count": null,
   "id": "broke-reserve",
   "metadata": {
    "kernel": "SoS"
   },
   "outputs": [],
   "source": [
    "nohup sos run pipeline/SuSiE_post_processing.ipynb fsusie_to_tsv \\\n",
    "    --cwd output/f_susie_tad_meQTL_pos_2/result --rds_path `ls output/f_susie_tad_meQTL_pos_2/cache/*rds ` \\\n",
    "    --region-list ../eqtl/dlpfc_tad_list \\\n",
    "    --container containers/stephenslab.sif  &\n",
    "\n",
    "nohup sos run pipeline/SuSiE_post_processing.ipynb fsusie_to_tsv \\\n",
    "    --cwd output/f_susie_tad_meQTL_pos_resume/result --rds_path `ls output/f_susie_tad_meQTL_pos_resume/cache/*rds ` \\\n",
    "    --region-list ../eqtl/dlpfc_tad_list \\\n",
    "    --container containers/stephenslab.sif  &\n",
    "\n",
    "nohup sos run pipeline/SuSiE_post_processing.ipynb fsusie_to_tsv \\\n",
    "    --cwd output/f_susie_tad_meQTL_pos_limited_2/result --rds_path `ls output/f_susie_tad_meQTL_pos_limited_2/cache/*rds ` \\\n",
    "    --region-list ../eqtl/dlpfc_tad_list \\\n",
    "    --container containers/stephenslab.sif  &\n",
    "\n"
   ]
  },
  {
   "cell_type": "code",
   "execution_count": null,
   "id": "driving-manual",
   "metadata": {
    "kernel": "SoS"
   },
   "outputs": [],
   "source": []
  },
  {
   "cell_type": "markdown",
   "id": "clean-today",
   "metadata": {
    "kernel": "SoS"
   },
   "source": [
    "## Plotting susie"
   ]
  },
  {
   "cell_type": "markdown",
   "id": "bulgarian-rogers",
   "metadata": {
    "kernel": "SoS"
   },
   "source": [
    "### PIP land scape plot"
   ]
  },
  {
   "cell_type": "code",
   "execution_count": null,
   "id": "republican-observer",
   "metadata": {
    "kernel": "SoS"
   },
   "outputs": [],
   "source": [
    "sos run pipeline/SuSiE_post_processing.ipynb susie_pip_landscape_plot \\\n",
    "    --cwd output/test/ --plot_list plot_recipe_668 --annot_tibble ~/Annotatr_builtin_annotation_tibble.tsv -s force --container containers/stephenslab.sif  &\n",
    "\n",
    "sos run pipeline/SuSiE_post_processing.ipynb susie_pip_landscape_plot \\\n",
    "    --cwd output/test/ --plot_list plot_recipe_ADGWAS_uni --annot_tibble ~/Annotatr_builtin_annotation_tibble.tsv -s force --container containers/stephenslab.sif  &\n",
    "\n",
    "sos run pipeline/SuSiE_post_processing.ipynb susie_pip_landscape_plot \\\n",
    "    --cwd output/1182/ --plot_list plot_recipe_1182 --annot_tibble ~/Annotatr_builtin_annotation_tibble.tsv -s force --container containers/stephenslab.sif  &"
   ]
  },
  {
   "cell_type": "code",
   "execution_count": null,
   "id": "confused-commons",
   "metadata": {
    "kernel": "SoS"
   },
   "outputs": [],
   "source": [
    "sos run pipeline/SuSiE_post_processing.ipynb susie_pip_landscape_plot \\\n",
    "    --cwd output/test_3/ --plot_list plot_recipe --annot_tibble ~/Annotatr_builtin_annotation_tibble.tsv -s force --container containers/stephenslab.sif  &"
   ]
  },
  {
   "cell_type": "code",
   "execution_count": null,
   "id": "civic-italic",
   "metadata": {
    "kernel": "SoS"
   },
   "outputs": [],
   "source": [
    "sos run pipeline/SuSiE_post_processing.ipynb susie_pip_landscape_plot \\\n",
    "    --cwd output/5g/ --plot_list recipe_5gene --annot_tibble ~/Annotatr_builtin_annotation_tibble.tsv -s force --container containers/stephenslab.sif  &"
   ]
  },
  {
   "cell_type": "markdown",
   "id": "another-danger",
   "metadata": {
    "kernel": "SoS"
   },
   "source": [
    "### UpSetR plot "
   ]
  },
  {
   "cell_type": "code",
   "execution_count": null,
   "id": "human-infrastructure",
   "metadata": {
    "kernel": "SoS"
   },
   "outputs": [],
   "source": [
    "sos run pipeline/SuSiE_post_processing.ipynb susie_upsetR_plot \\\n",
    "    --cwd output/updated_mQTL/ --plot_list UpsetR_recipe -s force --container containers/stephenslab.sif &\n",
    "sos run pipeline/SuSiE_post_processing.ipynb susie_upsetR_plot \\\n",
    "    --cwd output/updated_16/ --plot_list UpsetR_recipe_16 -s force --container containers/stephenslab.sif &"
   ]
  },
  {
   "cell_type": "code",
   "execution_count": null,
   "id": "finnish-logic",
   "metadata": {
    "kernel": "SoS"
   },
   "outputs": [],
   "source": [
    "sos run pipeline/SuSiE_post_processing.ipynb susie_upsetR_cs_plot \\\n",
    "    --cwd output/updated_mQTL/ --plot_list UpsetR_recipe_1 -s force --trait_to_select 3 --container containers/stephenslab.sif &\n",
    "sos run pipeline/SuSiE_post_processing.ipynb susie_upsetR_cs_plot \\\n",
    "    --cwd output/updated_16/ --plot_list UpsetR_recipe_16  -s force --trait_to_select 3 --container containers/stephenslab.sif &\n",
    "\n",
    "sos run pipeline/SuSiE_post_processing.ipynb susie_upsetR_cs_plot \\\n",
    "    --cwd output/rerun/ --plot_list UpsetR_recipe_16_rerun  -s force --trait_to_select 3 --container containers/stephenslab.sif &\n",
    "\n",
    "sos run pipeline/SuSiE_post_processing.ipynb susie_upsetR_cs_plot \\\n",
    "    --cwd output/rerun/ --plot_list UpsetR_recipe_16_rerun  -s force --trait_to_select 2 --container containers/stephenslab.sif &\n",
    "\n",
    "sos run pipeline/SuSiE_post_processing.ipynb susie_upsetR_cs_plot \\\n",
    "    --cwd output/rerun/ --plot_list UpsetR_recipe_16_rerun  -s force --trait_to_select 1 --container containers/stephenslab.sif &"
   ]
  },
  {
   "cell_type": "markdown",
   "id": "weighted-vermont",
   "metadata": {
    "kernel": "SoS"
   },
   "source": [
    "## FSuSiE estimated effect plot"
   ]
  },
  {
   "cell_type": "code",
   "execution_count": null,
   "id": "miniature-equality",
   "metadata": {
    "kernel": "SoS"
   },
   "outputs": [],
   "source": [
    "sos run pipeline/SuSiE_post_processing.ipynb fsusie_extract_effect \\\n",
    "    --cwd output/all_haQTL_effect/ --rds_path /mnt/vast/hpc/csg/molecular_phenotype_calling/QTL_fine_mapping/output/definitive_haQTL//*.rds \\\n",
    "    --container containers/stephenslab.sif\n",
    "\n",
    "sos run pipeline/SuSiE_post_processing.ipynb fsusie_extract_effect \\\n",
    "    --cwd output/all_meQTL_effect/ --rds_path /mnt/vast/hpc/csg/molecular_phenotype_calling/QTL_fine_mapping/output/definitive_mQTL/*rds \\\n",
    "    --container containers/stephenslab.sif -s build "
   ]
  },
  {
   "cell_type": "code",
   "execution_count": null,
   "id": "distant-working",
   "metadata": {
    "kernel": "SoS"
   },
   "outputs": [],
   "source": [
    "nohup sos run pipeline/SuSiE_post_processing.ipynb fsusie_extract_effect \\\n",
    "    --cwd output/rerun/all_haQTL_effect/ --rds_path `ls output/rerun/cache/*haqtl*rds | grep -v -f empty_rds ` \\\n",
    "    --container containers/stephenslab.sif -s build  &\n",
    "\n",
    "nohup sos run pipeline/SuSiE_post_processing.ipynb fsusie_extract_effect \\\n",
    "    --cwd output/rerun/all_meQTL_effect/ --rds_path `ls output/rerun/cache/*mqtl*rds | grep -v -f empty_rds ` \\\n",
    "    --container containers/stephenslab.sif -s build &"
   ]
  },
  {
   "cell_type": "markdown",
   "id": "rolled-objective",
   "metadata": {
    "kernel": "SoS"
   },
   "source": [
    "## FSuSiE credible band"
   ]
  },
  {
   "cell_type": "code",
   "execution_count": null,
   "id": "conditional-individual",
   "metadata": {
    "kernel": "SoS"
   },
   "outputs": [],
   "source": [
    "sos run pipeline/SuSiE_post_processing.ipynb fsusie_affected_region \\\n",
    "    --cwd output/definitive_haQTL/affected_region --rds_path /mnt/vast/hpc/csg/molecular_phenotype_calling/QTL_fine_mapping/output/definitive_haQTL/*.rds \\\n",
    "    --container containers/stephenslab.sif"
   ]
  },
  {
   "cell_type": "code",
   "execution_count": null,
   "id": "suspended-million",
   "metadata": {
    "kernel": "SoS"
   },
   "outputs": [],
   "source": [
    "sos run pipeline/SuSiE_post_processing.ipynb fsusie_affected_region \\\n",
    "    --cwd output/definitive_mQTL/affected_region --rds_path /mnt/vast/hpc/csg/molecular_phenotype_calling/QTL_fine_mapping/output/definitive_mQTL/*.rds \\\n",
    "    --container containers/stephenslab.sif"
   ]
  },
  {
   "cell_type": "code",
   "execution_count": null,
   "id": "historic-project",
   "metadata": {
    "kernel": "SoS"
   },
   "outputs": [],
   "source": [
    "nohup sos run pipeline/SuSiE_post_processing.ipynb fsusie_affected_region    \\\n",
    "    --cwd output/definitive_mQTL/affected_region \\\n",
    "    --rds_path /mnt/vast/hpc/csg/molecular_phenotype_calling/QTL_fine_mapping/output/definitive_mQTL/*.rds    \\\n",
    "    --container containers/stephenslab.sif -J 300 -q csg2 -c csg2.yml  &"
   ]
  },
  {
   "cell_type": "code",
   "execution_count": null,
   "id": "sitting-leave",
   "metadata": {
    "kernel": "SoS"
   },
   "outputs": [],
   "source": [
    "nohup sos run pipeline/SuSiE_post_processing.ipynb fsusie_affected_region \\\n",
    "    --cwd output/rerun/affected_region/mQTL --rds_path `ls output/rerun/cache/*mqtl*rds | grep -v -f empty_rds ` \\\n",
    "    --container containers/stephenslab.sif &\n",
    "\n",
    "nohup sos run pipeline/SuSiE_post_processing.ipynb fsusie_affected_region \\\n",
    "    --cwd output/rerun/affected_region/haQTL --rds_path `ls output/rerun/cache/*haqtl*rds | grep -v -f empty_rds ` \\\n",
    "    --container containers/stephenslab.sif &"
   ]
  },
  {
   "cell_type": "code",
   "execution_count": null,
   "id": "romantic-shift",
   "metadata": {
    "kernel": "SoS"
   },
   "outputs": [],
   "source": []
  }
 ],
 "metadata": {
  "kernelspec": {
   "display_name": "SoS",
   "language": "sos",
   "name": "sos"
  },
  "language_info": {
   "codemirror_mode": "sos",
   "file_extension": ".sos",
   "mimetype": "text/x-sos",
   "name": "sos",
   "nbconvert_exporter": "sos_notebook.converter.SoS_Exporter",
   "pygments_lexer": "sos"
  },
  "sos": {
   "kernels": [
    [
     "Bash",
     "bash",
     "Bash",
     "#E6EEFF",
     "shell"
    ],
    [
     "SoS",
     "sos",
     "",
     "",
     "sos"
    ]
   ],
   "version": "0.22.4"
  }
 },
 "nbformat": 4,
 "nbformat_minor": 5
}
