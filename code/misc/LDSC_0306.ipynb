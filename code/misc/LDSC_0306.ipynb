{
 "cells": [
  {
   "cell_type": "markdown",
   "id": "charming-demographic",
   "metadata": {},
   "source": [
    "# LDSC"
   ]
  },
  {
   "cell_type": "code",
   "execution_count": null,
   "id": "ruled-minneapolis",
   "metadata": {},
   "outputs": [],
   "source": [
    "https://bios25328.hakyimlab.org/post/2021/04/16/ld-score-regression/"
   ]
  },
  {
   "cell_type": "markdown",
   "id": "coupled-margin",
   "metadata": {},
   "source": [
    "This is my first test for the use of LDSC regression with GWAS summary stats, especially for this main goal: correcting for poligenucuty and population substructure in my phenotype"
   ]
  },
  {
   "cell_type": "markdown",
   "id": "fantastic-defeat",
   "metadata": {},
   "source": [
    "## The input file that are required for the analysis are:"
   ]
  },
  {
   "cell_type": "code",
   "execution_count": null,
   "id": "thousand-price",
   "metadata": {},
   "outputs": [],
   "source": [
    "1. precomputed LDSC scores for european UKB \n",
    "2. GWAS summary stats so that it uses the same SNP ID system as LDSC files"
   ]
  },
  {
   "cell_type": "markdown",
   "id": "plain-prophet",
   "metadata": {},
   "source": [
    "and then we can Run LDSC regression software"
   ]
  },
  {
   "cell_type": "markdown",
   "id": "increasing-boston",
   "metadata": {},
   "source": [
    "## and the expected output"
   ]
  },
  {
   "cell_type": "raw",
   "id": "municipal-prefix",
   "metadata": {},
   "source": [
    "A .gz file containing input summary statistics columns and additionally the following columns:\n",
    "\n",
    "PIP - posterior causal probability\n",
    "BETA_MEAN - posterior mean of causal effect size (in standardized genotype scale)\n",
    "BETA_SD - posterior standard deviation of causal effect size (in standardized genotype scale)\n",
    "CREDIBLE_SET - the index of the first (typically smallest) credible set that the SNP belongs to (0 means none)."
   ]
  },
  {
   "cell_type": "markdown",
   "id": "moving-monroe",
   "metadata": {},
   "source": [
    "### Phase 1: Munged qc summary stats"
   ]
  },
  {
   "cell_type": "code",
   "execution_count": null,
   "id": "beautiful-judge",
   "metadata": {},
   "outputs": [],
   "source": [
    "module load Singularity/3.5.3\n",
    "sos run /mnt/mfs/hgrcgrid/homes/fr2540/xqtl-pipeline/pipeline/polyfun.ipynb \\\n",
    "    munged_sumstats\\\n",
    "      --sumstats /mnt/mfs/hgrcgrid/homes/fr2540/projects/tinnitus/output_regenie_test_all_casegroup3/tinnitus_group3_17940cases_128931controls_related_unrelated_tinnitus_3.txt\\\n",
    "      --container /mnt/mfs/statgen/containers/polyfun.sif\\\n",
    "      -c /mnt/mfs/hgrcgrid/homes/fr2540/xqtl-pipeline/code/csg.yml\\\n",
    "      -q csg -s force -s build \\\n",
    "      &> /mnt/mfs/hgrcgrid/homes/fr2540/projects/tinnitus/LDSC/ldsc_test_tinnitus_all_group3/ldsc_test_tinnitus_all_group3.log"
   ]
  },
  {
   "cell_type": "raw",
   "id": "smoking-brunei",
   "metadata": {},
   "source": [
    "/opt/conda/lib/python3.8/site-packages/scipy/__init__.py:146: UserWarning: A NumPy version >=1.16.5 and <1.23.0 is required for this version of SciPy (detected version 1.24.1\n",
    "  warnings.warn(f\"A NumPy version >={np_minversion} and <{np_maxversion}\"\n",
    "[INFO]  Reading sumstats file...\n",
    "[INFO]  Done in 140.41 seconds\n",
    "/usr/local/bin//munge_polyfun_sumstats.py:24: FutureWarning: In the future `np.bool` will be defined as the corresponding NumPy scalar.  (This may have returned Python scalars in past versions.\n",
    "  is_relevant_col = np.zeros(df.shape[1], dtype=np.bool)\n",
    "Traceback (most recent call last):\n",
    "  File \"/usr/local/bin//munge_polyfun_sumstats.py\", line 251, in <module>\n",
    "    df_sumstats = rename_df_columns(df_sumstats)\n",
    "  File \"/usr/local/bin//munge_polyfun_sumstats.py\", line 39, in rename_df_columns\n",
    "    chr_column = find_df_column(df_sumstats, ['CHR', 'CHROMOSOME', 'CHROM'])\n",
    "  File \"/usr/local/bin//munge_polyfun_sumstats.py\", line 24, in find_df_column\n",
    "    is_relevant_col = np.zeros(df.shape[1], dtype=np.bool)\n",
    "  File \"/home/fr2540/.local/lib/python3.8/site-packages/numpy/__init__.py\", line 284, in __getattr__\n",
    "    raise AttributeError(\"module {!r} has no attribute \"\n",
    "AttributeError: module 'numpy' has no attribute 'bool'"
   ]
  },
  {
   "cell_type": "markdown",
   "id": "dietary-stopping",
   "metadata": {},
   "source": [
    "It seems a version problem and I tried to search for a container that would go over this issue "
   ]
  },
  {
   "cell_type": "markdown",
   "id": "combined-exclusive",
   "metadata": {},
   "source": [
    "### I found this statgen/Anmol/py2ldsc_latest.sif and I decided to try because I thought could have the right version of python"
   ]
  },
  {
   "cell_type": "code",
   "execution_count": null,
   "id": "lucky-desperate",
   "metadata": {},
   "outputs": [],
   "source": [
    "module load Singularity/3.5.3\n",
    "sos run /mnt/mfs/hgrcgrid/homes/fr2540/xqtl-pipeline/pipeline/polyfun.ipynb \\\n",
    "    munged_sumstats\\\n",
    "      --sumstats /mnt/mfs/hgrcgrid/homes/fr2540/projects/tinnitus/output_regenie_test_all_casegroup3/tinnitus_group3_17940cases_128931controls_related_unrelated_tinnitus_3.txt\\\n",
    "      --container /mnt/mfs/statgen/Anmol/py2ldsc_latest.sif\\\n",
    "      -c /mnt/mfs/hgrcgrid/homes/fr2540/xqtl-pipeline/code/csg.yml\\\n",
    "      -q csg -s force -s build \\\n",
    "      &> /mnt/mfs/hgrcgrid/homes/fr2540/projects/tinnitus/LDSC/ldsc_test_tinnitus_all_group3/ldsc_test_tinnitus_all_group3.log"
   ]
  },
  {
   "cell_type": "raw",
   "id": "senior-sucking",
   "metadata": {},
   "source": [
    "Traceback (most recent call last):\n",
    "  File \"/mnt/mfs/statgen/Anmol/polyfun//munge_polyfun_sumstats.py\", line 8, in <module>\n",
    "    from polyfun_utils import check_package_versions, configure_logger\n",
    "  File \"/mnt/vast/hpc/csg/Anmol/polyfun/polyfun_utils.py\", line 6, in <module>\n",
    "    from tqdm import tqdm\n",
    "ImportError: No module named tqdm"
   ]
  },
  {
   "cell_type": "markdown",
   "id": "precise-cleaner",
   "metadata": {},
   "source": [
    "### Then I tried changing the polyfun.def file simply adding the line: \n",
    "python -m pip install numpy==1.23"
   ]
  },
  {
   "cell_type": "markdown",
   "id": "burning-louisiana",
   "metadata": {},
   "source": [
    "### Then I built a new container called test_fr.sif:"
   ]
  },
  {
   "cell_type": "raw",
   "id": "matched-semester",
   "metadata": {},
   "source": [
    "singularity build --fakeroot test_fr.sif polyfun.def"
   ]
  },
  {
   "cell_type": "code",
   "execution_count": null,
   "id": "focal-regular",
   "metadata": {},
   "outputs": [],
   "source": [
    "module load Singularity/3.5.3\n",
    "sos run /mnt/mfs/hgrcgrid/homes/fr2540/xqtl-pipeline/pipeline/polyfun.ipynb \\\n",
    "    munged_sumstats\\\n",
    "      --sumstats /mnt/mfs/hgrcgrid/homes/fr2540/projects/tinnitus/output_regenie_test_all_casegroup3/tinnitus_group3_17940cases_128931controls_related_unrelated_tinnitus_3.txt\\\n",
    "      --container /mnt/mfs/statgen/containers/test_fr.sif\\\n",
    "      -c /mnt/mfs/hgrcgrid/homes/fr2540/xqtl-pipeline/code/csg.yml\\\n",
    "      -q csg -s force -s build \\\n",
    "      &> /mnt/mfs/hgrcgrid/homes/fr2540/projects/tinnitus/LDSC/ldsc_test_tinnitus_all_group3/ldsc_test_tinnitus_all_group3.log"
   ]
  },
  {
   "cell_type": "raw",
   "id": "systematic-thought",
   "metadata": {},
   "source": [
    "Traceback (most recent call last):\n",
    "  File \"/usr/local/bin/munge_polyfun_sumstats.py\", line 307, in <module>\n",
    "    df_sumstats[columns_to_keep].to_parquet(args.out)\n",
    "  File \"/home/fr2540/.local/lib/python3.8/site-packages/pandas/util/_decorators.py\", line 211, in wrapper\n",
    "    return func(*args, **kwargs)\n",
    "  File \"/home/fr2540/.local/lib/python3.8/site-packages/pandas/core/frame.py\", line 2976, in to_parquet\n",
    "    return to_parquet(\n",
    "  File \"/home/fr2540/.local/lib/python3.8/site-packages/pandas/io/parquet.py\", line 430, in to_parquet\n",
    "    impl.write(\n",
    "  File \"/home/fr2540/.local/lib/python3.8/site-packages/pandas/io/parquet.py\", line 174, in write\n",
    "    table = self.api.Table.from_pandas(df, **from_pandas_kwargs)\n",
    "  File \"pyarrow/table.pxi\", line 1393, in pyarrow.lib.Table.from_pandas\n",
    "  File \"/opt/conda/lib/python3.8/site-packages/pyarrow/pandas_compat.py\", line 1027, in <module>\n",
    "    'floating': np.float,\n",
    "  File \"/home/fr2540/.local/lib/python3.8/site-packages/numpy/__init__.py\", line 284, in __getattr__\n",
    "    raise AttributeError(\"module {!r} has no attribute \"\n",
    "AttributeError: module 'numpy' has no attribute 'float'"
   ]
  },
  {
   "cell_type": "markdown",
   "id": "subsequent-spectacular",
   "metadata": {},
   "source": [
    "### Then I used a new .yml from https://github.com/bulik/ldsc/blob/master/environment.yml:"
   ]
  },
  {
   "cell_type": "code",
   "execution_count": null,
   "id": "greatest-separate",
   "metadata": {},
   "outputs": [],
   "source": [
    "module load Singularity/3.5.3\n",
    "sos run /mnt/mfs/hgrcgrid/homes/fr2540/xqtl-pipeline/pipeline/polyfun.ipynb \\\n",
    "    munged_sumstats\\\n",
    "      --sumstats /mnt/mfs/hgrcgrid/homes/fr2540/projects/tinnitus/output_regenie_test_all_casegroup3/tinnitus_group3_17940cases_128931controls_related_unrelated_tinnitus_3.txt\\\n",
    "      --container /mnt/mfs/statgen/containers/test_fr.sif\\\n",
    "      -c /mnt/mfs/hgrcgrid/homes/fr2540/xqtl-pipeline/code/environment.yml\\\n",
    "      -q csg -s force -s build \\\n",
    "      &> /mnt/mfs/hgrcgrid/homes/fr2540/projects/tinnitus/LDSC/ldsc_test_tinnitus_all_group3/ldsc_test_tinnitus_all_group3.log"
   ]
  },
  {
   "cell_type": "markdown",
   "id": "upper-racing",
   "metadata": {},
   "source": [
    "I got this error"
   ]
  },
  {
   "cell_type": "raw",
   "id": "joined-differential",
   "metadata": {},
   "source": [
    "Failed to connect to csg"
   ]
  },
  {
   "cell_type": "markdown",
   "id": "ruled-chester",
   "metadata": {},
   "source": [
    "### and then I remove the -q csg part "
   ]
  },
  {
   "cell_type": "code",
   "execution_count": null,
   "id": "burning-limit",
   "metadata": {},
   "outputs": [],
   "source": [
    "module load Singularity/3.5.3\n",
    "sos run /mnt/mfs/hgrcgrid/homes/fr2540/xqtl-pipeline/pipeline/polyfun.ipynb \\\n",
    "    munged_sumstats\\\n",
    "      --sumstats /mnt/mfs/hgrcgrid/homes/fr2540/projects/tinnitus/output_regenie_test_all_casegroup3/tinnitus_group3_17940cases_128931controls_related_unrelated_tinnitus_3.txt\\\n",
    "      --container /mnt/mfs/statgen/containers/test_fr.sif\\\n",
    "      -c /mnt/mfs/hgrcgrid/homes/fr2540/xqtl-pipeline/code/environment.yml\\\n",
    "      -s force -s build \\\n",
    "      &> /mnt/mfs/hgrcgrid/homes/fr2540/projects/tinnitus/LDSC/ldsc_test_tinnitus_all_group3/ldsc_test_tinnitus_all_group3.logb"
   ]
  },
  {
   "cell_type": "markdown",
   "id": "unexpected-morgan",
   "metadata": {},
   "source": [
    "I got this error"
   ]
  },
  {
   "cell_type": "raw",
   "id": "early-publicity",
   "metadata": {},
   "source": [
    "“Traceback (most recent call last):\n",
    "  File \"/usr/local/bin/munge_polyfun_sumstats.py\", line 307, in <module>\n",
    "    df_sumstats[columns_to_keep].to_parquet(args.out)\n",
    "  File \"/home/fr2540/.local/lib/python3.8/site-packages/pandas/util/_decorators.py\", line 211, in wrapper\n",
    "    return func(*args, **kwargs)\n",
    "  File \"/home/fr2540/.local/lib/python3.8/site-packages/pandas/core/frame.py\", line 2976, in to_parquet\n",
    "    return to_parquet(\n",
    "  File \"/home/fr2540/.local/lib/python3.8/site-packages/pandas/io/parquet.py\", line 430, in to_parquet\n",
    "    impl.write(\n",
    "  File \"/home/fr2540/.local/lib/python3.8/site-packages/pandas/io/parquet.py\", line 174, in write\n",
    "    table = self.api.Table.from_pandas(df, **from_pandas_kwargs)\n",
    "  File \"pyarrow/table.pxi\", line 1393, in pyarrow.lib.Table.from_pandas\n",
    "  File \"/opt/conda/lib/python3.8/site-packages/pyarrow/pandas_compat.py\", line 1027, in <module>\n",
    "    'floating': np.float,\n",
    "  File \"/home/fr2540/.local/lib/python3.8/site-packages/numpy/__init__.py\", line 284, in _getattr\n",
    "    raise AttributeError(\"module {!r} has no attribute \"\n",
    "AttributeError: module 'numpy' has no attribute 'float'_”"
   ]
  },
  {
   "cell_type": "markdown",
   "id": "regional-springfield",
   "metadata": {},
   "source": [
    "### I changed the container"
   ]
  },
  {
   "cell_type": "code",
   "execution_count": null,
   "id": "approved-patch",
   "metadata": {},
   "outputs": [],
   "source": [
    "module load Singularity/3.5.3\n",
    "sos run /mnt/mfs/hgrcgrid/homes/fr2540/xqtl-pipeline/pipeline/polyfun.ipynb \\\n",
    "    munged_sumstats\\\n",
    "      --sumstats /mnt/mfs/hgrcgrid/homes/fr2540/projects/tinnitus/output_regenie_test_all_casegroup3/tinnitus_group3_17940cases_128931controls_related_unrelated_tinnitus_3.txt\\\n",
    "      --container /mnt/mfs/statgen/containers/polyfun.sif\\\n",
    "      -c /mnt/mfs/hgrcgrid/homes/fr2540/xqtl-pipeline/code/environment.yml\\\n",
    "      -s force -s build \\\n",
    "      &> /mnt/mfs/hgrcgrid/homes/fr2540/projects/tinnitus/LDSC/ldsc_test_tinnitus_all_group3/ldsc_test_tinnitus_all_group3.logb"
   ]
  },
  {
   "cell_type": "markdown",
   "id": "general-chicago",
   "metadata": {},
   "source": [
    "I got this error"
   ]
  },
  {
   "cell_type": "raw",
   "id": "prompt-mortality",
   "metadata": {},
   "source": [
    "/opt/conda/lib/python3.8/site-packages/scipy/__init__.py:146: UserWarning: A NumPy version >=1.16.5 and <1.23.0 is required for this version of SciPy (detected version 1.24.1\n",
    "  warnings.warn(f\"A NumPy version >={np_minversion} and <{np_maxversion}\"\n",
    "/usr/local/bin/munge_polyfun_sumstats.py:24: FutureWarning: In the future `np.bool` will be defined as the corresponding NumPy scalar.  (This may have returned Python scalars in past versions.\n",
    "  is_relevant_col = np.zeros(df.shape[1], dtype=np.bool)\n",
    "Traceback (most recent call last):\n",
    "  File \"/usr/local/bin/munge_polyfun_sumstats.py\", line 251, in <module>\n",
    "    df_sumstats = rename_df_columns(df_sumstats)\n",
    "  File \"/usr/local/bin/munge_polyfun_sumstats.py\", line 39, in rename_df_columns\n",
    "    chr_column = find_df_column(df_sumstats, ['CHR', 'CHROMOSOME', 'CHROM'])\n",
    "  File \"/usr/local/bin/munge_polyfun_sumstats.py\", line 24, in find_df_column\n",
    "    is_relevant_col = np.zeros(df.shape[1], dtype=np.bool)\n",
    "  File \"/home/fr2540/.local/lib/python3.8/site-packages/numpy/__init__.py\", line 284, in __getattr__\n",
    "    raise AttributeError(\"module {!r} has no attribute \"\n",
    "AttributeError: module 'numpy' has no attribute 'bool'"
   ]
  },
  {
   "cell_type": "markdown",
   "id": "pleasant-tyler",
   "metadata": {},
   "source": [
    "I checked the scipy version that is compatible with the numpy version required "
   ]
  },
  {
   "cell_type": "markdown",
   "id": "robust-salem",
   "metadata": {},
   "source": [
    "### I changed the environment.yml with scipy==1.2 and then scipy==1.4 based on https://docs.scipy.org/doc/scipy/dev/toolchain.html \n",
    "I used the same code as before and I got the same error as 1.2.7"
   ]
  },
  {
   "cell_type": "markdown",
   "id": "studied-memory",
   "metadata": {},
   "source": [
    "## Update on March 6th \n",
    "After the meeting with Gao, I realized the big error was changing the yml file, while I needed to rebuild the container based on the \"dependencies\" the yml file was telling me. So, basically the yml file tells you what you need for that job.\n",
    "\n",
    "The environment.yml for LDSC gives us the version of Numpy or Scipy we need to use, so we decide to build a new container based on the dependencies required from enviroment.yml"
   ]
  },
  {
   "cell_type": "markdown",
   "id": "designing-cargo",
   "metadata": {},
   "source": [
    "### build a new container starting from polyfun.def adding two lines about numpy and scipy versions"
   ]
  },
  {
   "cell_type": "code",
   "execution_count": null,
   "id": "aging-speech",
   "metadata": {},
   "outputs": [],
   "source": [
    "Bootstrap: docker\n",
    "From: gaow/base-notebook\n",
    "\n",
    "\n",
    "%labels\n",
    "maintainer=\"Amanda Tsai<at3535@cumc.columbia.edu>\"\n",
    "%post\n",
    "cd /tmp\n",
    "su -  root # USER root\n",
    "R -e \"remotes::install_github('stephenslab/susieR',build_vignettes=FALSE)\"\n",
    "R -e \"install.packages('Ckmeans.1d.dp', dependencies=TRUE, repos='http://cran.rstudio.com/')\"\n",
    "R -e \"install.packages('KRIS', dependencies=TRUE, repos='http://cran.rstudio.com/')\"\n",
    "apt-get update \\\n",
    "&& apt install -y --no-install-recommends  git-all  libboost-all-dev\n",
    "git clone https://github.com/omerwe/polyfun\n",
    "mv ./polyfun/* /usr/local/bin/\n",
    "wget http://www.christianbenner.com/finemap_v1.4_x86_64.tgz\n",
    "tar xvf finemap_v1.4_x86_64.tgz\n",
    "mv ./finemap_v1.4_x86_64/finemap_v1.4_x86_64 /usr/local/bin/\n",
    "wget http://www.christianbenner.com/ldstore_v2.0_x86_64.tgz\n",
    "tar xzvf ldstore_v2.0_x86_64.tgz\n",
    "mv ./ldstore_v2.0_x86_64/ldstore_v2.0_x86_64 /usr/local/bin/\n",
    "python -m pip install -U pip\n",
    "python -m pip install numpy==1.22\n",
    "python -m pip install scipy==1.7\n",
    "pip install pandas-plink networkx scipy bitarray rpy2 sklearn\n",
    "chmod 777 /usr/local/bin/*\n",
    "echo \"cd /tmp\" >> /entrypoint.sh\n",
    "echo \"exec /bin/bash \"$@\"\" >> /entrypoint.sh\n",
    "chmod u+x /entrypoint.sh\n",
    "%runscript\n",
    "exec /bin/bash /bin/bash /entrypoint.sh \"$@\"\n",
    "%startscript\n",
    "exec /bin/bash /bin/bash /entrypoint.sh \"$@\""
   ]
  },
  {
   "cell_type": "code",
   "execution_count": null,
   "id": "introductory-cause",
   "metadata": {},
   "outputs": [],
   "source": [
    "singularity build --fakeroot test_fr.sif polyfun.def"
   ]
  },
  {
   "cell_type": "markdown",
   "id": "packed-albert",
   "metadata": {},
   "source": [
    "### but I got this error "
   ]
  },
  {
   "cell_type": "code",
   "execution_count": null,
   "id": "broken-mechanism",
   "metadata": {},
   "outputs": [],
   "source": [
    "Install git for emacs\n",
    "Setting up git-el (1:2.25.1-1ubuntu3.10) ...\n",
    "Install git for emacs\n",
    "Install git for emacs\n",
    "Setting up emacs (1:26.3+1-1ubuntu2) ...\n",
    "Setting up git-all (1:2.25.1-1ubuntu3.10) ...\n",
    "+ git clone https://github.com/omerwe/polyfun\n",
    "fatal: destination path 'polyfun' already exists and is not an empty directory.\n",
    "FATAL:   While performing build: while running engine: exit status 128"
   ]
  },
  {
   "cell_type": "markdown",
   "id": "incorrect-monster",
   "metadata": {},
   "source": [
    "since I cannot see any other polyfun folder neither .git file I asked Jose, and he suggest me to add these two lines to avoid the problem:"
   ]
  },
  {
   "cell_type": "raw",
   "id": "toxic-circuit",
   "metadata": {},
   "source": [
    "git clone https://github.com/omerwe/polyfun /usr/local/polyfun_test\n",
    "mv /usr/local/polyfun_test/* /usr/local/bin/"
   ]
  },
  {
   "cell_type": "markdown",
   "id": "tested-finland",
   "metadata": {},
   "source": [
    "those two lines make me pass the error but not complete the build"
   ]
  },
  {
   "cell_type": "markdown",
   "id": "integral-scheme",
   "metadata": {},
   "source": [
    "### I got this other error"
   ]
  },
  {
   "cell_type": "raw",
   "id": "brazilian-award",
   "metadata": {},
   "source": [
    "+ tar xvf finemap_v1.4_x86_64.tgz\n",
    "finemap_v1.4_x86_64/\n",
    "finemap_v1.4_x86_64/example/\n",
    "tar: finemap_v1.4_x86_64/example: Cannot mkdir: Permission denied\n",
    "finemap_v1.4_x86_64/example/data.k\n",
    "tar: finemap_v1.4_x86_64/example/data.k: Cannot open: Permission denied\n",
    "finemap_v1.4_x86_64/example/data.ld\n",
    "tar: finemap_v1.4_x86_64/example/data.ld: Cannot open: Permission denied\n",
    "finemap_v1.4_x86_64/example/data.z\n",
    "tar: finemap_v1.4_x86_64/example/data.z: Cannot open: Permission denied\n",
    "finemap_v1.4_x86_64/example/master\n",
    "tar: finemap_v1.4_x86_64/example/master: Cannot open: Permission denied\n",
    "finemap_v1.4_x86_64/finemap_v1.4_x86_64\n",
    "tar: finemap_v1.4_x86_64/finemap_v1.4_x86_64: Cannot open: Permission denied\n",
    "finemap_v1.4_x86_64/LICENSE\n",
    "tar: finemap_v1.4_x86_64/LICENSE: Cannot open: Permission denied\n",
    "tar: finemap_v1.4_x86_64: Cannot utime: Operation not permitted\n",
    "tar: finemap_v1.4_x86_64: Cannot change ownership to uid 0, gid 999: Operation not permitted\n",
    "tar: Exiting with failure status due to previous errors\n",
    "FATAL:   While performing build: while running engine: exit status 2"
   ]
  },
  {
   "cell_type": "markdown",
   "id": "rubber-writing",
   "metadata": {},
   "source": [
    "Jose successfully built the container with the Admin Account but he thought that the --fakeroot option would address that"
   ]
  },
  {
   "cell_type": "markdown",
   "id": "sorted-leather",
   "metadata": {},
   "source": [
    "He suggested me the to add an option to the \"tar\" command but again:"
   ]
  },
  {
   "cell_type": "raw",
   "id": "heated-mercury",
   "metadata": {},
   "source": [
    "tar xvf /home/fr2540/xqtl-pipeline/container/singularity/finemap_v1.4_x86_6.tgz --no-same-owner\n",
    "mv /home/fr2540/xqtl-pipeline/container/singularity/finemap_v1.4_x86_64 /usr/local/bin/"
   ]
  },
  {
   "cell_type": "markdown",
   "id": "through-flavor",
   "metadata": {},
   "source": [
    "again same error. "
   ]
  },
  {
   "cell_type": "markdown",
   "id": "basic-apollo",
   "metadata": {},
   "source": [
    "### container from docker image "
   ]
  },
  {
   "cell_type": "markdown",
   "id": "through-beatles",
   "metadata": {},
   "source": [
    "Diana suggested me as alternative to create the container through the docker image, then push the container through singularity and then build the container with singularity build option."
   ]
  },
  {
   "cell_type": "markdown",
   "id": "noble-official",
   "metadata": {},
   "source": [
    "we edit the docker image with the two lines added above as in the .def file and then:"
   ]
  },
  {
   "cell_type": "code",
   "execution_count": null,
   "id": "friendly-fairy",
   "metadata": {},
   "outputs": [],
   "source": [
    "docker build -t docker://statisticalgenetics/polyfun -f polyfun_0308.dockerfile"
   ]
  },
  {
   "cell_type": "code",
   "execution_count": null,
   "id": "funded-clark",
   "metadata": {},
   "outputs": [],
   "source": [
    "docker push docker://statisticalgenetics/polyfun"
   ]
  },
  {
   "cell_type": "code",
   "execution_count": null,
   "id": "mathematical-actor",
   "metadata": {},
   "outputs": [],
   "source": [
    "module load Singularity/3.9.4\n",
    "export http_proxy=http://menloproxy.cumc.columbia.edu:6060\n",
    "export https_proxy=http://menloproxy.cumc.columbia.edu:6060\n",
    "singularity build polyfun.sif docker://statisticalgenetics/polyfun"
   ]
  },
  {
   "cell_type": "markdown",
   "id": "literary-checkout",
   "metadata": {},
   "source": [
    "and after that the container was successfully built "
   ]
  },
  {
   "cell_type": "markdown",
   "id": "subsequent-latin",
   "metadata": {},
   "source": [
    "## I tried to run the munged summ stats again"
   ]
  },
  {
   "cell_type": "code",
   "execution_count": null,
   "id": "sapphire-worthy",
   "metadata": {},
   "outputs": [],
   "source": [
    "#!/bin/sh\n",
    "#$ -l h_rt=23:55:00\n",
    "#$ -l h_vmem=30G\n",
    "#$ -N LDSC_test\n",
    "#$ -o /mnt/mfs/hgrcgrid/homes/fr2540/projects/tinnitus/LDSC/ldsc_test_tinnitus_all_group3/ldsc_test_tinnitus_all_group3$JOBID.out\n",
    "#$ -e /mnt/mfs/hgrcgrid/homes/fr2540/projects/tinnitus/LDSC/ldsc_test_tinnitus_all_group3/ldsc_test_tinnitus_all_group3$JOBID.err\n",
    "#$ -j y\n",
    "#$ -q csg.q\n",
    "#$ -S /bin/bash\n",
    "\n",
    "export PATH=$HOME/miniconda3/bin:$PATH\n",
    "\n",
    "module load Singularity/3.9.4\n",
    "sos run /mnt/mfs/hgrcgrid/homes/fr2540/xqtl-pipeline/pipeline/polyfun.ipynb \\\n",
    "    munged_sumstats\\\n",
    "      --sumstats /mnt/mfs/hgrcgrid/homes/fr2540/projects/tinnitus/output_regenie_test_all_casegroup3/tinnitus_group3_17940cases_128931controls_related_unrelated_tinnitus_3.txt\\\n",
    "      --container /mnt/mfs/hgrcgrid/homes/fr2540/projects/tinnitus/LDSC/polyfun.sif\\\n",
    "      -c /mnt/mfs/statgen/en2509/X_chr/bioworkflows/admin/csg.yml \\\n",
    "      -q csg -s force -s build \\\n",
    "      &> /mnt/mfs/hgrcgrid/homes/fr2540/projects/tinnitus/LDSC/ldsc_test_tinnitus_all_group3/ldsc_test_tinnitus_all_group3.log"
   ]
  },
  {
   "cell_type": "markdown",
   "id": "judicial-allocation",
   "metadata": {},
   "source": [
    "but I still got the error: "
   ]
  },
  {
   "cell_type": "raw",
   "id": "cloudy-router",
   "metadata": {},
   "source": [
    "/opt/conda/lib/python3.8/site-packages/scipy/__init__.py:146: UserWarning: A NumPy version >=1.16.5 and <1.23.0 is required for this version of SciPy (detected version 1.24.1\n",
    "  warnings.warn(f\"A NumPy version >={np_minversion} and <{np_maxversion}\"\n",
    "[INFO]  Reading sumstats file...\n",
    "[INFO]  Done in 199.55 seconds\n",
    "[INFO]  50629967 SNPs are in the sumstats file\n",
    "[INFO]  Removing 16276922 SNPs with INFO<0.60\n",
    "[INFO]  Removing 40818961 SNPs with MAF<0.01\n",
    "[INFO]  Removing 133225 HLA SNPs\n",
    "[INFO]  9649331 SNPs with sumstats remained after all filtering stages\n",
    "[INFO]  Saving munged sumstats of 9649331 SNPs to /mnt/mfs/hgrcgrid/homes/fr2540/demo.sumstats_munged.parquet\n",
    "Traceback (most recent call last):\n",
    "  File \"/usr/local/bin//munge_polyfun_sumstats.py\", line 307, in <module>\n",
    "    df_sumstats[columns_to_keep].to_parquet(args.out)\n",
    "  File \"/home/fr2540/.local/lib/python3.8/site-packages/pandas/util/_decorators.py\", line 211, in wrapper\n",
    "    return func(*args, **kwargs)\n",
    "  File \"/home/fr2540/.local/lib/python3.8/site-packages/pandas/core/frame.py\", line 2976, in to_parquet\n",
    "    return to_parquet(\n",
    "  File \"/home/fr2540/.local/lib/python3.8/site-packages/pandas/io/parquet.py\", line 430, in to_parquet\n",
    "    impl.write(\n",
    "  File \"/home/fr2540/.local/lib/python3.8/site-packages/pandas/io/parquet.py\", line 174, in write\n",
    "    table = self.api.Table.from_pandas(df, **from_pandas_kwargs)\n",
    "  File \"pyarrow/table.pxi\", line 1393, in pyarrow.lib.Table.from_pandas\n",
    "  File \"/opt/conda/lib/python3.8/site-packages/pyarrow/pandas_compat.py\", line 1027, in <module>\n",
    "    'floating': np.float,\n",
    "  File \"/home/fr2540/.local/lib/python3.8/site-packages/numpy/__init__.py\", line 284, in __getattr__\n",
    "    raise AttributeError(\"module {!r} has no attribute \"\n",
    "AttributeError: module 'numpy' has no attribute 'float'"
   ]
  },
  {
   "cell_type": "markdown",
   "id": "contained-finnish",
   "metadata": {},
   "source": [
    "### possible error in the docker image"
   ]
  },
  {
   "cell_type": "code",
   "execution_count": null,
   "id": "mediterranean-shirt",
   "metadata": {},
   "outputs": [],
   "source": [
    "FROM gaow/base-notebook\n",
    "LABEL maintainer=\"Amanda Tsai<at3535@cumc.columbia.edu>\"\n",
    "RUN cd /tmp\n",
    "USER root\n",
    "RUN R -e \"remotes::install_github('stephenslab/susieR',build_vignettes=FALSE)\"\n",
    "RUN R -e \"install.packages('Ckmeans.1d.dp', dependencies=TRUE, repos='http://cran.rstudio.com/')\"\n",
    "RUN R -e \"install.packages('KRIS', dependencies=TRUE, repos='http://cran.rstudio.com/')\"\n",
    "RUN apt-get update \\\n",
    "&& apt install -y --no-install-recommends  git-all  libboost-all-dev\n",
    "RUN git clone https://github.com/omerwe/polyfun\n",
    "RUN mv ./polyfun/* /usr/local/bin/\n",
    "RUN wget http://www.christianbenner.com/finemap_v1.4_x86_64.tgz\n",
    "RUN tar xvf finemap_v1.4_x86_64.tgz\n",
    "RUN mv ./finemap_v1.4_x86_64/finemap_v1.4_x86_64 /usr/local/bin/\n",
    "RUN wget http://www.christianbenner.com/ldstore_v2.0_x86_64.tgz\n",
    "RUN tar xzvf ldstore_v2.0_x86_64.tgz\n",
    "RUN mv ./ldstore_v2.0_x86_64/ldstore_v2.0_x86_64 /usr/local/bin/\n",
    "RUN python -m pip install -U pip\n",
    "RUN python -m pip install numpy==1.22\n",
    "RUN python -m pip install scipy==1.7\n",
    "RUN pip install pandas-plink networkx scipy bitarray rpy2 sklearn\n",
    "RUN chmod 777 /usr/local/bin/*\n",
    "RUN echo \"cd /tmp\" >> /entrypoint.sh\n",
    "RUN echo \"exec /bin/bash \"$@\"\" >> /entrypoint.sh\n",
    "RUN chmod u+x /entrypoint.sh\n",
    "CMD /bin/bash /entrypoint.sh"
   ]
  },
  {
   "cell_type": "markdown",
   "id": "excessive-vermont",
   "metadata": {},
   "source": [
    "Since \"RUN pip install pandas-plink networkx scipy bitarray rpy2 sklearn\" comes after \"RUN python -m pip install numpy==1.22\" and \"RUN python -m pip install scipy==1.7\", I edited the image like this:"
   ]
  },
  {
   "cell_type": "code",
   "execution_count": null,
   "id": "several-transsexual",
   "metadata": {},
   "outputs": [],
   "source": [
    "FROM gaow/base-notebook\n",
    "LABEL maintainer=\"Amanda Tsai<at3535@cumc.columbia.edu>\"\n",
    "RUN cd /tmp\n",
    "USER root\n",
    "RUN R -e \"remotes::install_github('stephenslab/susieR',build_vignettes=FALSE)\"\n",
    "RUN R -e \"install.packages('Ckmeans.1d.dp', dependencies=TRUE, repos='http://cran.rstudio.com/')\"\n",
    "RUN R -e \"install.packages('KRIS', dependencies=TRUE, repos='http://cran.rstudio.com/')\"\n",
    "RUN apt-get update \\\n",
    "&& apt install -y --no-install-recommends  git-all  libboost-all-dev\n",
    "RUN git clone https://github.com/omerwe/polyfun\n",
    "RUN mv ./polyfun/* /usr/local/bin/\n",
    "RUN wget http://www.christianbenner.com/finemap_v1.4_x86_64.tgz\n",
    "RUN tar xvf finemap_v1.4_x86_64.tgz\n",
    "RUN mv ./finemap_v1.4_x86_64/finemap_v1.4_x86_64 /usr/local/bin/\n",
    "RUN wget http://www.christianbenner.com/ldstore_v2.0_x86_64.tgz\n",
    "RUN tar xzvf ldstore_v2.0_x86_64.tgz\n",
    "RUN mv ./ldstore_v2.0_x86_64/ldstore_v2.0_x86_64 /usr/local/bin/\n",
    "RUN python -m pip install -U pip\n",
    "RUN pip install pandas-plink networkx scipy==1.7 numpy==1.22 bitarray rpy2 sklearn\n",
    "RUN chmod 777 /usr/local/bin/*\n",
    "RUN echo \"cd /tmp\" >> /entrypoint.sh\n",
    "RUN echo \"exec /bin/bash \"$@\"\" >> /entrypoint.sh\n",
    "RUN chmod u+x /entrypoint.sh\n",
    "CMD /bin/bash /entrypoint.sh"
   ]
  },
  {
   "cell_type": "markdown",
   "id": "suffering-silver",
   "metadata": {},
   "source": [
    "Diana runned the same command as above resulting in polyfun1.0, I tried using that:"
   ]
  },
  {
   "cell_type": "code",
   "execution_count": null,
   "id": "ordinary-paint",
   "metadata": {},
   "outputs": [],
   "source": [
    "#!/bin/sh\n",
    "#$ -l h_rt=23:55:00\n",
    "#$ -l h_vmem=30G\n",
    "#$ -N LDSC_test\n",
    "#$ -o /mnt/mfs/hgrcgrid/homes/fr2540/projects/tinnitus/LDSC/ldsc_test_tinnitus_all_group3/ldsc_test_tinnitus_all_group3$JOBID.out\n",
    "#$ -e /mnt/mfs/hgrcgrid/homes/fr2540/projects/tinnitus/LDSC/ldsc_test_tinnitus_all_group3/ldsc_test_tinnitus_all_group3$JOBID.err\n",
    "#$ -j y\n",
    "#$ -q csg.q\n",
    "#$ -S /bin/bash\n",
    "\n",
    "export PATH=$HOME/miniconda3/bin:$PATH\n",
    "\n",
    "module load Singularity/3.9.4\n",
    "sos run /mnt/mfs/hgrcgrid/homes/fr2540/xqtl-pipeline/pipeline/polyfun.ipynb \\\n",
    "    munged_sumstats\\\n",
    "      --sumstats /mnt/mfs/hgrcgrid/homes/fr2540/projects/tinnitus/output_regenie_test_all_casegroup3/tinnitus_group3_17940cases_128931controls_related_unrelated_tinnitus_3.txt\\\n",
    "      --container /mnt/mfs/hgrcgrid/homes/fr2540/projects/tinnitus/LDSC/polyfun1.0\\\n",
    "      -c /mnt/mfs/statgen/en2509/X_chr/bioworkflows/admin/csg.yml \\\n",
    "      -q csg -s force -s build \\\n",
    "      &> /mnt/mfs/hgrcgrid/homes/fr2540/projects/tinnitus/LDSC/ldsc_test_tinnitus_all_group3/ldsc_test_tinnitus_all_group3.log"
   ]
  },
  {
   "cell_type": "markdown",
   "id": "double-assurance",
   "metadata": {},
   "source": [
    "ending with this error:"
   ]
  },
  {
   "cell_type": "raw",
   "id": "protected-thumb",
   "metadata": {},
   "source": [
    "Invalid directive: SyntaxError('EOL while scanning string literal', ('<string>', 1, 89, 'def func(container = \"/mnt/mfs/hgrcgrid/homes/fr2540/projects/tinnitus/LDSC/polyfun1.0\\\\\"\\n'))\u001b[0m"
   ]
  },
  {
   "cell_type": "markdown",
   "id": "organizational-lying",
   "metadata": {},
   "source": [
    "## I think it could be a problem of extension, I may ask Diana to rerun the building with the right extension"
   ]
  },
  {
   "cell_type": "code",
   "execution_count": null,
   "id": "qualified-tanzania",
   "metadata": {},
   "outputs": [],
   "source": []
  }
 ],
 "metadata": {
  "kernelspec": {
   "display_name": "Python 3",
   "language": "python",
   "name": "python3"
  },
  "language_info": {
   "codemirror_mode": {
    "name": "ipython",
    "version": 3
   },
   "file_extension": ".py",
   "mimetype": "text/x-python",
   "name": "python",
   "nbconvert_exporter": "python",
   "pygments_lexer": "ipython3",
   "version": "3.8.5"
  },
  "toc-autonumbering": true
 },
 "nbformat": 4,
 "nbformat_minor": 5
}
