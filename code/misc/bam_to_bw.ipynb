{
 "cells": [
  {
   "cell_type": "markdown",
   "id": "576c194e-5d53-44c9-a17d-c24ef66f0ac5",
   "metadata": {
    "kernel": "SoS",
    "tags": []
   },
   "source": [
    "## Convert bam files to bigwig files"
   ]
  },
  {
   "cell_type": "code",
   "execution_count": null,
   "id": "3543737d-d3f1-4ae2-981f-a53c50f7ba43",
   "metadata": {
    "kernel": "SoS"
   },
   "outputs": [],
   "source": [
    "sos run xqtl-pipeline/code/misc/bam_to_bw.ipynb reformat_vcf_wasp \\\n",
    "    --bam_files `ls test_bams/*Aligned.sortedByCoord.out.md.bam` \\\n",
    "    --container rna_quantification.sif"
   ]
  },
  {
   "cell_type": "code",
   "execution_count": null,
   "id": "0b8f673c-b202-46e4-be63-d1e9bcd862f8",
   "metadata": {
    "kernel": "SoS"
   },
   "outputs": [],
   "source": [
    "[global]\n",
    "import os\n",
    "# Work directory & output directory\n",
    "parameter: cwd = path('./')\n",
    "# The filename prefix for output data\n",
    "parameter: job_size = 1\n",
    "parameter: mem = '60G'\n",
    "parameter: container = \"\"\n",
    "parameter: entrypoint={('micromamba run -a \"\" -n' + ' ' + container.split('/')[-1][:-4]) if container.endswith('.sif') else f''}\n",
    "parameter: bam_files = paths\n",
    "import pandas as pd\n",
    "#parameter: analysis_units = path\n",
    "# handle N = per_chunk data-set in one job\n",
    "parameter: per_chunk = 1\n"
   ]
  },
  {
   "cell_type": "code",
   "execution_count": null,
   "id": "ac163c4d-9d69-4dba-a84e-ccfe6bc6b24a",
   "metadata": {
    "kernel": "SoS",
    "tags": []
   },
   "outputs": [],
   "source": [
    "[reformat_vcf_wasp]\n",
    "input: bam_files, group_by = 1\n",
    "output:f'{cwd:a}/{_input:bn}.bw'\n",
    "task: trunk_workers = 1, trunk_size = job_size, mem = mem,  walltime = '24h', tags = f'{step_name}_{_output[0]:bn}'\n",
    "bash: expand= \"$[ ]\", stderr = f'{_output[0]}.stderr', stdout = f'{_output[0]}.stdout', container=container, entrypoint=entrypoint\n",
    "    samtools index $[_input]\n",
    "    bamCoverage -b $[_input] -o $[_output]\n"
   ]
  }
 ],
 "metadata": {
  "kernelspec": {
   "display_name": "SoS",
   "language": "sos",
   "name": "sos"
  },
  "language_info": {
   "codemirror_mode": "sos",
   "file_extension": ".sos",
   "mimetype": "text/x-sos",
   "name": "sos",
   "nbconvert_exporter": "sos_notebook.converter.SoS_Exporter",
   "pygments_lexer": "sos"
  },
  "sos": {
   "kernels": [
    [
     "SoS",
     "sos",
     "",
     ""
    ]
   ],
   "version": "0.24.0"
  }
 },
 "nbformat": 4,
 "nbformat_minor": 5
}
