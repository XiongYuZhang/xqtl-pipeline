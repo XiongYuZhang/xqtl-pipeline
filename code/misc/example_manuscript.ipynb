{
 "cells": [
  {
   "cell_type": "markdown",
   "id": "3b6a5ae2-25a0-4581-a33c-de07241827eb",
   "metadata": {},
   "source": [
    "# Example Manuscript\n",
    "\n",
    "An outline of what to include in a [nature protocols](https://www.nature.com/nprot/for-authors/preparing-your-submission) paper.  \n",
    "The `Keywords` section at the end of this notebooks shows which sections will take text from the website/notebooks. "
   ]
  },
  {
   "cell_type": "markdown",
   "id": "8f926d2b-04a1-458c-8e6c-23b944356a76",
   "metadata": {},
   "source": [
    "## Title\n",
    "Nature Protocols Recommendations: 30 words max"
   ]
  },
  {
   "cell_type": "markdown",
   "id": "b040fe45-f9bb-4115-ac18-b04f1bdb0968",
   "metadata": {},
   "source": []
  },
  {
   "cell_type": "markdown",
   "id": "8c560582-c1ae-466b-8661-3f8f6fd7787e",
   "metadata": {},
   "source": [
    "## Authors\n"
   ]
  },
  {
   "cell_type": "markdown",
   "id": "7b902786-5566-4adf-8f02-ba4f0fc7c184",
   "metadata": {},
   "source": [
    "Hao Sun, Francis Grenn, developers and leaders on [website table](https://cumc.github.io/xqtl-pipeline/README.html#our-team)"
   ]
  },
  {
   "cell_type": "markdown",
   "id": "6a7b0890-1a35-4f0c-a641-dea058ba9f20",
   "metadata": {},
   "source": [
    "## Abstract\n",
    "Nature Protocols Recommendations: 250 words max"
   ]
  },
  {
   "cell_type": "markdown",
   "id": "38ac0762-5c5b-4a75-b278-d411e8b11fbf",
   "metadata": {},
   "source": []
  },
  {
   "cell_type": "markdown",
   "id": "5d9184bf-6c84-4c17-924b-52ca3ef36cdb",
   "metadata": {},
   "source": [
    "## Introduction\n",
    "Nature Protocols Recommendations: could use suggested subheadings (below)"
   ]
  },
  {
   "cell_type": "markdown",
   "id": "eb9f30b8-7542-470c-8cfe-16631335b81e",
   "metadata": {},
   "source": [
    "### Development of the protocol\n",
    "Nature Protocols Recommendations: include references to our own peer-reviewed primary research publications"
   ]
  },
  {
   "cell_type": "markdown",
   "id": "887e6b2b-c8b5-4784-b5ea-710036978d76",
   "metadata": {},
   "source": []
  },
  {
   "cell_type": "markdown",
   "id": "627e1527-8ea1-4600-8d41-6947a64675b0",
   "metadata": {},
   "source": [
    "### Applications of the method\n",
    "Nature Protocols Recommendations: discuss diversity of the applications of the method"
   ]
  },
  {
   "cell_type": "markdown",
   "id": "7ea8b3fd-aae3-4043-b2f0-9f0092597dc8",
   "metadata": {},
   "source": []
  },
  {
   "cell_type": "markdown",
   "id": "456a4476-faa2-41f2-ac13-d8fb18e20bba",
   "metadata": {},
   "source": [
    "### Comparison with other methods\n",
    "Nature Protocols Recommendations: Reference alternative methods that are commonly used to achieve similar results as the protocol. Discus advantages and disadvantages of our protocol compared to alternatives."
   ]
  },
  {
   "cell_type": "markdown",
   "id": "ea48fe08-ea3f-4f69-8113-abf2d4f99c17",
   "metadata": {},
   "source": []
  },
  {
   "cell_type": "markdown",
   "id": "70c6e0e6-3e37-4d46-ae25-e56e8dee11d4",
   "metadata": {},
   "source": [
    "### Experimental Design\n",
    "Nature Protocols Recommendations: Information on design of experiments that would allow readers to adapt the protocol to their own experiments. Also discuss controls necessary for the protocol. \n",
    "\n",
    "Description of tools and parts in the `Procedure` section below.  \n",
    "Include a paragraph describing each tool/part that would be extracted form the `Description` part of the miniprotocol page/notebook for the website."
   ]
  },
  {
   "cell_type": "markdown",
   "id": "ed107377-971f-44ad-8d97-65e15ed2bdaf",
   "metadata": {},
   "source": [
    "#### Molecular Phenotype Quantification (Step 1)"
   ]
  },
  {
   "cell_type": "markdown",
   "id": "4170b85d-cd57-4377-aa13-d5447be2460d",
   "metadata": {},
   "source": [
    "paragraph(s) extracted from `Description` section of RNA-seq Expression miniprotocol website/notebook page  \n",
    "paragraph(s) extracted from `Description` section of scRNA-seq Expression Calling miniprotocol website/notebook page  \n",
    "paragraph(s) extracted from `Description` section of Alternative Polyadenylation miniprotocol website/notebook page  \n",
    "paragraph(s) extracted from `Description` section of Methylation miniprotocol website/notebook page  \n",
    "paragraph(s) extracted from `Description` section of Alternative Splicing from RNA-seq Data miniprotocol website/notebook page  "
   ]
  },
  {
   "cell_type": "code",
   "execution_count": null,
   "id": "58ac4559-9aed-4665-9f19-425848f184ed",
   "metadata": {},
   "outputs": [],
   "source": []
  },
  {
   "cell_type": "markdown",
   "id": "7291d694-a58d-452b-bd48-3a045f95726b",
   "metadata": {},
   "source": [
    "#### Data Pre-Processing (Step 2)"
   ]
  },
  {
   "cell_type": "markdown",
   "id": "5816334b-a3e0-4ce4-9e64-88b05beecf50",
   "metadata": {},
   "source": [
    "paragraph(s) extracted from `Description` section of Genotype Data Preprocessing miniprotocol website/notebook page  \n",
    "paragraph(s) extracted from `Description` section of Phenotype Data Preprocessing miniprotocol website/notebook page  \n",
    "paragraph(s) extracted from `Description` section of Covariate Data Preprocessing miniprotocol website/notebook page  "
   ]
  },
  {
   "cell_type": "code",
   "execution_count": null,
   "id": "ea565b96-374c-415c-ab61-ea232e529519",
   "metadata": {},
   "outputs": [],
   "source": []
  },
  {
   "cell_type": "markdown",
   "id": "cc2662f9-58ac-4dec-a446-0a7cc598ce90",
   "metadata": {},
   "source": [
    "#### QTL Association Analysis (Step 3)"
   ]
  },
  {
   "cell_type": "markdown",
   "id": "d9cd893a-415e-4eb4-b60a-37f16e9fd9da",
   "metadata": {
    "tags": []
   },
   "source": [
    "\n",
    "paragraph(s) extracted from `Description` section of cisQTL Analysis Workflows miniprotocol website/notebook page  \n",
    "paragraph(s) extracted from `Description` section of transQTL Analysis Workflows miniprotocol website/notebook page  "
   ]
  },
  {
   "cell_type": "code",
   "execution_count": null,
   "id": "cc2c7f41-8d21-475f-9d22-8e8f35eb2ecf",
   "metadata": {},
   "outputs": [],
   "source": []
  },
  {
   "cell_type": "markdown",
   "id": "1555a2dd-baf0-49ef-bca8-ce04791258c0",
   "metadata": {},
   "source": [
    "#### Integrative Analysis (Step 4)"
   ]
  },
  {
   "cell_type": "code",
   "execution_count": null,
   "id": "b3293cdb-62c7-4cd4-ab15-77e89a00dbf9",
   "metadata": {},
   "outputs": [],
   "source": []
  },
  {
   "cell_type": "code",
   "execution_count": null,
   "id": "8351e69c-225c-48d9-be77-90d2b9e3cbbb",
   "metadata": {},
   "outputs": [],
   "source": []
  },
  {
   "cell_type": "markdown",
   "id": "9ea2eb3d-8da3-4822-b49d-f1e059e9060d",
   "metadata": {},
   "source": [
    "### Expertise needed to implement the protocol\n",
    "Nature Protocols Recommendations: Note if usage of protocol requires a specific facility or specific training."
   ]
  },
  {
   "cell_type": "markdown",
   "id": "7deee97e-24f1-4cc9-a2d8-21ac5db22174",
   "metadata": {},
   "source": []
  },
  {
   "cell_type": "markdown",
   "id": "49d2ca13-75c5-422e-a5a3-a6e8fb568b94",
   "metadata": {},
   "source": [
    "### Limitations\n",
    "Nature Protocols Recommendations: Discuss situations where protocol is unreliable "
   ]
  },
  {
   "cell_type": "markdown",
   "id": "65af418c-de98-46df-b98f-a3ea83e6a213",
   "metadata": {},
   "source": []
  },
  {
   "cell_type": "markdown",
   "id": "e34cabf8-1629-4f88-a946-06fd4640142a",
   "metadata": {},
   "source": [
    "## Materials"
   ]
  },
  {
   "cell_type": "markdown",
   "id": "e2733197-27c7-43fd-b473-e22d98d19c97",
   "metadata": {},
   "source": [
    "### Software"
   ]
  },
  {
   "cell_type": "markdown",
   "id": "b0e28a6d-cafc-44ad-9320-967802dd19cf",
   "metadata": {},
   "source": []
  },
  {
   "cell_type": "markdown",
   "id": "d1541950-0610-4eb6-8f23-6dbb135b5573",
   "metadata": {},
   "source": [
    "### Hardware"
   ]
  },
  {
   "cell_type": "markdown",
   "id": "ac61f1bb-666f-447a-bc9f-924a877540f8",
   "metadata": {},
   "source": []
  },
  {
   "cell_type": "markdown",
   "id": "77a3add9-b6da-4af8-b8e9-8015fb1968df",
   "metadata": {},
   "source": [
    "## Procedure\n",
    "Nature Protocols Recommendations: \n",
    "* Numbered list of direct experimental instructions. \n",
    "* Use active, not passive, tense\n",
    "* Include subheadings to separate stages\n",
    "* Include a TIMING callout with each subheading and state how long the section will take to complete\n",
    "* Include PAUSE POINT flag after steps where you can resume the rest of the procedure later (I think that is all steps in our case, so no need)\n",
    "* Include CRITICAL STEP flag with explanation for steps that need to be performed in a precise manner to maximize likelihood of success \n",
    "* Include TROUBLESHOOTING flags after steps wehre problems are encountered. Include details in Troubleshooting main section below.\n",
    "* Use letters (A, B, C, ...) to identify different options\n",
    "* Use Roman numerals (i,ii,iii,...) to break down steps\n"
   ]
  },
  {
   "cell_type": "markdown",
   "id": "2baf08ca-10e0-44a9-8213-531550971bec",
   "metadata": {},
   "source": [
    "### 1. Molecular Phenotype Quantification\n",
    "Any one of the steps below must be completed"
   ]
  },
  {
   "cell_type": "markdown",
   "id": "45d6c21b-2370-4845-89d2-6fd377a8ab7b",
   "metadata": {},
   "source": [
    "#### A) RNA-seq Expression"
   ]
  },
  {
   "cell_type": "markdown",
   "id": "5fd7d82a-9eaa-426f-97df-9b9e3ff1211b",
   "metadata": {},
   "source": [
    "extract `Minimal Working Example Steps` text from the different module webpages/notebooks under the RNA-seq Expression miniprotocol. If no module pages, then just use the steps outlined on the miniprotocol."
   ]
  },
  {
   "cell_type": "markdown",
   "id": "a2b716c3-cb79-43cf-b4c6-a86435d3f2f3",
   "metadata": {},
   "source": [
    "#### B) scRNA-seq Expression Calling"
   ]
  },
  {
   "cell_type": "code",
   "execution_count": null,
   "id": "ea757a5c-e056-4a9d-92bf-ba6959e8c2d1",
   "metadata": {},
   "outputs": [],
   "source": []
  },
  {
   "cell_type": "markdown",
   "id": "ad6872a4-6b50-4a6a-9373-362bd9ac892d",
   "metadata": {},
   "source": [
    "#### C) Alternative Polyadenylation"
   ]
  },
  {
   "cell_type": "code",
   "execution_count": null,
   "id": "ac814d88-52f5-46c8-8180-d9c6fd2a2043",
   "metadata": {},
   "outputs": [],
   "source": []
  },
  {
   "cell_type": "markdown",
   "id": "65520b6d-7c26-4023-9ddb-19589129445f",
   "metadata": {},
   "source": [
    "#### D) Methylation"
   ]
  },
  {
   "cell_type": "code",
   "execution_count": null,
   "id": "eb50f02a-13d3-4351-84e2-bc0e1d78f51e",
   "metadata": {},
   "outputs": [],
   "source": []
  },
  {
   "cell_type": "markdown",
   "id": "9deff270-267b-42bf-91c5-e28701675564",
   "metadata": {},
   "source": [
    "#### E) Alternative Splicing from RNA-seq Data"
   ]
  },
  {
   "cell_type": "code",
   "execution_count": null,
   "id": "4dc9fab7-7d47-4130-9256-c2844d4d735d",
   "metadata": {},
   "outputs": [],
   "source": []
  },
  {
   "cell_type": "markdown",
   "id": "0dca12f5-b676-4b40-8db8-87722851d762",
   "metadata": {},
   "source": [
    "### 2. Data Pre-Processing\n",
    "Each step below must be completed"
   ]
  },
  {
   "cell_type": "markdown",
   "id": "c5801a01-a41c-4ae6-89c6-1ee1d13c541c",
   "metadata": {},
   "source": [
    "#### i) Genotype Data Preprocessing"
   ]
  },
  {
   "cell_type": "code",
   "execution_count": null,
   "id": "aa5f58ad-1d5d-4151-af87-5d46568d05cf",
   "metadata": {},
   "outputs": [],
   "source": []
  },
  {
   "cell_type": "markdown",
   "id": "e307833f-1324-4832-a15f-c7705b661cc1",
   "metadata": {},
   "source": [
    "#### ii) Phenotype Data Preprocessing"
   ]
  },
  {
   "cell_type": "code",
   "execution_count": null,
   "id": "524bc360-337f-4676-967d-7c12d1f19af7",
   "metadata": {},
   "outputs": [],
   "source": []
  },
  {
   "cell_type": "markdown",
   "id": "7a76c98b-6dff-4d00-bbc8-e1dd39daa768",
   "metadata": {},
   "source": [
    "#### iii) Covariate Data Preprocessing"
   ]
  },
  {
   "cell_type": "code",
   "execution_count": null,
   "id": "15a136b0-eaf4-4b83-94be-e4c5c131c4f8",
   "metadata": {},
   "outputs": [],
   "source": []
  },
  {
   "cell_type": "markdown",
   "id": "dfbd8bcf-7bc6-4959-a01e-09322a723af1",
   "metadata": {},
   "source": [
    "### 3. QTL Association Analysis\n",
    "One of the steps below must be completed"
   ]
  },
  {
   "cell_type": "markdown",
   "id": "1b013b0d-04db-4680-ac41-60758c4bd583",
   "metadata": {},
   "source": [
    "#### A) cisQTL Analysis Workflows"
   ]
  },
  {
   "cell_type": "code",
   "execution_count": null,
   "id": "0f932e55-aa3d-4ba6-a524-dd49c1b3b990",
   "metadata": {},
   "outputs": [],
   "source": []
  },
  {
   "cell_type": "markdown",
   "id": "9c8893c9-dcd4-4396-8fb2-9b6dcc0bc424",
   "metadata": {},
   "source": [
    "#### B) transQTL Analysis Workflows"
   ]
  },
  {
   "cell_type": "code",
   "execution_count": null,
   "id": "63d42182-8d1b-41f9-a284-a9ff4cceed86",
   "metadata": {},
   "outputs": [],
   "source": []
  },
  {
   "cell_type": "markdown",
   "id": "71d99ece-4e60-415d-a8bf-97e08ee3f79d",
   "metadata": {},
   "source": [
    "### 4. Integrative Analysis"
   ]
  },
  {
   "cell_type": "code",
   "execution_count": null,
   "id": "a7f5832d-f9b1-47dc-83a7-ccbe926019fd",
   "metadata": {},
   "outputs": [],
   "source": []
  },
  {
   "cell_type": "code",
   "execution_count": null,
   "id": "69cc05b0-b1c1-41e6-ab5d-52298664fec9",
   "metadata": {},
   "outputs": [],
   "source": []
  },
  {
   "cell_type": "markdown",
   "id": "93a938d4-ad36-4554-87d5-9f7a23523275",
   "metadata": {},
   "source": [
    "## Timing\n",
    "Nature Protocols Recommendations: include timeline indicating time each step will take.\n",
    "\n",
    "For us:  \n",
    "extract `Miniprotocol Timing` text from miniprotocol notebooks. The smaller module notebooks may have timing information as well, but that can just be included in the Procedure section above, which is taken from the module notebooks. So the table below will have the timing information listed in the miniprotocol notebook which is the overall time it takes to run all steps in that miniprotocol and its modules. \n",
    "\n",
    "For example:  \n",
    "Running all steps for RNA-seq Expression takes \\~4 hours. List the \"\\~4 hours\" in the table here.  \n",
    "Each module notebook under that (RNA_calling.ipynb, bulk_expression_QC.ipynb, bulk_expression_normalization.ipynb) would have its own timing data, but that would be listed in the Procedures section above under each step."
   ]
  },
  {
   "cell_type": "markdown",
   "id": "406cac13-f217-443f-90d9-5e620be1ae49",
   "metadata": {},
   "source": [
    "| Step | Substep | Time|\n",
    "|------|-----|----|\n",
    "|Molecular Phenotype Quantification |RNA-seq Expression|  extract `Miniprotocol Timing` text from miniprotocol notebook |\n",
    "| |scRNA-seq Expression Calling|  extract `Miniprotocol Timing` text from miniprotocol notebook |\n",
    "| |Alternative Polyadenylation|  extract `Miniprotocol Timing` text from miniprotocol notebook |\n",
    "| |Methylation|  extract `Miniprotocol Timing` text from miniprotocol notebook |\n",
    "| |Alternative Splicing from RNA-seq Data|  extract `Miniprotocol Timing` text from miniprotocol notebook |\n",
    "|Data Pre-Processing |Genotype Data Preprocessing|  extract `Miniprotocol Timing` text from miniprotocol notebook |\n",
    "| |Phenotype Data Preprocessing|  extract `Miniprotocol Timing` text from miniprotocol notebook |\n",
    "| |Covariate Data Preprocessing|  extract `Miniprotocol Timing` text from miniprotocol notebook |\n",
    "|QTL Association Analysis |cisQTL Analysis Workflows|  extract `Miniprotocol Timing` text from miniprotocol notebook |\n",
    "| |transQTL Analysis Workflows|  extract `Miniprotocol Timing` text from miniprotocol notebook |\n",
    "|Integrative Analysis | ... |  extract `Miniprotocol Timing` text from miniprotocol notebook |"
   ]
  },
  {
   "cell_type": "markdown",
   "id": "7cae7462-ce78-41a5-8749-61e5565db390",
   "metadata": {},
   "source": [
    "## Troubleshooting\n",
    "Nature Protocols Recommendations: \n",
    "* Information on how to troubleshoot most likely problems mentioned in the Procedures section\n",
    "* Provide this information in a table\n",
    "\n",
    "For us:  \n",
    "This would be extracted from the `Troubleshooting` table of the module notebooks"
   ]
  },
  {
   "cell_type": "markdown",
   "id": "6db74c9a-e303-4fd7-a688-90ac6948f0be",
   "metadata": {},
   "source": [
    "| Step | Substep | Problem | Possible Reason | Solution |\n",
    "|------|---------|---------|------------------|---------|\n",
    "| Molecular Phenotype Quantification | RNA-seq Expression iii) | STAR and Picard run separately | STAR_align,picard_qc,strand_detect were run separately | run these together by running STAR_output |\n",
    "| Molecular Phenotype Quantification | RNA-seq Expression v) | Error when running RSEM | STAR alignment not run with gtf file generated before collapsing to gene | use the gtf file used to generate the RSEM index |\n",
    "\n"
   ]
  },
  {
   "cell_type": "markdown",
   "id": "574fc361-5e76-4d32-8017-0b042a09ffe8",
   "metadata": {},
   "source": [
    "## Anticipated Results\n",
    "Nature Protocols Recommendations: \n",
    "* Information about likely outcome of protocol\n",
    "* If possible, include one set of data from an experiment that worked well, and a second for an experiment that required troubleshooting to get meaningful results.\n",
    "* Include advice on how to interpret and analyze raw data, including equations where needed.\n",
    "\n",
    "For us:  \n",
    "Anticipated results from steps in  `Procedure` section above.  \n",
    "Include a paragraph for each step. Would be extracted form the `Anticipated Results` part of the miniprotocol website/notebooks. So this would not include exact details of the results of each invdividual notebook to be run in each module, just the output of the final one in the miniprotocol. "
   ]
  },
  {
   "cell_type": "markdown",
   "id": "2f9177ac-0aef-4b8e-8652-3fe6a102c46d",
   "metadata": {},
   "source": [
    "#### Molecular Phenotype Quantification (Step 1)"
   ]
  },
  {
   "cell_type": "markdown",
   "id": "41e279b2-4b93-4b03-bc18-37ef03c7ea0c",
   "metadata": {
    "tags": []
   },
   "source": [
    "paragraph(s) extracted from `Anticipated Results` section of RNA-seq Expression miniprotocol website/notebook page  \n",
    "paragraph(s) extracted from `Anticipated Results` section of scRNA-seq Expression Calling miniprotocol website/notebook page  \n",
    "paragraph(s) extracted from `Anticipated Results` section of Alternative Polyadenylation miniprotocol website/notebook page  \n",
    "paragraph(s) extracted from `Anticipated Results` section of Methylation miniprotocol website/notebook page  \n",
    "paragraph(s) extracted from `Anticipated Results` section of Alternative Splicing from RNA-seq Data miniprotocol website/notebook page  "
   ]
  },
  {
   "cell_type": "markdown",
   "id": "14ca6ccb-5b41-481b-9a9f-6c39e86fb236",
   "metadata": {},
   "source": [
    "#### Data Pre-Processing (Step 2)"
   ]
  },
  {
   "cell_type": "markdown",
   "id": "4a8ef7a3-637f-4656-8471-55e38f21baca",
   "metadata": {},
   "source": [
    "paragraph(s) extracted from `Anticipated Results` section of Genotype Data Preprocessing miniprotocol website/notebook page  \n",
    "paragraph(s) extracted from `Anticipated Results` section of Phenotype Data Preprocessing miniprotocol website/notebook page  \n",
    "paragraph(s) extracted from `Anticipated Results` section of Covariate Data Preprocessing miniprotocol website/notebook page  "
   ]
  },
  {
   "cell_type": "markdown",
   "id": "3ac5e895-478c-4412-a505-e6ec6866a123",
   "metadata": {},
   "source": [
    "#### QTL Association Analysis (Step 3)"
   ]
  },
  {
   "cell_type": "markdown",
   "id": "bbbe31dc-428c-4474-aa01-3ec8d0821b3b",
   "metadata": {},
   "source": [
    "paragraph(s) extracted from `Anticipated Results` section of cisQTL Analysis Workflows miniprotocol website/notebook page  \n",
    "paragraph(s) extracted from `Anticipated Results` section of transQTL Analysis Workflows miniprotocol website/notebook page  "
   ]
  },
  {
   "cell_type": "markdown",
   "id": "038537fc-adbe-4124-a2dc-d674a318ae2e",
   "metadata": {},
   "source": [
    "#### Integrative Analysis (Step 4)"
   ]
  },
  {
   "cell_type": "code",
   "execution_count": null,
   "id": "1afd8247-d96d-4468-8898-1e2cc37ab75d",
   "metadata": {},
   "outputs": [],
   "source": []
  },
  {
   "cell_type": "markdown",
   "id": "ca4e110c-ad6c-4711-af45-dc0563cd5256",
   "metadata": {},
   "source": [
    "## Figures\n",
    "Nature Protocols Recommendations: \n",
    "* To be uploaded separately when submitting\n",
    "* Title and legend for each figure\n",
    "* Sans-serif typeface for text on figures and font no smaller than 7 point\n",
    "* For multipart figures use lower case bold letters\n",
    "* 300 dpi\n",
    "* For numbers, separate thousands by commas (1,000)"
   ]
  },
  {
   "cell_type": "code",
   "execution_count": null,
   "id": "2f968898-1d71-4e3a-9856-563214990b7a",
   "metadata": {},
   "outputs": [],
   "source": []
  },
  {
   "cell_type": "markdown",
   "id": "a4bf1f4a-6e64-4560-ac05-eefba4fa84ec",
   "metadata": {},
   "source": [
    "## Tables\n",
    "Nature Protocols Recommendations: \n",
    "* Submit in Word format\n",
    "* Title for each table"
   ]
  },
  {
   "cell_type": "code",
   "execution_count": null,
   "id": "2d1465db-3060-4ee5-ba71-4c4369edbd0c",
   "metadata": {},
   "outputs": [],
   "source": []
  },
  {
   "cell_type": "markdown",
   "id": "6b470b9c-8be4-42c9-be03-4581620f4180",
   "metadata": {},
   "source": []
  },
  {
   "cell_type": "code",
   "execution_count": null,
   "id": "e09f9906-eec2-460a-83d7-44b2e6c8e201",
   "metadata": {},
   "outputs": [],
   "source": []
  },
  {
   "cell_type": "markdown",
   "id": "4e7643d5-074b-484e-9cc6-741c18d531cd",
   "metadata": {},
   "source": [
    "## Supplementary Information\n",
    "Nature Protocols Recommendations: One of three categories\n",
    "* EXTENDED DATA: integral part of paper tha includes data that directly contributes to main message. Includes up to 10 figures.\n",
    "* SUPPLEMENTARY INFORMATION: material essential to background of study, but not practical to include in PDF version of paper. Tables in excel format. Figures can also be included. \n",
    "* SOURCE DATA: Source data for figures. Can include Excel file tables. "
   ]
  },
  {
   "cell_type": "markdown",
   "id": "bcd1ae27-25f1-46c2-8eae-05cf81ea7679",
   "metadata": {},
   "source": [
    "## Author Contributions Statements"
   ]
  },
  {
   "cell_type": "code",
   "execution_count": null,
   "id": "07de81d9-4dce-48d0-bad3-e36aabce50c7",
   "metadata": {},
   "outputs": [],
   "source": []
  },
  {
   "cell_type": "markdown",
   "id": "a89e48f7-cdf7-4485-81b4-4bb35a903a7c",
   "metadata": {},
   "source": [
    "## Acknowledgements"
   ]
  },
  {
   "cell_type": "code",
   "execution_count": null,
   "id": "e6b20bfc-31c1-489b-89e5-342f16a996c0",
   "metadata": {},
   "outputs": [],
   "source": []
  },
  {
   "cell_type": "markdown",
   "id": "808c1e38-b85d-48f3-b579-a9ff3176e8e3",
   "metadata": {},
   "source": [
    "## Competing Interests"
   ]
  },
  {
   "cell_type": "code",
   "execution_count": null,
   "id": "74f98094-2e04-428d-8cc9-689bd7925c5e",
   "metadata": {},
   "outputs": [],
   "source": []
  },
  {
   "cell_type": "markdown",
   "id": "5224826f-29ae-4df5-949d-147764516fa6",
   "metadata": {},
   "source": [
    "## References"
   ]
  },
  {
   "cell_type": "code",
   "execution_count": null,
   "id": "173bf441-20ff-4705-93a6-f4684003b1f9",
   "metadata": {},
   "outputs": [],
   "source": []
  },
  {
   "cell_type": "markdown",
   "id": "9646523b-70d4-44a3-bd85-7457ef5f1f1b",
   "metadata": {},
   "source": [
    "## Keywords\n",
    "keywords in the manuscript that identify parts to be read from the website for use in the paper\n"
   ]
  },
  {
   "cell_type": "markdown",
   "id": "7d4fe2be-0fb2-46a6-84ee-b3ed852ad41f",
   "metadata": {},
   "source": [
    "#### Miniprotocol Timing\n",
    "title of miniprotocol timing section in the miniprotocol notebooks.  \n",
    "this will be used in the Timing section of the paper.  \n",
    "note that this is for the overall time to run the total miniprotocol (so all of it's modules and steps within)"
   ]
  },
  {
   "cell_type": "markdown",
   "id": "4c951f7f-c609-44a4-97b5-1407129dcc9f",
   "metadata": {},
   "source": [
    "#### Description\n",
    "title of description section in the module notebooks.  \n",
    "this will be used in the Experimental Design part of the Introduction in the paper."
   ]
  },
  {
   "cell_type": "markdown",
   "id": "a54629c1-743d-4dba-8760-73ce1b10e894",
   "metadata": {},
   "source": [
    "#### Anticipated Results\n",
    "title of the anticipated results section in the miniprotocol notebooks.  \n",
    "this will be used in the Anticipated Results section of the paper."
   ]
  },
  {
   "cell_type": "markdown",
   "id": "68689e9f-60a9-4ea3-8fc4-3e0ae6c628ca",
   "metadata": {},
   "source": [
    "#### Minimal Working Example Steps\n",
    "title of the minimal working example steps section in the module notebooks.  \n",
    "this will be used in the Procedure section of the paper. "
   ]
  },
  {
   "cell_type": "markdown",
   "id": "bf7f8b26-c7a6-4f11-80fc-d20992a91bc3",
   "metadata": {},
   "source": [
    "#### Troubleshooting\n",
    "title of the troubleshooting section in the module notebooks.  \n",
    "this will be used in the Troubleshooting section of the paper to create one large troubleshooting table. "
   ]
  },
  {
   "cell_type": "code",
   "execution_count": null,
   "id": "f1361473-6447-4a9c-9e6b-75a9256b966a",
   "metadata": {},
   "outputs": [],
   "source": []
  }
 ],
 "metadata": {
  "kernelspec": {
   "display_name": "Markdown",
   "language": "markdown",
   "name": "markdown"
  },
  "language_info": {
   "codemirror_mode": "markdown",
   "file_extension": ".md",
   "mimetype": "text/markdown",
   "name": "Markdown",
   "pygments_lexer": "markdown"
  }
 },
 "nbformat": 4,
 "nbformat_minor": 5
}
