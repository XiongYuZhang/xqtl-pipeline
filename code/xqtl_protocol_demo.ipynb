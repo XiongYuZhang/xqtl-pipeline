{
 "cells": [
  {
   "cell_type": "markdown",
   "id": "latter-tension",
   "metadata": {
    "kernel": "SoS",
    "tags": []
   },
   "source": [
    "# Illustration of xQTL protocol\n",
    "\n",
    "This notebook illustrates the computational protocols available from this repository for the detection and analysis of molecular QTLs (xQTLs). A minimal toy data-set consisting of 49 de-identified samples are used for the analysis."
   ]
  },
  {
   "cell_type": "markdown",
   "id": "brown-education",
   "metadata": {
    "kernel": "SoS",
    "tags": []
   },
   "source": [
    "## Analysis\n",
    "\n",
    "Please visit [the homepage of the protocol website](https://cumc.github.io/xqtl-pipeline/) for the general background on this resource, in particular the [How to use the resource](https://cumc.github.io/xqtl-pipeline/README.html#how-to-use-the-resource) section. To perform a complete analysis from molecular phenotype quantification to xQTL discovery, please conduct your analysis in the order listed below, each link contains a mini-protocol for a specific task. All commands documented in each mini-protocol should be executed in the command line environment.\n",
    "\n",
    "### Bulk RNA-seq molecular phenotype quantification\n",
    "\n",
    "1. [Reference data munging & QC](https://cumc.github.io/xqtl-pipeline/code/data_preprocessing/reference_data.html)\n",
    "2. [Quantification of gene expression](https://cumc.github.io/xqtl-pipeline/code/molecular_phenotypes/bulk_expression.html)\n",
    "3. [Quantification of alternative splicing events](https://cumc.github.io/xqtl-pipeline/code/molecular_phenotypes/splicing.html)\n",
    "4. [Quantification of DNA methylation](https://cumc.github.io/xqtl-pipeline/code/molecular_phenotypes/calling/methylation_calling.html)\n",
    "\n",
    "### xQTL association analysis\n",
    "\n",
    "1. [Genotype data munging & QC](https://cumc.github.io/xqtl-pipeline/code/data_preprocessing/genotype_preprocessing.html)\n",
    "2. [Phenotype data munging & QC](https://cumc.github.io/xqtl-pipeline/code/data_preprocessing/phenotype_preprocessing.html)\n",
    "3. [Covariates data munging & QC](https://cumc.github.io/xqtl-pipeline/code/data_preprocessing/covariate_preprocessing.html)\n",
    "4. [QTL association testing](https://cumc.github.io/xqtl-pipeline/code/association_scan/qtl_association_testing.html)\n",
    "5. [QTL fine-mapping: univariate analysis](https://cumc.github.io/xqtl-pipeline/code/fine_mapping/univariate_fine_mapping.html)"
   ]
  },
  {
   "cell_type": "markdown",
   "id": "grand-climate",
   "metadata": {},
   "source": [
    "### Multi-omics data integration\n",
    "\n",
    "To be updated"
   ]
  },
  {
   "cell_type": "markdown",
   "id": "centered-violin",
   "metadata": {
    "kernel": "SoS",
    "tags": []
   },
   "source": [
    "## Data\n",
    "\n",
    "For record keeping: preparation of the demo dataset is documented [on this page](https://github.com/cumc/fungen-xqtl-analysis/tree/main/analysis/Wang_Columbia/ROSMAP/MWE) --- this is a private repository accessible to FunGen-xQTL analysis working group members.\n",
    "\n",
    "For protocols listed in this page, downloaded required input data in [Synapse](https://www.synapse.org/#!Synapse:syn36416559/files/). \n",
    "* To be able downloading the data, first create user account on [Synapse Login](https://www.synapse.org/). Username and password will be required when downloading\n",
    "* Downloading required installing of Synapse API Clients, type `pip install synapseclient` in terminal or Command Prompt to install the Python package. Details list [on this page](https://help.synapse.org/docs/Installing-Synapse-API-Clients.1985249668.html).\n",
    "* Each folder in different level has unique Synapse ID, which allowing you to download only some folders or files within the entire folder.\n",
    "\n",
    "To download the test data for section \"Bulk RNA-seq molecular phenotype quantification\", please use the following Python codes,\n",
    "\n",
    "```\n",
    "import synapseclient \n",
    "import synapseutils \n",
    "syn = synapseclient.Synapse()\n",
    "syn.login(\"your username on synapse.org\",\"your password on synapse.org\")\n",
    "files = synapseutils.syncFromSynapse(syn, 'syn52369482', path=\"./\")\n",
    "```\n",
    "\n",
    "To download the test data for section \"xQTL association analysis\", please use the following Python codes, \n",
    "\n",
    "```\n",
    "import synapseclient \n",
    "import synapseutils \n",
    "syn = synapseclient.Synapse()\n",
    "syn.login(\"your username on synapse.org\",\"your password on synapse.org\")\n",
    "files = synapseutils.syncFromSynapse(syn, 'syn36422377', path=\"./\")\n",
    "```"
   ]
  },
  {
   "cell_type": "markdown",
   "id": "incredible-ranch",
   "metadata": {},
   "source": [
    "## Software environment: use Singularity containers\n",
    "\n",
    "Analysis documented on this website are best performed using `singularity`, via the `--container` option pointing to a `sif` singularity image file. For example, `--container TensorQTL.sif` uses `TensorQTL.sif` image to perform analysis for QTL association mapping via software `TensorQTL`. If you drop the `--container` option then you will rely on software installed on your computer to perform the analysis.\n",
    "\n",
    "## Analyses on High Performance Computing clusters\n",
    "\n",
    "The protocol example shown above performs analysis on a desktop workstation, as a demonstration. Typically the analyses should be performed on HPC cluster environments. This can be achieved via [SoS Remote Tasks](https://vatlab.github.io/sos-docs/doc/user_guide/task_statement.html) on [configured host computers](https://vatlab.github.io/sos-docs/doc/user_guide/host_setup.html). We provide this [toy example for running SoS pipeline on a typical HPC cluster environment](https://github.com/cumc/xqtl-pipeline/blob/main/code/misc/Job_Example.ipynb). First time users are encouraged to try it out in order to help setting up the computational environment necessary to run the analysis in this protocol."
   ]
  }
 ],
 "metadata": {
  "kernelspec": {
   "display_name": "Bash",
   "language": "bash",
   "name": "bash"
  },
  "language_info": {
   "codemirror_mode": "shell",
   "file_extension": ".sh",
   "mimetype": "text/x-sh",
   "name": "bash"
  },
  "sos": {
   "kernels": [
    [
     "SoS",
     "sos",
     "",
     ""
    ]
   ],
   "version": "0.22.6"
  }
 },
 "nbformat": 4,
 "nbformat_minor": 5
}
