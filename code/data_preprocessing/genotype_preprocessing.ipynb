{
 "cells": [
  {
   "cell_type": "markdown",
   "id": "international-virginia",
   "metadata": {
    "kernel": "SoS",
    "tags": []
   },
   "source": [
    "# Genotype data preprocessing"
   ]
  },
  {
   "cell_type": "markdown",
   "id": "spectacular-museum",
   "metadata": {
    "kernel": "SoS",
    "tags": []
   },
   "source": [
    "This notebook outlines the workflow for processing genotype files, transitioning from VCF format to chromosome-specific PLINK files."
   ]
  },
  {
   "cell_type": "markdown",
   "id": "popular-telling",
   "metadata": {
    "kernel": "SoS",
    "tags": []
   },
   "source": [
    "**Note**: in order to reuse the workflow for your data, for some of the steps you might need to change paths to files."
   ]
  },
  {
   "cell_type": "markdown",
   "id": "personal-curve",
   "metadata": {
    "kernel": "SoS"
   },
   "source": [
    "## Methods overview\n",
    "\n",
    "This workflow is an application of the genotype related workflows from the xQTL project pipeline."
   ]
  },
  {
   "cell_type": "markdown",
   "id": "colored-thursday",
   "metadata": {
    "kernel": "SoS"
   },
   "source": [
    "## Data Input \n",
    "- `Joint VCF files`: /mnt/vast/hpc/bvardarajan_lab/data/Family_WGS/vcfs/vcf_b38_with_rosmap_2022/joint_vcf\n",
    "- `00-All.add_chr.variants.gz` \n",
    "- `GRCh38_full_analysis_set_plus_decoy_hla.noALT_noHLA_noDecoy_ERCC.fasta` reference files created via Reference_data_notebook"
   ]
  },
  {
   "cell_type": "markdown",
   "id": "potential-serve",
   "metadata": {
    "kernel": "SoS"
   },
   "source": [
    "## Data Output\n",
    "\n",
    "* QCed Genotype:\n",
    "- `ROSMAP_NIA_WGS.leftnorm.bcftools_qc.plink_qc.bed` \n",
    "- `ROSMAP_NIA_WGS.leftnorm.bcftools_qc.plink_qc.bim`\n",
    "- `ROSMAP_NIA_WGS.leftnorm.bcftools_qc.plink_qc.fam`"
   ]
  },
  {
   "cell_type": "markdown",
   "id": "worst-halloween",
   "metadata": {
    "kernel": "SoS"
   },
   "source": [
    "## Steps in detail"
   ]
  },
  {
   "cell_type": "markdown",
   "id": "southwest-discrimination",
   "metadata": {
    "kernel": "SoS",
    "tags": []
   },
   "source": [
    "### QC for VCF files\n",
    "This step will run QC for vcf files, `qc_1` and `qc_2` will process ~14G files every hour. `qc_3` will summarize the quality metrics for the VCF files."
   ]
  },
  {
   "cell_type": "code",
   "execution_count": null,
   "id": "tired-electronics",
   "metadata": {
    "kernel": "Bash"
   },
   "outputs": [],
   "source": [
    "# We only do this for autosomal variants\n",
    "\n",
    "echo ./ZOD14598_AD_GRM_WGS_2021-04-29_chr1.recalibrated_variants.vcf.gz ./ZOD14598_AD_GRM_WGS_2021-04-29_chr2.recalibrated_variants.vcf.gz ./ZOD14598_AD_GRM_WGS_2021-04-29_chr3.recalibrated_variants.vcf.gz ./ZOD14598_AD_GRM_WGS_2021-04-29_chr4.recalibrated_variants.vcf.gz ./ZOD14598_AD_GRM_WGS_2021-04-29_chr5.recalibrated_variants.vcf.gz ./ZOD14598_AD_GRM_WGS_2021-04-29_chr6.recalibrated_variants.vcf.gz ./ZOD14598_AD_GRM_WGS_2021-04-29_chr7.recalibrated_variants.vcf.gz ./ZOD14598_AD_GRM_WGS_2021-04-29_chr8.recalibrated_variants.vcf.gz ./ZOD14598_AD_GRM_WGS_2021-04-29_chr9.recalibrated_variants.vcf.gz ./ZOD14598_AD_GRM_WGS_2021-04-29_chr10.recalibrated_variants.vcf.gz  ./ZOD14598_AD_GRM_WGS_2021-04-29_chr11.recalibrated_variants.vcf.gz ./ZOD14598_AD_GRM_WGS_2021-04-29_chr12.recalibrated_variants.vcf.gz ./ZOD14598_AD_GRM_WGS_2021-04-29_chr13.recalibrated_variants.vcf.gz ./ZOD14598_AD_GRM_WGS_2021-04-29_chr14.recalibrated_variants.vcf.gz ./ZOD14598_AD_GRM_WGS_2021-04-29_chr15.recalibrated_variants.vcf.gz ./ZOD14598_AD_GRM_WGS_2021-04-29_chr16.recalibrated_variants.vcf.gz ./ZOD14598_AD_GRM_WGS_2021-04-29_chr17.recalibrated_variants.vcf.gz ./ZOD14598_AD_GRM_WGS_2021-04-29_chr18.recalibrated_variants.vcf.gz ./ZOD14598_AD_GRM_WGS_2021-04-29_chr19.recalibrated_variants.vcf.gz ./ZOD14598_AD_GRM_WGS_2021-04-29_chr20.recalibrated_variants.vcf.gz ./ZOD14598_AD_GRM_WGS_2021-04-29_chr21.recalibrated_variants.vcf.gz ./ZOD14598_AD_GRM_WGS_2021-04-29_chr22.recalibrated_variants.vcf.gz \\\n",
    "    | tr ' ' '\\n' > vcf_qc/ZOD14598_AD_GRM_WGS_2021-04-29_vcf_files.txt\n",
    "\n",
    "sos run pipeline/VCF_QC.ipynb qc \\\n",
    "    --genoFile vcf_qc/ZOD14598_AD_GRM_WGS_2021-04-29_vcf_files.txt \\\n",
    "    --dbsnp-variants /mnt/vast/hpc/csg/snuc_pseudo_bulk/data/reference_data/00-All.add_chr.variants.gz \\\n",
    "    --reference-genome /mnt/vast/hpc/csg/snuc_pseudo_bulk/data/reference_data/GRCh38_full_analysis_set_plus_decoy_hla.noALT_noHLA_noDecoy_ERCC.fasta \\\n",
    "    --cwd vcf_qc/ --container /mnt/vast/hpc/csg/containers/bioinfo.sif \\\n",
    "    -J 22 -q csg -c csg.yml --mem 120G"
   ]
  },
  {
   "cell_type": "markdown",
   "id": "blessed-subdivision",
   "metadata": {
    "kernel": "SoS"
   },
   "source": [
    "### Merge separated bed files into one\n",
    "\n",
    "Converting VCF to PLINK keep only ROSMAP samples."
   ]
  },
  {
   "cell_type": "markdown",
   "id": "severe-cleaning",
   "metadata": {
    "kernel": "Bash"
   },
   "source": [
    "`ROSMAP_sample_list.txt` is a list that includes all ROSMAP samples we need for analysis, in formatting of FID, IID. This file has been uploaded to ftp: `/ftp_fgc_xqtl/projects/WGS/ROSMAP`"
   ]
  },
  {
   "cell_type": "code",
   "execution_count": null,
   "id": "separated-trigger",
   "metadata": {
    "kernel": "Bash"
   },
   "outputs": [],
   "source": [
    "sos run pipeline/genotype_formatting.ipynb vcf_to_plink\n",
    "    --genoFile `ls vcf_qc/*.leftnorm.bcftools_qc.vcf.gz` \\\n",
    "    --cwd Genotype/ \\\n",
    "    --keep_samples ./ROSMAP_sample_list.txt\n",
    "    --container /mnt/vast/hpc/csg/containers/bioinfo.sif \\\n",
    "    -J 22 -q csg -c csg.yml --mem 120G"
   ]
  },
  {
   "cell_type": "markdown",
   "id": "athletic-district",
   "metadata": {
    "kernel": "SoS"
   },
   "source": [
    "This step merges all the files and may require anout 300G mem to run, because there are some variants' ID with 80+ characters. And only plink can do the merge job, plink2 doesn't support merge."
   ]
  },
  {
   "cell_type": "code",
   "execution_count": null,
   "id": "isolated-board",
   "metadata": {
    "kernel": "Bash"
   },
   "outputs": [],
   "source": [
    "sos run xqtl-pipeline/pipeline/genotype_formatting.ipynb merge_plink \\\n",
    "    --genoFile `ls *.leftnorm.bcftools_qc.bed` \\\n",
    "    --name ROSMAP_NIA_WGS.leftnorm.bcftools_qc  \\\n",
    "    --cwd Genotype/ \\\n",
    "    --container /mnt/vast/hpc/csg/containers/bioinfo.sif \\\n",
    "    -J 5 -q csg -c csg.yml --mem 300G"
   ]
  },
  {
   "cell_type": "markdown",
   "id": "entire-entertainment",
   "metadata": {
    "kernel": "SoS"
   },
   "source": [
    "### QC for PLINK files\n",
    "\n",
    "Using PLINK-based workflows we:\n",
    "\n",
    "* Filter out those have more than 10% missing\n",
    "* Set HWE cutoff as 1E-8\n",
    "* No minor allel filter"
   ]
  },
  {
   "cell_type": "code",
   "execution_count": null,
   "id": "swiss-trail",
   "metadata": {
    "kernel": "Bash"
   },
   "outputs": [],
   "source": [
    "sos run xqtl-pipeline/pipeline/GWAS_QC.ipynb qc_no_prune \\\n",
    "   --cwd Genotype \\\n",
    "   --genoFile Genotype/ROSMAP_NIA_WGS.leftnorm.bcftools_qc.bed \\\n",
    "   --geno-filter 0.1 \\\n",
    "   --mind-filter 0.1 \\\n",
    "   --hwe-filter 1e-08   \\\n",
    "   --mac-filter 0 \\\n",
    "   --container /mnt/vast/hpc/csg/containers/bioinfo.sif \\\n",
    "   -J 1 -q csg -c csg.yml --mem 150G"
   ]
  },
  {
   "cell_type": "markdown",
   "id": "distributed-performer",
   "metadata": {
    "kernel": "SoS"
   },
   "source": [
    "The genotype files after this step had been uploaded to ftp: `/ftp_fgc_xqtl/projects/WGS/ROSMAP`"
   ]
  },
  {
   "cell_type": "markdown",
   "id": "exterior-festival",
   "metadata": {
    "kernel": "SoS"
   },
   "source": [
    "### Genotype data partition by chromosome\n",
    "\n",
    "This step is necessary for TensorQTL applications."
   ]
  },
  {
   "cell_type": "code",
   "execution_count": 5,
   "id": "local-objective",
   "metadata": {
    "kernel": "Bash"
   },
   "outputs": [
    {
     "name": "stdout",
     "output_type": "stream",
     "text": [
      "INFO: Running \u001b[32mgenotype_by_chrom_1\u001b[0m: \n",
      "INFO: \u001b[32mgenotype_by_chrom_1\u001b[0m (index=0) is \u001b[32mcompleted\u001b[0m.\n",
      "INFO: \u001b[32mgenotype_by_chrom_1\u001b[0m (index=1) is \u001b[32mcompleted\u001b[0m.\n",
      "INFO: \u001b[32mgenotype_by_chrom_1\u001b[0m output:   \u001b[32m/home/gw/GIT/github/fungen-xqtl-analysis/analysis/Wang_Columbia/ROSMAP/MWE/output/genotype_by_chrom/protocol_example.genotype.chr21_22.21.bed /home/gw/GIT/github/fungen-xqtl-analysis/analysis/Wang_Columbia/ROSMAP/MWE/output/genotype_by_chrom/protocol_example.genotype.chr21_22.22.bed in 2 groups\u001b[0m\n",
      "INFO: Running \u001b[32mgenotype_by_chrom_2\u001b[0m: \n",
      "INFO: \u001b[32mgenotype_by_chrom_2\u001b[0m is \u001b[32mcompleted\u001b[0m (pending nested workflow).\n",
      "INFO: Running \u001b[32mwrite_data_list\u001b[0m: \n",
      "INFO: \u001b[32mwrite_data_list\u001b[0m is \u001b[32mcompleted\u001b[0m.\n",
      "INFO: \u001b[32mwrite_data_list\u001b[0m output:   \u001b[32m/home/gw/GIT/github/fungen-xqtl-analysis/analysis/Wang_Columbia/ROSMAP/MWE/output/genotype_by_chrom/protocol_example.genotype.chr21_22.genotype_by_chrom_files.txt\u001b[0m\n",
      "INFO: \u001b[32mgenotype_by_chrom_2\u001b[0m output:   \u001b[32m/home/gw/GIT/github/fungen-xqtl-analysis/analysis/Wang_Columbia/ROSMAP/MWE/output/genotype_by_chrom/protocol_example.genotype.chr21_22.genotype_by_chrom_files.txt\u001b[0m\n",
      "INFO: Workflow genotype_by_chrom (ID=wb8ff438150766a67) is executed successfully with 3 completed steps and 4 completed substeps.\n"
     ]
    }
   ],
   "source": [
    "sos run pipeline/genotype_formatting.ipynb genotype_by_chrom \\\n",
    "    --genoFile protocol_example/protocol_example.genotype.chr21_22.bed \\\n",
    "    --cwd output \\\n",
    "    --chrom `cut -f 1 protocol_example/protocol_example.genotype.chr21_22.bim | uniq | sed \"s/chr//g\"` \\\n",
    "    --container containers/bioinfo.sif "
   ]
  },
  {
   "cell_type": "markdown",
   "id": "introductory-thousand",
   "metadata": {
    "kernel": "SoS"
   },
   "source": [
    "## PCA on genotypes of selected samples"
   ]
  },
  {
   "cell_type": "markdown",
   "id": "spatial-productivity",
   "metadata": {
    "kernel": "SoS"
   },
   "source": [
    "This workflow is an application of `PCA.ipynb` from the xQTL project pipeline.\n",
    "\n",
    "### Data Input\n",
    "\n",
    "- `protocol_example.genotype.chr21_22.bed`\n",
    "- `protocol_example.genotype.chr21_22.bim`\n",
    "- `protocol_example.genotype.chr21_22.fam`\n",
    "\n",
    "### Data Output\n",
    "\n",
    "- `ROSMAP_NIA_WGS.leftnorm.filtered.pQTL.unrelated.filtered.prune.pca.rds`"
   ]
  },
  {
   "cell_type": "markdown",
   "id": "ambient-destiny",
   "metadata": {
    "kernel": "SoS"
   },
   "source": [
    "### Kinship QC only on proteomics samples"
   ]
  },
  {
   "cell_type": "markdown",
   "id": "opened-husband",
   "metadata": {
    "kernel": "SoS"
   },
   "source": [
    "To accuratly estimate the PCs for the genotype. We split participants based on their kinship coefficients, estimated by KING"
   ]
  },
  {
   "cell_type": "markdown",
   "id": "physical-bennett",
   "metadata": {
    "kernel": "SoS"
   },
   "source": [
    "#### Sample match with genotype "
   ]
  },
  {
   "cell_type": "code",
   "execution_count": 1,
   "id": "dutch-tribune",
   "metadata": {
    "kernel": "Bash"
   },
   "outputs": [
    {
     "name": "stdout",
     "output_type": "stream",
     "text": [
      "INFO: Running \u001b[32mgenotype_phenotype_sample_overlap\u001b[0m: This workflow extracts overlapping samples for genotype data with phenotype data, and output the filtered sample genotype list as well as sample phenotype list\n",
      "INFO: \u001b[32mgenotype_phenotype_sample_overlap\u001b[0m is \u001b[32mcompleted\u001b[0m.\n",
      "INFO: \u001b[32mgenotype_phenotype_sample_overlap\u001b[0m output:   \u001b[32m/home/gw/GIT/github/fungen-xqtl-analysis/analysis/Wang_Columbia/ROSMAP/MWE/output/samples/protocol_example.protein.sample_overlap.txt /home/gw/GIT/github/fungen-xqtl-analysis/analysis/Wang_Columbia/ROSMAP/MWE/output/samples/protocol_example.protein.sample_genotypes.txt\u001b[0m\n",
      "INFO: Workflow genotype_phenotype_sample_overlap (ID=wb6cc0b72d21c80e5) is executed successfully with 1 completed step.\n"
     ]
    }
   ],
   "source": [
    "sos run pipeline/GWAS_QC.ipynb genotype_phenotype_sample_overlap \\\n",
    "        --cwd output/sample_meta \\\n",
    "        --genoFile protocol_example/protocol_example.genotype.chr21_22.fam  \\\n",
    "        --phenoFile protocol_example/protocol_example.protein.csv \\\n",
    "        --container containers/bioinfo.sif \\\n",
    "        --mem 5G"
   ]
  },
  {
   "cell_type": "markdown",
   "id": "attractive-arkansas",
   "metadata": {
    "kernel": "SoS"
   },
   "source": [
    "#### Kinship"
   ]
  },
  {
   "cell_type": "code",
   "execution_count": 2,
   "id": "contemporary-binary",
   "metadata": {
    "kernel": "Bash"
   },
   "outputs": [
    {
     "name": "stdout",
     "output_type": "stream",
     "text": [
      "INFO: Running \u001b[32mking_1\u001b[0m: Inference of relationships in the sample to identify closely related individuals\n",
      "INFO: \u001b[32mking_1\u001b[0m is \u001b[32mcompleted\u001b[0m.\n",
      "INFO: \u001b[32mking_1\u001b[0m output:   \u001b[32m/home/gw/GIT/github/fungen-xqtl-analysis/analysis/Wang_Columbia/ROSMAP/MWE/output/kinship/protocol_example.genotype.chr21_22.pQTL.kin0\u001b[0m\n",
      "INFO: Running \u001b[32mking_2\u001b[0m: Select a list of unrelated individual with an attempt to maximize the unrelated individuals selected from the data\n",
      "INFO: \u001b[32mking_2\u001b[0m is \u001b[32mcompleted\u001b[0m.\n",
      "INFO: \u001b[32mking_2\u001b[0m output:   \u001b[32m/home/gw/GIT/github/fungen-xqtl-analysis/analysis/Wang_Columbia/ROSMAP/MWE/output/kinship/protocol_example.genotype.chr21_22.pQTL.related_id\u001b[0m\n",
      "INFO: Running \u001b[32mking_3\u001b[0m: Split genotype data into related and unrelated samples, if related individuals are detected\n",
      "INFO: \u001b[32mking_3\u001b[0m is \u001b[32mcompleted\u001b[0m.\n",
      "INFO: \u001b[32mking_3\u001b[0m output:   \u001b[32m/home/gw/GIT/github/fungen-xqtl-analysis/analysis/Wang_Columbia/ROSMAP/MWE/output/kinship/protocol_example.genotype.chr21_22.pQTL.unrelated.bed /home/gw/GIT/github/fungen-xqtl-analysis/analysis/Wang_Columbia/ROSMAP/MWE/output/kinship/protocol_example.genotype.chr21_22.pQTL.related.bed\u001b[0m\n",
      "INFO: Workflow king (ID=wdd0b0fe5517b6ca9) is executed successfully with 3 completed steps.\n"
     ]
    }
   ],
   "source": [
    "sos run pipeline/GWAS_QC.ipynb king \\\n",
    "    --cwd output/kinship \\\n",
    "    --genoFile protocol_example/protocol_example.genotype.chr21_22.bed \\\n",
    "    --name pQTL \\\n",
    "    --keep-samples output/sample_meta/protocol_example.protein.sample_genotypes.txt \\\n",
    "    --container containers/bioinfo.sif \\\n",
    "    --no-maximize-unrelated \\\n",
    "    --mem 40G"
   ]
  },
  {
   "cell_type": "markdown",
   "id": "seven-patient",
   "metadata": {
    "kernel": "SoS"
   },
   "source": [
    "1. Variant level and sample level QC on unrelated individuals using missingness > 10%, and LD-prunning in preparation for PCA analysis.    \n",
    "2. There is no related samples in these ROSMAP samples, so there is an additional step to only keep those samples in `rosmap_pheno.sample_genotypes.txt` to do PCA."
   ]
  },
  {
   "cell_type": "markdown",
   "id": "temporal-tolerance",
   "metadata": {
    "kernel": "SoS"
   },
   "source": [
    "**Be aware:**    \n",
    "\n",
    "**If the message from `king_2` shown as `No related individuals detected from *.kin0`, this means no related individuals detected for the samples in `--keep_samples`. In this case, there will be no output for unrelated individuals from this step.**"
   ]
  },
  {
   "cell_type": "markdown",
   "id": "metropolitan-pennsylvania",
   "metadata": {
    "kernel": "SoS"
   },
   "source": [
    "#### Prepare unrelated individuals data for PCA\n",
    "\n",
    "Here we write data to `cache` folder instead of `output` because this genotype data can be removed later after PCA. Also filter out minor allel accout < 5.\n",
    "\n",
    "**If your data has `*.unrelated.bed` generated, that means there are related individuals in your data. In cases, we will use output from the KING step for unrelated individuals.**"
   ]
  },
  {
   "cell_type": "code",
   "execution_count": 3,
   "id": "russian-alexander",
   "metadata": {
    "kernel": "Bash"
   },
   "outputs": [
    {
     "name": "stdout",
     "output_type": "stream",
     "text": [
      "INFO: Running \u001b[32mbasic QC filters\u001b[0m: Filter SNPs and select individuals\n",
      "INFO: \u001b[32mbasic QC filters\u001b[0m is \u001b[32mcompleted\u001b[0m.\n",
      "INFO: \u001b[32mbasic QC filters\u001b[0m output:   \u001b[32m/home/gw/GIT/github/fungen-xqtl-analysis/analysis/Wang_Columbia/ROSMAP/MWE/output/cache/protocol_example.genotype.chr21_22.pQTL.unrelated.plink_qc.bed\u001b[0m\n",
      "INFO: Running \u001b[32mLD pruning\u001b[0m: LD prunning and remove related individuals (both ind of a pair) Plink2 has multi-threaded calculation for LD prunning\n",
      "INFO: \u001b[32mLD pruning\u001b[0m is \u001b[32mcompleted\u001b[0m.\n",
      "INFO: \u001b[32mLD pruning\u001b[0m output:   \u001b[32m/home/gw/GIT/github/fungen-xqtl-analysis/analysis/Wang_Columbia/ROSMAP/MWE/output/cache/protocol_example.genotype.chr21_22.pQTL.unrelated.plink_qc.prune.bed /home/gw/GIT/github/fungen-xqtl-analysis/analysis/Wang_Columbia/ROSMAP/MWE/output/cache/protocol_example.genotype.chr21_22.pQTL.unrelated.plink_qc.prune.in\u001b[0m\n",
      "INFO: Workflow qc (ID=w3a34828bd2888342) is executed successfully with 2 completed steps.\n"
     ]
    }
   ],
   "source": [
    "sos run pipeline/GWAS_QC.ipynb qc \\\n",
    "   --cwd output/cache \\\n",
    "   --genoFile output/kinship/protocol_example.genotype.chr21_22.pQTL.unrelated.bed \\\n",
    "   --mac-filter 5 \\\n",
    "   --container containers/bioinfo.sif \\\n",
    "   --mem 16G"
   ]
  },
  {
   "cell_type": "markdown",
   "id": "missing-burden",
   "metadata": {
    "kernel": "SoS"
   },
   "source": [
    "**In other cases eg ROSMAP proteomics data, message `No related individuals detected from *.kin0` occured, there is no separate genotype data generated for unrelated individuals. In this case, we need to work from the original genotype data and must use `--keep-samples` to run `qc` to extract samples for PCA.**. For example:"
   ]
  },
  {
   "cell_type": "code",
   "execution_count": 4,
   "id": "finite-taiwan",
   "metadata": {
    "kernel": "Bash"
   },
   "outputs": [
    {
     "name": "stdout",
     "output_type": "stream",
     "text": [
      "INFO: Running \u001b[32mbasic QC filters\u001b[0m: Filter SNPs and select individuals\n",
      "INFO: \u001b[32mbasic QC filters\u001b[0m is \u001b[32mcompleted\u001b[0m.\n",
      "INFO: \u001b[32mbasic QC filters\u001b[0m output:   \u001b[32m/home/gw/GIT/github/fungen-xqtl-analysis/analysis/Wang_Columbia/ROSMAP/MWE/output/cache/protocol_example.genotype.chr21_22.pQTL.plink_qc.bed\u001b[0m\n",
      "INFO: Running \u001b[32mLD pruning\u001b[0m: LD prunning and remove related individuals (both ind of a pair) Plink2 has multi-threaded calculation for LD prunning\n",
      "INFO: \u001b[32mLD pruning\u001b[0m is \u001b[32mcompleted\u001b[0m.\n",
      "INFO: \u001b[32mLD pruning\u001b[0m output:   \u001b[32m/home/gw/GIT/github/fungen-xqtl-analysis/analysis/Wang_Columbia/ROSMAP/MWE/output/cache/protocol_example.genotype.chr21_22.pQTL.plink_qc.prune.bed /home/gw/GIT/github/fungen-xqtl-analysis/analysis/Wang_Columbia/ROSMAP/MWE/output/cache/protocol_example.genotype.chr21_22.pQTL.plink_qc.prune.in\u001b[0m\n",
      "INFO: Workflow qc (ID=wd519554233f99db1) is executed successfully with 2 completed steps.\n"
     ]
    }
   ],
   "source": [
    "sos run pipeline/GWAS_QC.ipynb qc \\\n",
    "   --cwd output/cache \\\n",
    "   --genoFile protocol_example/protocol_example.genotype.chr21_22.bed \\\n",
    "   --keep-samples output/sample_meta/protocol_example.protein.sample_genotypes.txt \\\n",
    "   --name pQTL \\\n",
    "   --mac-filter 5 \\\n",
    "   --container containers/bioinfo.sif \\\n",
    "   --mem 40G"
   ]
  },
  {
   "cell_type": "markdown",
   "id": "thermal-store",
   "metadata": {
    "kernel": "SoS"
   },
   "source": [
    "#### PCA on genotype\n",
    "Note PC1 vs 2 outlier"
   ]
  },
  {
   "cell_type": "code",
   "execution_count": 5,
   "id": "familiar-westminster",
   "metadata": {
    "kernel": "Bash"
   },
   "outputs": [
    {
     "name": "stdout",
     "output_type": "stream",
     "text": [
      "INFO: Running \u001b[32mflashpca_1\u001b[0m: Run PCA analysis using flashpca\n",
      "INFO: \u001b[32mflashpca_1\u001b[0m is \u001b[32mcompleted\u001b[0m.\n",
      "INFO: \u001b[32mflashpca_1\u001b[0m output:   \u001b[32m/home/gw/GIT/github/fungen-xqtl-analysis/analysis/Wang_Columbia/ROSMAP/MWE/output/genotype_pca/protocol_example.genotype.chr21_22.pQTL.plink_qc.prune.pca.rds\u001b[0m\n",
      "INFO: Running \u001b[32mflashpca_2\u001b[0m: \n",
      "INFO: \u001b[32mflashpca_2\u001b[0m is \u001b[32mcompleted\u001b[0m (pending nested workflow).\n",
      "INFO: Running \u001b[32mdetect_outliers\u001b[0m: Calculate Mahalanobis distance per population and report outliers\n",
      "INFO: \u001b[32mdetect_outliers\u001b[0m is \u001b[32mcompleted\u001b[0m.\n",
      "INFO: \u001b[32mdetect_outliers\u001b[0m output:   \u001b[32m/home/gw/GIT/github/fungen-xqtl-analysis/analysis/Wang_Columbia/ROSMAP/MWE/output/genotype_pca/protocol_example.genotype.chr21_22.pQTL.plink_qc.prune.pca.mahalanobis.rds /home/gw/GIT/github/fungen-xqtl-analysis/analysis/Wang_Columbia/ROSMAP/MWE/output/genotype_pca/protocol_example.genotype.chr21_22.pQTL.plink_qc.prune.pca.outliers... (5 items)\u001b[0m\n",
      "INFO: \u001b[32mflashpca_2\u001b[0m output:   \u001b[32m/home/gw/GIT/github/fungen-xqtl-analysis/analysis/Wang_Columbia/ROSMAP/MWE/output/genotype_pca/protocol_example.genotype.chr21_22.pQTL.plink_qc.prune.pca.mahalanobis.rds /home/gw/GIT/github/fungen-xqtl-analysis/analysis/Wang_Columbia/ROSMAP/MWE/output/genotype_pca/protocol_example.genotype.chr21_22.pQTL.plink_qc.prune.pca.outliers... (5 items)\u001b[0m\n",
      "INFO: Running \u001b[32mflashpca_3\u001b[0m: \n",
      "INFO: \u001b[32mflashpca_3\u001b[0m is \u001b[32mcompleted\u001b[0m (pending nested workflow).\n",
      "INFO: Running \u001b[32mplot_pca\u001b[0m: Plot PCA results. Can be used independently as \"plot_pca\" or combined with other workflow as eg \"flashpca+plot_pca\"\n",
      "INFO: \u001b[32mplot_pca\u001b[0m is \u001b[32mcompleted\u001b[0m.\n",
      "INFO: \u001b[32mplot_pca\u001b[0m output:   \u001b[32m/home/gw/GIT/github/fungen-xqtl-analysis/analysis/Wang_Columbia/ROSMAP/MWE/output/genotype_pca/protocol_example.genotype.chr21_22.pQTL.plink_qc.prune.pca.pc.png /home/gw/GIT/github/fungen-xqtl-analysis/analysis/Wang_Columbia/ROSMAP/MWE/output/genotype_pca/protocol_example.genotype.chr21_22.pQTL.plink_qc.prune.pca.scree.png... (3 items)\u001b[0m\n",
      "INFO: \u001b[32mflashpca_3\u001b[0m output:   \u001b[32m/home/gw/GIT/github/fungen-xqtl-analysis/analysis/Wang_Columbia/ROSMAP/MWE/output/genotype_pca/protocol_example.genotype.chr21_22.pQTL.plink_qc.prune.pca.pc.png /home/gw/GIT/github/fungen-xqtl-analysis/analysis/Wang_Columbia/ROSMAP/MWE/output/genotype_pca/protocol_example.genotype.chr21_22.pQTL.plink_qc.prune.pca.scree.png\u001b[0m\n",
      "INFO: Workflow flashpca (ID=w09c13a6e20629b3d) is executed successfully with 5 completed steps.\n"
     ]
    }
   ],
   "source": [
    "sos run pipeline/PCA.ipynb flashpca \\\n",
    "   --cwd output/genotype_pca \\\n",
    "   --genoFile output/cache/protocol_example.genotype.chr21_22.pQTL.plink_qc.prune.bed \\\n",
    "   --container containers/flashpcaR.sif \\\n",
    "   --mem 16G"
   ]
  },
  {
   "cell_type": "markdown",
   "id": "solid-kentucky",
   "metadata": {
    "kernel": "SoS"
   },
   "source": [
    "The plot of PCA is under figure folder. FIXME: please show the preview in this notebook as well."
   ]
  }
 ],
 "metadata": {
  "kernelspec": {
   "display_name": "SoS",
   "language": "sos",
   "name": "sos"
  },
  "language_info": {
   "codemirror_mode": "sos",
   "file_extension": ".sos",
   "mimetype": "text/x-sos",
   "name": "sos",
   "nbconvert_exporter": "sos_notebook.converter.SoS_Exporter",
   "pygments_lexer": "sos"
  },
  "sos": {
   "kernels": [
    [
     "Bash",
     "bash",
     "Bash",
     "#E6EEFF",
     "shell"
    ],
    [
     "SoS",
     "sos",
     "",
     "",
     "sos"
    ]
   ],
   "version": "0.22.4"
  }
 },
 "nbformat": 4,
 "nbformat_minor": 5
}
