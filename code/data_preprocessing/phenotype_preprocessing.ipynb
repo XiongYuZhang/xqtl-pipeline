{
 "cells": [
  {
   "cell_type": "markdown",
   "id": "shaped-peace",
   "metadata": {
    "kernel": "SoS"
   },
   "source": [
    "# Phenotype data preprocessing\n",
    "\n",
    "This mini-protocol documents the shared post processing step and some utilities to handle molecular phenotype files including imputations."
   ]
  },
  {
   "cell_type": "markdown",
   "id": "hazardous-infrared",
   "metadata": {
    "kernel": "SoS"
   },
   "source": [
    "## Data Input\n",
    "\n",
    "- `protocol_example/protocol_example.protein.csv`\n",
    "- `output/protocol_example.protein.sample_overlap.txt`\n",
    "- `reference_data/Homo_sapiens.GRCh38.103.chr.reformatted.collapse_only.gene.ERCC.gtf`"
   ]
  },
  {
   "cell_type": "markdown",
   "id": "affiliated-comfort",
   "metadata": {
    "kernel": "SoS"
   },
   "source": [
    "## Data Output\n",
    "`output/protocol_example.protein.bed.gz` and `output/protocol_example.protein.bed.gz.tbi`\n",
    "\n",
    "## Steps in details"
   ]
  },
  {
   "cell_type": "markdown",
   "id": "finite-judgment",
   "metadata": {
    "kernel": "SoS"
   },
   "source": [
    "### Phenotype Annotation\n",
    "This step serves as annote cooresponding `chr`, `start`, `end`, and `gene_id` to genes in the original phenotype matrix. "
   ]
  },
  {
   "cell_type": "code",
   "execution_count": 8,
   "id": "systematic-enhancement",
   "metadata": {
    "kernel": "Bash"
   },
   "outputs": [
    {
     "name": "stdout",
     "output_type": "stream",
     "text": [
      "INFO: Running \u001b[32mannotate_coord_protein\u001b[0m: \n",
      "INFO: \u001b[32mannotate_coord_protein\u001b[0m is \u001b[32mcompleted\u001b[0m.\n",
      "INFO: \u001b[32mannotate_coord_protein\u001b[0m output:   \u001b[32m/home/gw/GIT/github/fungen-xqtl-analysis/analysis/Wang_Columbia/ROSMAP/MWE/output/phenotype/protocol_example.protein.bed.gz /home/gw/GIT/github/fungen-xqtl-analysis/analysis/Wang_Columbia/ROSMAP/MWE/output/phenotype/protocol_example.protein.region_list\u001b[0m\n",
      "INFO: Workflow annotate_coord_protein (ID=w05c59b6153d792e4) is executed successfully with 1 completed step.\n"
     ]
    }
   ],
   "source": [
    "sos run pipeline/gene_annotation.ipynb annotate_coord_protein \\\n",
    "    --cwd output/phenotype \\\n",
    "    --phenoFile protocol_example/protocol_example.protein.csv \\\n",
    "    --annotation-gtf reference_data/Homo_sapiens.GRCh38.103.chr.reformatted.collapse_only.gene.ERCC.gtf \\\n",
    "    --phenotype-id-type gene_name \\\n",
    "    --sample-participant-lookup output/sample_meta/protocol_example.protein.sample_overlap.txt \\\n",
    "    --container containers/rna_quantification.sif"
   ]
  },
  {
   "cell_type": "markdown",
   "id": "liable-reynolds",
   "metadata": {
    "kernel": "SoS"
   },
   "source": [
    "The output of annotation as following:"
   ]
  },
  {
   "cell_type": "code",
   "execution_count": 2,
   "id": "magnetic-begin",
   "metadata": {
    "kernel": "Bash"
   },
   "outputs": [
    {
     "name": "stdout",
     "output_type": "stream",
     "text": [
      "#chr\tstart\tend\tID\tsample_1\tsample_2\n",
      "chr12\t752578\t752579\tENSG00000060237_Q9H4A3\t0.238966360190167\t-0.611171227886468\n",
      "chr12\t990508\t990509\tENSG00000082805_Q8IUD2\t-1.7263446480966\t-1.86313205860919\n",
      "chr12\t2794969\t2794970\tENSG00000004478_Q02790\t-1.17242006085983\t-0.938018529427372\n",
      "chr12\t4649113\t4649114\tENSG00000139180_Q16795\t-1.8025806392753\t2.33608132863355\n",
      "chr12\t6124769\t6124770\tENSG00000110799_P04275\t2.28733225877204\t0.369455907879097\n",
      "chr12\t6534516\t6534517\tENSG00000111640_P04406\t0.068385837672252\t1.14569060082588\n",
      "chr12\t6852147\t6852148\tENSG00000111667_P45974\t-0.326438251270511\t-1.14820827303759\n",
      "chr12\t6867118\t6867119\tENSG00000111669_P60174\t-0.859617481888594\t1.40831244070821\n",
      "chr12\t6913744\t6913745\tENSG00000111674_P09104\t-0.162509513103512\t0.160160289285627\n",
      "\n",
      "gzip: stdout: Broken pipe\n"
     ]
    }
   ],
   "source": [
    "zcat output/phenotype/protocol_example.protein.bed.gz | head | cut -f 1-6"
   ]
  },
  {
   "cell_type": "code",
   "execution_count": 9,
   "id": "combined-norfolk",
   "metadata": {
    "kernel": "Bash"
   },
   "outputs": [
    {
     "name": "stdout",
     "output_type": "stream",
     "text": [
      "#chr\tstart\tend\tID\tpath\n",
      "chr12\t752578\t752579\tENSG00000060237_Q9H4A3\t/home/gw/GIT/github/fungen-xqtl-analysis/analysis/Wang_Columbia/ROSMAP/MWE/output/phenotype/protocol_example.protein.bed.gz\n",
      "chr12\t990508\t990509\tENSG00000082805_Q8IUD2\t/home/gw/GIT/github/fungen-xqtl-analysis/analysis/Wang_Columbia/ROSMAP/MWE/output/phenotype/protocol_example.protein.bed.gz\n",
      "chr12\t2794969\t2794970\tENSG00000004478_Q02790\t/home/gw/GIT/github/fungen-xqtl-analysis/analysis/Wang_Columbia/ROSMAP/MWE/output/phenotype/protocol_example.protein.bed.gz\n",
      "chr12\t4649113\t4649114\tENSG00000139180_Q16795\t/home/gw/GIT/github/fungen-xqtl-analysis/analysis/Wang_Columbia/ROSMAP/MWE/output/phenotype/protocol_example.protein.bed.gz\n",
      "chr12\t6124769\t6124770\tENSG00000110799_P04275\t/home/gw/GIT/github/fungen-xqtl-analysis/analysis/Wang_Columbia/ROSMAP/MWE/output/phenotype/protocol_example.protein.bed.gz\n",
      "chr12\t6534516\t6534517\tENSG00000111640_P04406\t/home/gw/GIT/github/fungen-xqtl-analysis/analysis/Wang_Columbia/ROSMAP/MWE/output/phenotype/protocol_example.protein.bed.gz\n",
      "chr12\t6852147\t6852148\tENSG00000111667_P45974\t/home/gw/GIT/github/fungen-xqtl-analysis/analysis/Wang_Columbia/ROSMAP/MWE/output/phenotype/protocol_example.protein.bed.gz\n",
      "chr12\t6867118\t6867119\tENSG00000111669_P60174\t/home/gw/GIT/github/fungen-xqtl-analysis/analysis/Wang_Columbia/ROSMAP/MWE/output/phenotype/protocol_example.protein.bed.gz\n",
      "chr12\t6913744\t6913745\tENSG00000111674_P09104\t/home/gw/GIT/github/fungen-xqtl-analysis/analysis/Wang_Columbia/ROSMAP/MWE/output/phenotype/protocol_example.protein.bed.gz\n"
     ]
    }
   ],
   "source": [
    "head output/phenotype/protocol_example.protein.region_list"
   ]
  },
  {
   "cell_type": "markdown",
   "id": "available-target",
   "metadata": {
    "kernel": "SoS"
   },
   "source": [
    "### Normalization\n",
    "The ROSMAP proteomics data is already normalized. Nothing to do here."
   ]
  },
  {
   "cell_type": "markdown",
   "id": "herbal-finger",
   "metadata": {
    "kernel": "SoS"
   },
   "source": [
    "### Mean Imputation\n",
    "\n",
    "FIXME: mention that for eQTL it is fine to skip this.\n",
    "\n",
    "FIXME: For this step we are still working out the best approach. This will be updated with the proper imputation command once we finalize on the simulation results (currently very much likely, using `flashier`)."
   ]
  },
  {
   "cell_type": "markdown",
   "id": "accessory-sound",
   "metadata": {
    "kernel": "SoS"
   },
   "source": [
    "### Partition by chroms\n",
    "\n",
    "This is necessary for cis TensorQTL analysis. The output are two sets of files for chrom 21 and 22"
   ]
  },
  {
   "cell_type": "code",
   "execution_count": 5,
   "id": "solar-summary",
   "metadata": {
    "kernel": "Bash",
    "vscode": {
     "languageId": "plaintext"
    }
   },
   "outputs": [
    {
     "name": "stdout",
     "output_type": "stream",
     "text": [
      "INFO: Running \u001b[32mphenotype_by_chrom_1\u001b[0m: \n",
      "INFO: \u001b[32mphenotype_by_chrom_1\u001b[0m (index=1) is \u001b[32mcompleted\u001b[0m.\n",
      "INFO: \u001b[32mphenotype_by_chrom_1\u001b[0m (index=0) is \u001b[32mcompleted\u001b[0m.\n",
      "INFO: \u001b[32mphenotype_by_chrom_1\u001b[0m output:   \u001b[32moutput/phenotype_by_chrom/protocol_example.protein.bed.chr22.bed.gz output/phenotype_by_chrom/protocol_example.protein.bed.chr21.bed.gz in 2 groups\u001b[0m\n",
      "INFO: Running \u001b[32mphenotype_by_chrom_2\u001b[0m: \n",
      "INFO: Note: NumExpr detected 40 cores but \"NUMEXPR_MAX_THREADS\" not set, so enforcing safe limit of 8.\n",
      "INFO: NumExpr defaulting to 8 threads.\n",
      "INFO: \u001b[32mphenotype_by_chrom_2\u001b[0m is \u001b[32mcompleted\u001b[0m.\n",
      "INFO: \u001b[32mphenotype_by_chrom_2\u001b[0m output:   \u001b[32moutput/phenotype_by_chrom/protocol_example.protein.bed.phenotype_by_chrom_files.txt\u001b[0m\n",
      "INFO: Workflow phenotype_by_chrom (ID=wf1fa19fa67981064) is executed successfully with 2 completed steps and 3 completed substeps.\n"
     ]
    }
   ],
   "source": [
    "sos run pipeline/phenotype_formatting.ipynb phenotype_by_chrom \\\n",
    "    --cwd output/phenotype_by_chrom \\\n",
    "    --phenoFile output/phenotype/protocol_example.protein.bed.gz \\\n",
    "    --chrom `for i in {21..22}; do echo chr$i; done` \\\n",
    "    --container containers/bioinfo.sif"
   ]
  }
 ],
 "metadata": {
  "kernelspec": {
   "display_name": "SoS",
   "language": "sos",
   "name": "sos"
  },
  "language_info": {
   "codemirror_mode": "sos",
   "file_extension": ".sos",
   "mimetype": "text/x-sos",
   "name": "sos",
   "nbconvert_exporter": "sos_notebook.converter.SoS_Exporter",
   "pygments_lexer": "sos"
  },
  "sos": {
   "kernels": [
    [
     "Bash",
     "bash",
     "Bash",
     "#E6EEFF",
     "shell"
    ],
    [
     "SoS",
     "sos",
     "",
     "",
     "sos"
    ]
   ],
   "version": "0.22.4"
  }
 },
 "nbformat": 4,
 "nbformat_minor": 5
}
