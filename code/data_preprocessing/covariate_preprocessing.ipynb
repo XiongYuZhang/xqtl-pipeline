{
 "cells": [
  {
   "cell_type": "markdown",
   "id": "similar-preserve",
   "metadata": {
    "kernel": "SoS"
   },
   "source": [
    "# Covariate data preprocessing\n",
    "\n",
    "This notebook contains workflow of processing covariate files and computes PCA-derived covariates from phenotype data."
   ]
  },
  {
   "cell_type": "markdown",
   "id": "joined-consciousness",
   "metadata": {
    "kernel": "SoS"
   },
   "source": [
    "## Methods overview\n",
    "\n",
    "This workflow is an application of the covariate related sections from the xQTL project pipeline.\n",
    "\n",
    "## Data Input\n",
    "- `output/protocol_example.protein.bed.gz`\n",
    "- PCs from genotypes genereated in the [genotype_pca](https://github.com/cumc/brain-xqtl-analysis/tree/main/analysis/Wang_Columbia/ROSMAP/pqtl/genotype_pca) step.\n",
    "- Fixed covarate file including information such as sex, age at death, pmi etc\n"
   ]
  },
  {
   "cell_type": "code",
   "execution_count": 1,
   "id": "systematic-disabled",
   "metadata": {
    "kernel": "Python3"
   },
   "outputs": [
    {
     "data": {
      "text/html": [
       "<div>\n",
       "<style scoped>\n",
       "    .dataframe tbody tr th:only-of-type {\n",
       "        vertical-align: middle;\n",
       "    }\n",
       "\n",
       "    .dataframe tbody tr th {\n",
       "        vertical-align: top;\n",
       "    }\n",
       "\n",
       "    .dataframe thead th {\n",
       "        text-align: right;\n",
       "    }\n",
       "</style>\n",
       "<table border=\"1\" class=\"dataframe\">\n",
       "  <thead>\n",
       "    <tr style=\"text-align: right;\">\n",
       "      <th></th>\n",
       "      <th>sample</th>\n",
       "      <th>age</th>\n",
       "      <th>sex</th>\n",
       "      <th>pmi</th>\n",
       "    </tr>\n",
       "  </thead>\n",
       "  <tbody>\n",
       "    <tr>\n",
       "      <th>0</th>\n",
       "      <td>sample_384</td>\n",
       "      <td>88</td>\n",
       "      <td>1</td>\n",
       "      <td>9.000000</td>\n",
       "    </tr>\n",
       "    <tr>\n",
       "      <th>1</th>\n",
       "      <td>sample_597</td>\n",
       "      <td>88</td>\n",
       "      <td>1</td>\n",
       "      <td>3.166667</td>\n",
       "    </tr>\n",
       "    <tr>\n",
       "      <th>2</th>\n",
       "      <td>sample_598</td>\n",
       "      <td>85</td>\n",
       "      <td>0</td>\n",
       "      <td>4.416667</td>\n",
       "    </tr>\n",
       "    <tr>\n",
       "      <th>3</th>\n",
       "      <td>sample_599</td>\n",
       "      <td>84</td>\n",
       "      <td>0</td>\n",
       "      <td>7.916667</td>\n",
       "    </tr>\n",
       "    <tr>\n",
       "      <th>4</th>\n",
       "      <td>sample_600</td>\n",
       "      <td>82</td>\n",
       "      <td>0</td>\n",
       "      <td>3.916667</td>\n",
       "    </tr>\n",
       "  </tbody>\n",
       "</table>\n",
       "</div>"
      ],
      "text/plain": [
       "       sample  age  sex       pmi\n",
       "0  sample_384   88    1  9.000000\n",
       "1  sample_597   88    1  3.166667\n",
       "2  sample_598   85    0  4.416667\n",
       "3  sample_599   84    0  7.916667\n",
       "4  sample_600   82    0  3.916667"
      ]
     },
     "execution_count": 1,
     "metadata": {},
     "output_type": "execute_result"
    }
   ],
   "source": [
    "import pandas as pd\n",
    "data_cov= pd.read_csv(\"protocol_example/protocol_example.samples.tsv\", sep='\\t')\n",
    "data_cov.head(5)"
   ]
  },
  {
   "cell_type": "markdown",
   "id": "funny-station",
   "metadata": {
    "kernel": "SoS"
   },
   "source": [
    "## Data Output\n",
    "- `output/` This contains all covariates from Genotype PCs, known covariates, and hidden factors."
   ]
  },
  {
   "cell_type": "markdown",
   "id": "preliminary-engine",
   "metadata": {
    "kernel": "SoS"
   },
   "source": [
    "### Merge covariates and genotype PCA"
   ]
  },
  {
   "cell_type": "markdown",
   "id": "built-dictionary",
   "metadata": {
    "kernel": "SoS"
   },
   "source": [
    "First, check how many genotype PC we might want to include,"
   ]
  },
  {
   "cell_type": "code",
   "execution_count": 1,
   "id": "soviet-position",
   "metadata": {
    "kernel": "Bash"
   },
   "outputs": [
    {
     "name": "stdout",
     "output_type": "stream",
     "text": [
      "awk: fatal: cannot open file `output/protocol_example.genotype.chr21_22.pQTL.unrelated.plink_qc.prune.pca.scree.txt' for reading (No such file or directory)\n"
     ]
    }
   ],
   "source": [
    "awk '$3 < 0.8' output/protocol_example.genotype.chr21_22.pQTL.unrelated.plink_qc.prune.pca.scree.txt| tail -1 | cut -f 1"
   ]
  },
  {
   "cell_type": "markdown",
   "id": "spread-russell",
   "metadata": {
    "kernel": "SoS"
   },
   "source": [
    "Here we see 15 PC that will explain 80% variation in the data. Let's include 15 PC in this case. In practice it is suggested that you discuss with your collaborator and/or PI about the choice of PC given results from the previous PCA."
   ]
  },
  {
   "cell_type": "code",
   "execution_count": 6,
   "id": "adjustable-kruger",
   "metadata": {
    "kernel": "Bash"
   },
   "outputs": [
    {
     "name": "stdout",
     "output_type": "stream",
     "text": [
      "INFO: Running \u001b[32mmerge_genotype_pc\u001b[0m: \n",
      "INFO: \u001b[32mmerge_genotype_pc\u001b[0m is \u001b[32mcompleted\u001b[0m.\n",
      "INFO: \u001b[32mmerge_genotype_pc\u001b[0m output:   \u001b[32m/home/gw/GIT/github/fungen-xqtl-analysis/analysis/Wang_Columbia/ROSMAP/MWE/output/covariate/protocol_example.samples.protocol_example.genotype.chr21_22.pQTL.plink_qc.prune.pca.gz\u001b[0m\n",
      "INFO: Workflow merge_genotype_pc (ID=wdba3531b2c9cee95) is executed successfully with 1 completed step.\n"
     ]
    }
   ],
   "source": [
    "sos run pipeline/covariate_formatting.ipynb merge_genotype_pc \\\n",
    "    --cwd output/covariate \\\n",
    "    --pcaFile output/genotype_pca/protocol_example.genotype.chr21_22.pQTL.plink_qc.prune.pca.rds \\\n",
    "    --covFile  protocol_example/protocol_example.samples.tsv \\\n",
    "    --tol_cov 0.4  \\\n",
    "    --k 15 \\\n",
    "    --container containers/bioinfo.sif"
   ]
  },
  {
   "cell_type": "markdown",
   "id": "visible-practitioner",
   "metadata": {
    "kernel": "SoS"
   },
   "source": [
    "### Compute residule on merged covariates and perform hidden factor analysis\n",
    "This step will compute residual on merged covariates(`Marchenko_PC_1`) and perform hidden factor analysis(`Marchenko_PC_2`)"
   ]
  },
  {
   "cell_type": "code",
   "execution_count": 11,
   "id": "floral-masters",
   "metadata": {
    "kernel": "Bash"
   },
   "outputs": [
    {
     "name": "stdout",
     "output_type": "stream",
     "text": [
      "INFO: Running \u001b[32mcomputing residual on merged covariates\u001b[0m: \n",
      "INFO: \u001b[32mcomputing residual on merged covariates\u001b[0m is \u001b[32mcompleted\u001b[0m.\n",
      "INFO: \u001b[32mcomputing residual on merged covariates\u001b[0m output:   \u001b[32moutput/covariate/protocol_example.protein.protocol_example.samples.protocol_example.genotype.chr21_22.pQTL.plink_qc.prune.pca.residual.bed.gz\u001b[0m\n",
      "INFO: Running \u001b[32mMarchenko_PC_2\u001b[0m: \n",
      "INFO: \u001b[32mMarchenko_PC_2\u001b[0m is \u001b[32mcompleted\u001b[0m.\n",
      "INFO: \u001b[32mMarchenko_PC_2\u001b[0m output:   \u001b[32moutput/covariate/protocol_example.protein.protocol_example.samples.protocol_example.genotype.chr21_22.pQTL.plink_qc.prune.pca.Marchenko_PC.gz\u001b[0m\n",
      "INFO: Workflow Marchenko_PC (ID=w180bc4d94fbd6568) is executed successfully with 2 completed steps.\n"
     ]
    }
   ],
   "source": [
    "sos run pipeline/covariate_hidden_factor.ipynb Marchenko_PC \\\n",
    "   --cwd output/covariate \\\n",
    "   --phenoFile output/phenotype/protocol_example.protein.bed.gz  \\\n",
    "   --covFile output/covariate/protocol_example.samples.protocol_example.genotype.chr21_22.pQTL.plink_qc.prune.pca.gz \\\n",
    "   --mean-impute-missing \\\n",
    "   --container containers/PCAtools.sif"
   ]
  }
 ],
 "metadata": {
  "kernelspec": {
   "display_name": "SoS",
   "language": "sos",
   "name": "sos"
  },
  "language_info": {
   "codemirror_mode": "sos",
   "file_extension": ".sos",
   "mimetype": "text/x-sos",
   "name": "sos",
   "nbconvert_exporter": "sos_notebook.converter.SoS_Exporter",
   "pygments_lexer": "sos"
  },
  "sos": {
   "kernels": [
    [
     "Bash",
     "bash",
     "Bash",
     "#E6EEFF",
     "shell"
    ],
    [
     "Python3",
     "python3",
     "Python3",
     "#FFD91A",
     ""
    ]
   ],
   "version": "0.22.4"
  }
 },
 "nbformat": 4,
 "nbformat_minor": 5
}
