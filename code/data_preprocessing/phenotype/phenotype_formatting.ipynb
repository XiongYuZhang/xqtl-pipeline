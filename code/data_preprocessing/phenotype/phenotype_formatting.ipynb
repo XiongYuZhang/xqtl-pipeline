{
 "cells": [
  {
   "cell_type": "markdown",
   "id": "express-verse",
   "metadata": {
    "kernel": "SoS",
    "tags": []
   },
   "source": [
    "# Phenotype data formatting\n",
    "\n",
    "This module implements a collection of workflows used to format molecular phenotype data.\n",
    "\n",
    "**FIXME: this entire pipeline needs to be improved**\n",
    "\n",
    "## Input\n",
    "The input for this workflow is the collection of data for 1 molecular phenotype as described in the format of:\n",
    "\n",
    "1. a complete residualized (covariates regressed out) molecular phenotype data \n",
    "2. a region list\n",
    "\n",
    "These input are outputs from previous pipelines such as `covariate_preprocessing` and `gene_annotation`.\n",
    "\n",
    "## Output\n",
    "\n",
    "1. A list of phenotype file (bed+index) for each chrom, annotated with genomic coordiates, suitable for TensorQTL analysis.\n",
    "2. 1 lists of phenotype file (bed+index) for each gene,  annotated with genomic coordiates, suitable for fine-mapping."
   ]
  },
  {
   "cell_type": "markdown",
   "id": "blessed-latin",
   "metadata": {
    "kernel": "SoS"
   },
   "source": [
    "## Minimal working example\n",
    "An MWE is uploaded to [google drive](https://drive.google.com/drive/folders/1yjTwoO0DYGi-J9ouMsh9fHKfDmsXJ_4I?usp=sharing).\n",
    "The singularity image (sif) for running this MWE is uploaded to [google drive](https://drive.google.com/drive/folders/1mLOS3AVQM8yTaWtCbO8Q3xla98Nr5bZQ)\n",
    "\n",
    "**FIXME: these have to be updated to synapse links. Examples below also need updates**\n"
   ]
  },
  {
   "cell_type": "code",
   "execution_count": null,
   "id": "confirmed-storage",
   "metadata": {
    "kernel": "SoS"
   },
   "outputs": [],
   "source": [
    "sos run pipeline/phenotype_formatting.ipynb partition_by_chrom \\\n",
    "    --cwd output  \\\n",
    "    --phenoFile MWE.log2cpm.mol_phe.bed.gz \\\n",
    "    --region-list ROSMAP_PCC.methylation.M.renamed.region_list \\\n",
    "    --container containers/rna_quantification.sif"
   ]
  },
  {
   "cell_type": "code",
   "execution_count": null,
   "id": "muslim-dependence",
   "metadata": {
    "kernel": "SoS"
   },
   "outputs": [],
   "source": [
    "sos run pipeline/phenotype_formatting.ipynb partition_by_chrom \\\n",
    "    --cwd mQTL_perchrom  \\\n",
    "    --phenoFile ROSMAP_arrayMethylation_covariates.sesame.methyl.beta.sample_matched.bed_BMIQ.bed.filter_na.bed.softImputed.bed.gz \\\n",
    "    --region-list ROSMAP_PCC.methylation.M.renamed.region_list \\\n",
    "    --container containers/rna_quantification.sif"
   ]
  },
  {
   "cell_type": "code",
   "execution_count": 2,
   "id": "acknowledged-innocent",
   "metadata": {
    "kernel": "SoS"
   },
   "outputs": [],
   "source": [
    "[global]\n",
    "import os\n",
    "# Work directory & output directory\n",
    "parameter: cwd = path(\"output\")\n",
    "# The filename namefor output data\n",
    "parameter: container = ''\n",
    "parameter: entrypoint={('micromamba run -a \"\" -n' + ' ' + container.split('/')[-1][:-4]) if container.endswith('.sif') else f''}\n",
    "# For cluster jobs, number commands to run per job\n",
    "parameter: job_size = 1\n",
    "# Wall clock time expected\n",
    "parameter: walltime = \"5h\"\n",
    "# Memory expected\n",
    "parameter: mem = \"16G\"\n",
    "# Number of threads\n",
    "parameter: numThreads = 20\n",
    "# Path to the input molecular phenotype data.\n",
    "parameter: phenoFile = path\n",
    "# name for the analysis output\n",
    "parameter: name= f'{phenoFile:bn}'"
   ]
  },
  {
   "cell_type": "markdown",
   "id": "civilian-spanish",
   "metadata": {
    "kernel": "SoS",
    "tags": []
   },
   "source": [
    "## Process of molecular phenotype file\n",
    "This workflow produce a bed+tabix file for all the molecular pheno data that are included in the region list to feed into downstream analysis"
   ]
  },
  {
   "cell_type": "code",
   "execution_count": null,
   "id": "rising-minute",
   "metadata": {
    "kernel": "SoS"
   },
   "outputs": [],
   "source": [
    "[phenotype_by_chrom_1]\n",
    "# list of chroms to extract \n",
    "parameter: chrom = list\n",
    "chrom = list(set(chrom))\n",
    "# Path to the input molecular phenotype data.\n",
    "input: phenoFile, for_each = \"chrom\"\n",
    "output: f'{cwd}/{name}.{_chrom}.bed.gz'\n",
    "task: trunk_workers = 1, trunk_size = job_size, walltime = walltime,  mem = mem, tags = f'{step_name}_{_output:bn}'  \n",
    "bash: expand = \"$[ ]\", stderr = f'{_output:n}.stderr', stdout = f'{_output:n}.stdout',container = container, entrypoint=entrypoint\n",
    "    zcat $[_input] | head -1 > $[_output:n]\n",
    "    tabix $[_input] $[_chrom] >> $[_output:n] \n",
    "    bgzip -f $[_output:n]\n",
    "    tabix -p bed $[_output] -f\n",
    "bash: expand= \"$[ ]\", stderr = f'{_output:n}.stderr', stdout = f'{_output:n}.stdout', container = container, entrypoint=entrypoint\n",
    "        stdout=$[_output:n].stdout\n",
    "        for i in $[_output] ; do \n",
    "        echo \"output_info: $i \" >> $stdout;\n",
    "        echo \"output_size:\" `ls -lh $i | cut -f 5  -d  \" \"`   >> $stdout;\n",
    "        echo \"output_rows:\" `zcat $i | wc -l  | cut -f 1 -d \" \"`   >> $stdout;\n",
    "        echo \"output_column:\" `zcat $i | grep -v \"##\"   | head -1 | wc -w `   >> $stdout;\n",
    "        echo \"output_headerow:\" `zcat $i | grep \"##\" | wc -l `   >> $stdout;\n",
    "        echo \"output_preview:\"   >> $stdout;\n",
    "        zcat $i  | grep -v \"##\" | head  | cut -f 1,2,3,4,5,6   >> $stdout ; done"
   ]
  },
  {
   "cell_type": "code",
   "execution_count": null,
   "id": "precise-surgery",
   "metadata": {
    "kernel": "SoS"
   },
   "outputs": [],
   "source": [
    "[phenotype_by_chrom_2]\n",
    "# Path to the input molecular phenotype data.\n",
    "input: group_by = \"all\"\n",
    "output: f'{cwd}/{name}.{step_name[:-2]}_files.txt'\n",
    "import pandas as pd\n",
    "chrom = [str(x).split(\".\")[-3].replace(\"chr\",\"\") for x in _input]\n",
    "chrom_df = pd.DataFrame({\"#id\" : chrom ,\"#dir\" : _input})\n",
    "chrom_df.to_csv(_output,index = 0,sep = \"\\t\")"
   ]
  },
  {
   "cell_type": "code",
   "execution_count": null,
   "id": "referenced-travel",
   "metadata": {
    "kernel": "SoS"
   },
   "outputs": [],
   "source": [
    "[phenotype_by_region_1]\n",
    "# An index text file with 4 columns specifying the chr, start, end and name of regions to analyze\n",
    "parameter: region_list = path\n",
    "regions = [x.strip().split() for x in open(region_list).readlines() if x.strip() and not x.strip().startswith('#')]\n",
    "# Get the unique chormosome that have regions to be analyzed.\n",
    "def extract_chrom(lst):\n",
    "    return list(set([item[0] for item in lst]))\n",
    "chrom = extract_chrom(regions)\n",
    "# Path to the input molecular phenotype data.\n",
    "input: phenoFile, for_each = \"regions\"\n",
    "output: f'{cwd}/{region_list:bn}_phenotype_by_region/{name}.{_regions[3]}.bed.gz'\n",
    "task: trunk_workers = 1, trunk_size = job_size, walltime = walltime,  mem = mem, tags = f'{step_name}_{_output:bn}'  \n",
    "bash: expand = \"$[ ]\", stderr = f'{_output:n}.stderr', stdout = f'{_output:n}.stdout',container = container, entrypoint=entrypoint\n",
    "    tabix -h  $[_input] $[_regions[0]]:$[_regions[1]]-$[_regions[2]] > $[_output:n]\n",
    "    bgzip -f $[_output:n]\n",
    "\n",
    "bash: expand= \"$[ ]\", stderr = f'{_output:n}.stderr', stdout = f'{_output:n}.stdout', container = container, entrypoint=entrypoint\n",
    "        for i in $[_output] ; do \n",
    "        echo \"output_info: $i \" \n",
    "        echo \"output_size:\" `ls -lh $i | cut -f 5  -d  \" \"` \n",
    "        echo \"output_rows:\" `zcat $i | wc -l  | cut -f 1 -d \" \"` \n",
    "        echo \"output_column:\" `zcat $i | grep -v \"##\"   | head -1 | wc -w `\n",
    "        echo \"output_headerow:\" `zcat $i | grep \"##\" | wc -l `\n",
    "        echo \"output_preview:\"\n",
    "        zcat $i  | grep -v \"##\" | head  | cut -f 1,2,3,4,5,6 ; done"
   ]
  },
  {
   "cell_type": "code",
   "execution_count": null,
   "id": "joint-appeal",
   "metadata": {
    "kernel": "SoS"
   },
   "outputs": [],
   "source": [
    "[phenotype_by_region_2]\n",
    "input: group_by = \"all\"\n",
    "output: f'{cwd}/{name}.{step_name[:-2]}_files.txt'\n",
    "import pandas as pd\n",
    "region_df = pd.DataFrame({\"#id\" :  [str(x).split(\".\")[-3] for x in _input]  ,\"dir\" : _input})\n",
    "region_df.to_csv(_output,index = 0,sep = \"\\t\")"
   ]
  },
  {
   "cell_type": "code",
   "execution_count": null,
   "id": "enhanced-raising",
   "metadata": {
    "kernel": "SoS"
   },
   "outputs": [],
   "source": [
    "[bam_subsetting]\n",
    "# Input to `samtools view` coordinates, for example, --region chr21 chr22\n",
    "parameter: region = list\n",
    "# Path to the input molecular phenotype data.\n",
    "parameter: phenoFile = paths\n",
    "input: phenoFile , group_by = 1\n",
    "output: f'{cwd}/{_input:bn}.subsetted.bam'\n",
    "task: trunk_workers = 1, trunk_size = job_size, walltime = walltime, mem = mem, cores = numThreads\n",
    "bash: expand= \"${ }\", stderr = f'{_output:n}.stderr', stdout = f'{_output:n}.stdout', container=container, entrypoint=entrypoint\n",
    "    samtools view -b ${_input} ${region} > ${_output}"
   ]
  },
  {
   "cell_type": "code",
   "execution_count": null,
   "id": "dressed-adult",
   "metadata": {
    "kernel": "SoS",
    "vscode": {
     "languageId": "plaintext"
    }
   },
   "outputs": [],
   "source": [
    "# Extract samples from expression data generated by RNASeQC\n",
    "[gct_extract_samples]\n",
    "parameter: keep_samples = path\n",
    "input: phenoFile\n",
    "output: f'{_input[0]:nn}.sample_matched.gct.gz'\n",
    "task: trunk_workers = 1, trunk_size = job_size, walltime = walltime, mem = mem, cores = numThreads, tags = f'{step_name}_{_output:bn}'\n",
    "R: expand = \"$[ ]\", stderr = f'{_output:nn}.stderr', stdout = f'{_output:nn}.stdout', container = container\n",
    "    library(\"dplyr\")\n",
    "    library(\"readr\")\n",
    "    phenoFile = read_delim($[_input[0]:ar], \"\\t\", col_names = T, comment = \"#\")\n",
    "    sample_lookup = read_delim($[keep_samples:ar], \"\\t\" ,col_names = T, comment = \"#\")\n",
    "    ## Make phenoFile consistant with sampleLookup, remove samples by select()\n",
    "    int = intersect(colnames(phenoFile),unlist(sample_lookup[,1]))\n",
    "    phenoFile_tmp = phenoFile%>%select(c(colnames(phenoFile)[1],all_of(int)))\n",
    "    ## Add 2 header lines, https://github.com/getzlab/rnaseqc/blob/286f99dfd4164d33014241dd4f3149da0cddf5bf/src/RNASeQC.cpp#L426\n",
    "    cat(paste(\"#1.2\\n#\", nrow(phenoFile_tmp), ncol(phenoFile_tmp) - 2, \"\\n\"), file=$[_output:nr], append=FALSE)\n",
    "    phenoFile_tmp%>%write_delim($[_output:nr],delim = \"\\t\",col_names = T, append = T)"
   ]
  }
 ],
 "metadata": {
  "kernelspec": {
   "display_name": "SoS",
   "language": "sos",
   "name": "sos"
  },
  "language_info": {
   "codemirror_mode": "sos",
   "file_extension": ".sos",
   "mimetype": "text/x-sos",
   "name": "sos",
   "nbconvert_exporter": "sos_notebook.converter.SoS_Exporter",
   "pygments_lexer": "sos"
  },
  "sos": {
   "kernels": [
    [
     "SoS",
     "sos",
     "",
     ""
    ]
   ],
   "version": "0.22.4"
  }
 },
 "nbformat": 4,
 "nbformat_minor": 5
}
