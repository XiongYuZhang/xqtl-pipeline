{
 "cells": [
  {
   "cell_type": "markdown",
   "id": "6400ed3e-7bb2-4249-a1cf-dce237199535",
   "metadata": {
    "kernel": "SoS"
   },
   "source": [
    "# INTACT pipeline\n",
    "run intact on the ptwas and fastenloc output"
   ]
  },
  {
   "cell_type": "markdown",
   "id": "44cf57c3-6eec-42d9-b614-019dd03f44b5",
   "metadata": {
    "kernel": "SoS"
   },
   "source": [
    "The posterior probabilities in the intact function are calculated through the following steps:\n",
    "\n",
    "- Compute Bayes Factors: The function converts TWAS z-scores into Bayes factors by computing a grid of Bayes factors using different values of `K` (a vector of values over which Bayesian model averaging is performed, default: c(1,2,4,8,16)), then performing Bayesian model averaging using the log sum exp trick. \n",
    "- Compute Prior Probabilities: The `prior_fun` function converts `GLCP` into prior probabilities. `prior_fun` is set as linear by default. \n",
    "- Compute Posterior Probabilities"
   ]
  },
  {
   "cell_type": "markdown",
   "id": "f409cd77",
   "metadata": {
    "kernel": "SoS"
   },
   "source": [
    "## Example\n",
    "We now run an example based on [example fastenloc and ptwas output from Tiffany, Montgomery lab]( https://github.com/tyeulalio/QTL_pipeline)\n"
   ]
  },
  {
   "cell_type": "code",
   "execution_count": null,
   "id": "04e8f585",
   "metadata": {
    "kernel": "Bash",
    "tags": [],
    "vscode": {
     "languageId": "shellscript"
    }
   },
   "outputs": [],
   "source": [
    "sos run pipeline/intact.ipynb intact \\\n",
    "    --fastenloc_file output/fastenloc/*enloc.gene.out \\\n",
    "    --ptwas_file output/ptwas/*.ptwas.output \\\n",
    "    --tissue DLPFC -s force"
   ]
  },
  {
   "cell_type": "code",
   "execution_count": null,
   "id": "81ab3ad3-6da8-4194-80e4-4921ce10cd0f",
   "metadata": {
    "kernel": "Bash",
    "tags": [],
    "vscode": {
     "languageId": "shellscript"
    }
   },
   "outputs": [],
   "source": [
    "sos run pipeline/intact.ipynb intact \\\n",
    "    --fastenloc_file output/fastenloc/*enloc.gene.out \\\n",
    "    --ptwas_file output/ptwas/test.output \\\n",
    "    --tissue DLPFC -s force"
   ]
  },
  {
   "cell_type": "code",
   "execution_count": null,
   "id": "728fec03",
   "metadata": {
    "kernel": "SoS"
   },
   "outputs": [],
   "source": [
    "[global]\n",
    "# Workdir\n",
    "parameter: cwd = path(\"output\")\n",
    "# fastenloc output\n",
    "parameter: fastenloc_file = \"\"\n",
    "# ptwas output\n",
    "parameter: ptwas_file = \"\"\n",
    "# dataset \n",
    "parameter: tissue = ''\n",
    "parameter: alpha = 0.05\n",
    "# QTL data type\n",
    "parameter: QTL = 'eQTL'\n",
    "parameter: container = ''\n",
    "parameter: entrypoint={('micromamba run -n' + ' ' + container.split('/')[-1][:-4]) if container.endswith('.sif') else f''}\n",
    "parameter: job_size = 1\n",
    "parameter: walltime = \"5h\"\n",
    "parameter: mem = \"8G\"\n",
    "parameter: numThreads = 1\n"
   ]
  },
  {
   "cell_type": "code",
   "execution_count": null,
   "id": "74c77d1b",
   "metadata": {
    "kernel": "SoS",
    "tags": []
   },
   "outputs": [],
   "source": [
    "[intact]\n",
    "input: ptwas_file, fastenloc_file\n",
    "output: f'{cwd}/{tissue}.INTACT.rds'\n",
    "task: trunk_workers = 1, trunk_size = job_size, walltime = walltime, mem = mem, cores = numThreads, tags = f'{step_name}_{_output:bn}'\n",
    "R: expand= \"${ }\", stderr = f'{_output:nn}.stderr', stdout = f'{_output:nn}.stdout'\n",
    "    library(INTACT)\n",
    "    #library(biomaRt)\n",
    "    library(tidyverse)\n",
    "\n",
    "    # run intact on the ptwas and colocalization output\n",
    "\n",
    "\n",
    "    run_intact <- function(ptwas, fastenloc, alpha){\n",
    "        # join the columns that we want\n",
    "        sub_ptwas <- ptwas %>%\n",
    "            select(gene=GENE, zscore=STAT)\n",
    "\n",
    "        # match the gene names \n",
    "        sub_fastenloc <- fastenloc %>%\n",
    "            select(gene=Gene, GLCP) %>%\n",
    "            mutate(gene = str_replace_all(gene, \"-\", \"\\\\.\"))\n",
    "\n",
    "        ptwas_fastenloc <- sub_ptwas %>%\n",
    "            inner_join(sub_fastenloc)\n",
    "\n",
    "        res <- intact(GLCP_vec=ptwas_fastenloc$GLCP,\n",
    "                    z_vec=ptwas_fastenloc$zscore,\n",
    "                    prior_fun=linear\n",
    "        )\n",
    "        pip_fdr <- fdr_rst(res, alpha)\n",
    "\n",
    "        # combine results\n",
    "        intact_res <- cbind(ptwas_fastenloc, intact_pip=res, fdr_sig = pip_fdr[[\"sig\"]]) %>%\n",
    "            arrange(-intact_pip)\n",
    "        return(intact_res)\n",
    "        \n",
    "    }\n",
    "\n",
    "\n",
    "        # load ptwas data\n",
    "        #ptwas <- read.csv(\"${ptwas_file}\",sep='\\t')\n",
    "        ptwas <- read.csv(\"${ptwas_file}\",sep='\\t', check.names = FALSE, row.names = NULL) %>%\n",
    "            distinct(GENE, SUBCLASS, .keep_all = TRUE)\n",
    "        # load fastenloc GLCP data\n",
    "        fastenloc <- read_table(\"${fastenloc_file}\") %>% filter(GLCP <= 1)##FIX\n",
    "\n",
    "        res <- run_intact(ptwas, fastenloc, alpha= '${alpha}')\n",
    "        saveRDS(res, \"${_output}\")\n",
    "\n"
   ]
  },
  {
   "cell_type": "code",
   "execution_count": null,
   "id": "3b106021-eeaf-401b-902f-ed55acbe0e15",
   "metadata": {
    "kernel": "SoS"
   },
   "outputs": [],
   "source": []
  }
 ],
 "metadata": {
  "kernelspec": {
   "display_name": "SoS",
   "language": "sos",
   "name": "sos"
  },
  "language_info": {
   "codemirror_mode": "sos",
   "file_extension": ".sos",
   "mimetype": "text/x-sos",
   "name": "sos",
   "nbconvert_exporter": "sos_notebook.converter.SoS_Exporter",
   "pygments_lexer": "sos"
  },
  "sos": {
   "kernels": [
    [
     "Bash",
     "bash",
     "Bash",
     "#E6EEFF",
     ""
    ],
    [
     "SoS",
     "sos",
     "",
     "",
     "sos"
    ]
   ],
   "version": "0.24.0"
  }
 },
 "nbformat": 4,
 "nbformat_minor": 5
}
