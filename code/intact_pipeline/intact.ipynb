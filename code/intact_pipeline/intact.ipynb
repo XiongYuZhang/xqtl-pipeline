{
 "cells": [
  {
   "cell_type": "markdown",
   "id": "6400ed3e-7bb2-4249-a1cf-dce237199535",
   "metadata": {
    "kernel": "SoS"
   },
   "source": [
    "# INTACT pipeline\n",
    "run intact on the ptwas and fastenloc output"
   ]
  },
  {
   "cell_type": "markdown",
   "id": "f409cd77",
   "metadata": {
    "kernel": "SoS"
   },
   "source": [
    "## Example\n",
    "We now run an example based on [example fastenloc and ptwas output from Tiffany, Montgomery lab]( https://github.com/tyeulalio/QTL_pipeline)\n"
   ]
  },
  {
   "cell_type": "code",
   "execution_count": null,
   "id": "04e8f585",
   "metadata": {
    "kernel": "Bash",
    "tags": [],
    "vscode": {
     "languageId": "shellscript"
    }
   },
   "outputs": [],
   "source": [
    "sos run pipeline/intact.ipynb intact \\\n",
    "    --fastenloc_file /mnt/vast/hpc/csg/rf2872/data/INTACT_test/04_colocalization/01_run_fastenloc/fastqtl_.enloc.gene.out \\\n",
    "    --ptwas_file /mnt/vast/hpc/csg/rf2872/data/INTACT_test/05_ptwas/04_ptwas_scan/all_chroms_ptwas_scan.stratified_out.txt \\\n",
    "    --tissue DLPFC"
   ]
  },
  {
   "cell_type": "code",
   "execution_count": null,
   "id": "728fec03",
   "metadata": {
    "kernel": "SoS"
   },
   "outputs": [],
   "source": [
    "[global]\n",
    "# Workdir\n",
    "parameter: cwd = path(\"output\")\n",
    "# fastenloc output\n",
    "parameter: fastenloc_file = \"\"\n",
    "# ptwas output\n",
    "parameter: ptwas_file = \"\"\n",
    "# dataset \n",
    "parameter: tissue = ''\n",
    "# QTL data type\n",
    "parameter: QTL = 'eQTL'\n",
    "parameter: container = ''\n",
    "parameter: entrypoint={('micromamba run -n' + ' ' + container.split('/')[-1][:-4]) if container.endswith('.sif') else f''}\n",
    "parameter: job_size = 1\n",
    "parameter: walltime = \"5h\"\n",
    "parameter: mem = \"8G\"\n",
    "parameter: numThreads = 1\n"
   ]
  },
  {
   "cell_type": "code",
   "execution_count": null,
   "id": "74c77d1b",
   "metadata": {
    "kernel": "SoS",
    "tags": []
   },
   "outputs": [],
   "source": [
    "[intact]\n",
    "input: ptwas_file, fastenloc_file\n",
    "output: f'{cwd}/{tissue}.INTACT.rds'\n",
    "task: trunk_workers = 1, trunk_size = job_size, walltime = walltime, mem = mem, cores = numThreads, tags = f'{step_name}_{_output:bn}'\n",
    "R: expand= \"${ }\", stderr = f'{_output:nn}.stderr', stdout = f'{_output:nn}.stdout'\n",
    "    library(INTACT)\n",
    "    #library(biomaRt)\n",
    "    library(tidyverse)\n",
    "\n",
    "    # run intact on the ptwas and colocalization output\n",
    "\n",
    "\n",
    "    run_intact <- function(ptwas, fastenloc){\n",
    "        # run intact\n",
    "        head(ptwas) \n",
    "        head(fastenloc)\n",
    "\n",
    "        summary(ptwas$stat)\n",
    "\n",
    "        # join the columns that we want\n",
    "        sub_ptwas <- ptwas %>%\n",
    "            select(gene, zscore=stat)\n",
    "        head(sub_ptwas)\n",
    "\n",
    "        # match the gene names \n",
    "        sub_fastenloc <- fastenloc %>%\n",
    "            select(gene=Gene, GLCP) %>%\n",
    "            mutate(gene = str_replace_all(gene, \"-\", \"\\\\.\"))\n",
    "        head(sub_fastenloc)\n",
    "\n",
    "        ptwas_fastenloc <- sub_ptwas %>%\n",
    "            inner_join(sub_fastenloc)\n",
    "        head(ptwas_fastenloc)\n",
    "        dim(ptwas_fastenloc)\n",
    "\n",
    "        res <- intact(GLCP_vec=ptwas_fastenloc$GLCP,\n",
    "                    z_vec=ptwas_fastenloc$zscore,\n",
    "                    prior_fun=linear\n",
    "        )\n",
    "        head(res)\n",
    "        summary(res)\n",
    "\n",
    "        # combine results\n",
    "        intact_res <- cbind(ptwas_fastenloc, intact_pip=res) %>%\n",
    "            arrange(-intact_pip)\n",
    "        head(intact_res)\n",
    "        return(intact_res)\n",
    "        \n",
    "    }\n",
    "\n",
    "\n",
    "        # load ptwas data\n",
    "        ptwas <- read_table(\"${ptwas_file}\")\n",
    "        # load fastenloc GLCP data\n",
    "        fastenloc <- read_table(\"${fastenloc_file}\")\n",
    "\n",
    "        res <- run_intact(ptwas, fastenloc)\n",
    "        saveRDS(res, \"${_output}\")\n",
    "\n"
   ]
  }
 ],
 "metadata": {
  "kernelspec": {
   "display_name": "SoS",
   "language": "sos",
   "name": "sos"
  },
  "language_info": {
   "codemirror_mode": "sos",
   "file_extension": ".sos",
   "mimetype": "text/x-sos",
   "name": "sos",
   "nbconvert_exporter": "sos_notebook.converter.SoS_Exporter",
   "pygments_lexer": "sos"
  },
  "sos": {
   "kernels": [
    [
     "Bash",
     "bash",
     "Bash",
     "#E6EEFF",
     ""
    ],
    [
     "SoS",
     "sos",
     "",
     "",
     "sos"
    ]
   ],
   "version": "0.24.0"
  }
 },
 "nbformat": 4,
 "nbformat_minor": 5
}
